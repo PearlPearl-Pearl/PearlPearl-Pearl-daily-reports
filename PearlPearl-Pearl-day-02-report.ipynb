{
 "cells": [
  {
   "cell_type": "markdown",
   "id": "positive-compiler",
   "metadata": {},
   "source": [
    "## <center><b style=\"color:orange;\">Python Proficiency for Scientific Computing and Data Science (PyPro - SciDaS)</b></center>\n",
    "\n",
    "#### <center><b style=\"color:green;\">An Initiation to Programming using Python</b></center>\n",
    "\n",
    "<!-- 5 hashtags italize the text -->"
   ]
  },
  {
   "cell_type": "code",
   "execution_count": null,
   "id": "improved-chile",
   "metadata": {},
   "outputs": [],
   "source": [
    "type(help)"
   ]
  },
  {
   "cell_type": "code",
   "execution_count": null,
   "id": "floral-punch",
   "metadata": {},
   "outputs": [],
   "source": [
    "help(type)"
   ]
  },
  {
   "cell_type": "code",
   "execution_count": null,
   "id": "advisory-citation",
   "metadata": {},
   "outputs": [],
   "source": [
    "# %reset -f"
   ]
  },
  {
   "cell_type": "code",
   "execution_count": 6,
   "id": "surprised-boulder",
   "metadata": {},
   "outputs": [],
   "source": [
    "some_string = \"It's my own string\""
   ]
  },
  {
   "cell_type": "code",
   "execution_count": 9,
   "id": "cooked-newport",
   "metadata": {},
   "outputs": [
    {
     "name": "stdout",
     "output_type": "stream",
     "text": [
      "Once deleted, variables cannot be recovered. Proceed (y/[n])? y\n"
     ]
    }
   ],
   "source": [
    "%reset"
   ]
  },
  {
   "cell_type": "code",
   "execution_count": 10,
   "id": "backed-cherry",
   "metadata": {},
   "outputs": [
    {
     "ename": "NameError",
     "evalue": "name 'some_string' is not defined",
     "output_type": "error",
     "traceback": [
      "\u001b[0;31m---------------------------------------------------------------------------\u001b[0m",
      "\u001b[0;31mNameError\u001b[0m                                 Traceback (most recent call last)",
      "\u001b[0;32m<ipython-input-10-96da44efd82b>\u001b[0m in \u001b[0;36m<module>\u001b[0;34m\u001b[0m\n\u001b[0;32m----> 1\u001b[0;31m \u001b[0mprint\u001b[0m\u001b[0;34m(\u001b[0m\u001b[0msome_string\u001b[0m\u001b[0;34m)\u001b[0m\u001b[0;34m\u001b[0m\u001b[0;34m\u001b[0m\u001b[0m\n\u001b[0m",
      "\u001b[0;31mNameError\u001b[0m: name 'some_string' is not defined"
     ]
    }
   ],
   "source": [
    "print(some_string)"
   ]
  },
  {
   "cell_type": "code",
   "execution_count": 20,
   "id": "documented-prague",
   "metadata": {},
   "outputs": [
    {
     "data": {
      "text/plain": [
       "True"
      ]
     },
     "execution_count": 20,
     "metadata": {},
     "output_type": "execute_result"
    }
   ],
   "source": [
    "first_int = 2\n",
    "second_int = first_int\n",
    "\n",
    "first_int == second_int"
   ]
  },
  {
   "cell_type": "code",
   "execution_count": 31,
   "id": "floppy-omega",
   "metadata": {},
   "outputs": [
    {
     "data": {
      "text/plain": [
       "'The is operator checks if variables are pointing to the same memory location\\nIf they are it returns True. While the equality comparison operator\\nonly checks if the 2 values are the same\\n'"
      ]
     },
     "execution_count": 31,
     "metadata": {},
     "output_type": "execute_result"
    }
   ],
   "source": [
    "first_int is second_int\n",
    "\n",
    "\"\"\"The is operator checks if variables are pointing to the same memory location\n",
    "If they are it returns True. While the equality comparison operator\n",
    "only checks if the 2 values are the same\n",
    "\"\"\""
   ]
  },
  {
   "cell_type": "code",
   "execution_count": 19,
   "id": "serious-australian",
   "metadata": {},
   "outputs": [
    {
     "name": "stdout",
     "output_type": "stream",
     "text": [
      "['__abs__', '__add__', '__and__', '__bool__', '__ceil__', '__class__', '__delattr__', '__dir__', '__divmod__', '__doc__', '__eq__', '__float__', '__floor__', '__floordiv__', '__format__', '__ge__', '__getattribute__', '__getnewargs__', '__gt__', '__hash__', '__index__', '__init__', '__init_subclass__', '__int__', '__invert__', '__le__', '__lshift__', '__lt__', '__mod__', '__mul__', '__ne__', '__neg__', '__new__', '__or__', '__pos__', '__pow__', '__radd__', '__rand__', '__rdivmod__', '__reduce__', '__reduce_ex__', '__repr__', '__rfloordiv__', '__rlshift__', '__rmod__', '__rmul__', '__ror__', '__round__', '__rpow__', '__rrshift__', '__rshift__', '__rsub__', '__rtruediv__', '__rxor__', '__setattr__', '__sizeof__', '__str__', '__sub__', '__subclasshook__', '__truediv__', '__trunc__', '__xor__', 'as_integer_ratio', 'bit_length', 'conjugate', 'denominator', 'from_bytes', 'imag', 'numerator', 'real', 'to_bytes']\n"
     ]
    }
   ],
   "source": [
    "print(dir(first_int))"
   ]
  },
  {
   "cell_type": "code",
   "execution_count": 30,
   "id": "eastern-ireland",
   "metadata": {},
   "outputs": [
    {
     "name": "stdout",
     "output_type": "stream",
     "text": [
      "<class 'float'>\n",
      "<class 'float'>\n",
      "<class 'int'>\n",
      "<class 'int'>\n",
      "<class 'int'>\n",
      "<class 'int'>\n"
     ]
    }
   ],
   "source": [
    "x = 4\n",
    "y = 5\n",
    "\n",
    "print(type(x/4))\n",
    "print(type(x*4.0))\n",
    "print(type(x*4))\n",
    "\n",
    "print(type(x**4))\n",
    "print(type(x%4))\n",
    "print(type(x//4))"
   ]
  },
  {
   "cell_type": "code",
   "execution_count": 32,
   "id": "amateur-simulation",
   "metadata": {},
   "outputs": [
    {
     "data": {
      "text/plain": [
       "False"
      ]
     },
     "execution_count": 32,
     "metadata": {},
     "output_type": "execute_result"
    }
   ],
   "source": [
    "x == y"
   ]
  },
  {
   "cell_type": "code",
   "execution_count": 39,
   "id": "parallel-neutral",
   "metadata": {},
   "outputs": [
    {
     "data": {
      "text/plain": [
       "\"It's my own string Hi Pearl\""
      ]
     },
     "execution_count": 39,
     "metadata": {},
     "output_type": "execute_result"
    }
   ],
   "source": [
    "some_string = \"It's my own string\"\n",
    "another_string = \" Hi Pearl\"\n",
    "\n",
    "some_string + another_string\n",
    "# some_string * another_string #Not possible in python\n",
    "# some_string - another_string #Not possible in python\n",
    "\n",
    "# some_string ** another_string"
   ]
  },
  {
   "cell_type": "code",
   "execution_count": 54,
   "id": "changing-picking",
   "metadata": {},
   "outputs": [],
   "source": [
    "list_1 = [1, 34, 52, 'Slt']\n",
    "list_2 = [0, 3, 209, 4025, 554, 6, 1]\n",
    "list_3 = [0, 53, 562, 'rdv', [17, \"l\", 298, 43]]"
   ]
  },
  {
   "cell_type": "code",
   "execution_count": 42,
   "id": "medieval-facing",
   "metadata": {},
   "outputs": [
    {
     "name": "stdout",
     "output_type": "stream",
     "text": [
      "['__add__', '__class__', '__class_getitem__', '__contains__', '__delattr__', '__delitem__', '__dir__', '__doc__', '__eq__', '__format__', '__ge__', '__getattribute__', '__getitem__', '__gt__', '__hash__', '__iadd__', '__imul__', '__init__', '__init_subclass__', '__iter__', '__le__', '__len__', '__lt__', '__mul__', '__ne__', '__new__', '__reduce__', '__reduce_ex__', '__repr__', '__reversed__', '__rmul__', '__setattr__', '__setitem__', '__sizeof__', '__str__', '__subclasshook__', 'append', 'clear', 'copy', 'count', 'extend', 'index', 'insert', 'pop', 'remove', 'reverse', 'sort']\n"
     ]
    }
   ],
   "source": [
    "print(dir(list_1))"
   ]
  },
  {
   "cell_type": "code",
   "execution_count": 45,
   "id": "grand-booth",
   "metadata": {},
   "outputs": [
    {
     "data": {
      "text/plain": [
       "1"
      ]
     },
     "execution_count": 45,
     "metadata": {},
     "output_type": "execute_result"
    }
   ],
   "source": [
    "list_1.pop()\n",
    "list_2.pop()"
   ]
  },
  {
   "cell_type": "code",
   "execution_count": 47,
   "id": "hidden-checkout",
   "metadata": {},
   "outputs": [
    {
     "data": {
      "text/plain": [
       "[1, 34]"
      ]
     },
     "execution_count": 47,
     "metadata": {},
     "output_type": "execute_result"
    }
   ],
   "source": [
    "str(list_1)\n",
    "list_1"
   ]
  },
  {
   "cell_type": "code",
   "execution_count": 58,
   "id": "intended-retrieval",
   "metadata": {},
   "outputs": [
    {
     "data": {
      "text/plain": [
       "int"
      ]
     },
     "execution_count": 58,
     "metadata": {},
     "output_type": "execute_result"
    }
   ],
   "source": [
    "# list_2 = \n",
    "list_2.sort()\n",
    "type(list_2.pop())"
   ]
  },
  {
   "cell_type": "code",
   "execution_count": 56,
   "id": "provincial-italy",
   "metadata": {},
   "outputs": [
    {
     "data": {
      "text/plain": [
       "[0, 1, 3, 6, 209, 554, 4025]"
      ]
     },
     "execution_count": 56,
     "metadata": {},
     "output_type": "execute_result"
    }
   ],
   "source": [
    "list_2"
   ]
  },
  {
   "cell_type": "code",
   "execution_count": 60,
   "id": "available-letters",
   "metadata": {},
   "outputs": [
    {
     "data": {
      "text/plain": [
       "'r'"
      ]
     },
     "execution_count": 60,
     "metadata": {},
     "output_type": "execute_result"
    }
   ],
   "source": [
    "list_3[-2][0]"
   ]
  },
  {
   "cell_type": "code",
   "execution_count": 64,
   "id": "intense-trick",
   "metadata": {},
   "outputs": [
    {
     "data": {
      "text/plain": [
       "[209]"
      ]
     },
     "execution_count": 64,
     "metadata": {},
     "output_type": "execute_result"
    }
   ],
   "source": [
    "list_2[::-5]"
   ]
  },
  {
   "cell_type": "code",
   "execution_count": 62,
   "id": "played-partner",
   "metadata": {},
   "outputs": [
    {
     "data": {
      "text/plain": [
       "[0, 1, 3, 6, 209]"
      ]
     },
     "execution_count": 62,
     "metadata": {},
     "output_type": "execute_result"
    }
   ],
   "source": [
    "list_2"
   ]
  },
  {
   "cell_type": "code",
   "execution_count": 65,
   "id": "central-resident",
   "metadata": {},
   "outputs": [
    {
     "data": {
      "text/plain": [
       "False"
      ]
     },
     "execution_count": 65,
     "metadata": {},
     "output_type": "execute_result"
    }
   ],
   "source": [
    "list_2[::-1] == list_2.sort()"
   ]
  },
  {
   "cell_type": "code",
   "execution_count": 67,
   "id": "amazing-football",
   "metadata": {},
   "outputs": [
    {
     "name": "stdout",
     "output_type": "stream",
     "text": [
      "[209, 6, 3, 1, 0]\n"
     ]
    }
   ],
   "source": [
    "print(list_2[::-1])\n"
   ]
  },
  {
   "cell_type": "code",
   "execution_count": 69,
   "id": "stable-idaho",
   "metadata": {},
   "outputs": [
    {
     "name": "stdout",
     "output_type": "stream",
     "text": [
      "[333, 276, 4827, 187, 984, 7, 8, 9]\n"
     ]
    }
   ],
   "source": [
    "List = [333,276,4827,187,984]\n",
    "List.extend([7,8,9])\n",
    "print(List)"
   ]
  },
  {
   "cell_type": "code",
   "execution_count": 70,
   "id": "divided-primary",
   "metadata": {},
   "outputs": [
    {
     "name": "stdout",
     "output_type": "stream",
     "text": [
      "[333, 276, 4827, 187, 984, 7, 8, 9, [10, 11, 12]]\n"
     ]
    }
   ],
   "source": [
    "List.append([10,11,12])\n",
    "print(List)"
   ]
  },
  {
   "cell_type": "code",
   "execution_count": 71,
   "id": "genuine-morrison",
   "metadata": {},
   "outputs": [
    {
     "data": {
      "text/plain": [
       "float"
      ]
     },
     "execution_count": 71,
     "metadata": {},
     "output_type": "execute_result"
    }
   ],
   "source": [
    "x = 5\n",
    "y = 3.2\n",
    "\n",
    "type(x+y)"
   ]
  },
  {
   "cell_type": "code",
   "execution_count": 91,
   "id": "expanded-relay",
   "metadata": {},
   "outputs": [
    {
     "data": {
      "text/plain": [
       "3"
      ]
     },
     "execution_count": 91,
     "metadata": {},
     "output_type": "execute_result"
    }
   ],
   "source": [
    "first_y = ' 3.2 '\n",
    "second_y = '3.0'\n",
    "some_y = '3'\n",
    "int(some_y)"
   ]
  },
  {
   "cell_type": "code",
   "execution_count": 92,
   "id": "going-denver",
   "metadata": {},
   "outputs": [
    {
     "data": {
      "text/plain": [
       "3"
      ]
     },
     "execution_count": 92,
     "metadata": {},
     "output_type": "execute_result"
    }
   ],
   "source": [
    "int(float(first_y))"
   ]
  },
  {
   "cell_type": "code",
   "execution_count": 93,
   "id": "continuous-fishing",
   "metadata": {},
   "outputs": [
    {
     "data": {
      "text/plain": [
       "3.0"
      ]
     },
     "execution_count": 93,
     "metadata": {},
     "output_type": "execute_result"
    }
   ],
   "source": [
    "float(second_y)"
   ]
  },
  {
   "cell_type": "code",
   "execution_count": 94,
   "id": "nuclear-detector",
   "metadata": {
    "scrolled": true
   },
   "outputs": [
    {
     "name": "stdout",
     "output_type": "stream",
     "text": [
      "['__add__', '__class__', '__contains__', '__delattr__', '__dir__', '__doc__', '__eq__', '__format__', '__ge__', '__getattribute__', '__getitem__', '__getnewargs__', '__gt__', '__hash__', '__init__', '__init_subclass__', '__iter__', '__le__', '__len__', '__lt__', '__mod__', '__mul__', '__ne__', '__new__', '__reduce__', '__reduce_ex__', '__repr__', '__rmod__', '__rmul__', '__setattr__', '__sizeof__', '__str__', '__subclasshook__', 'capitalize', 'casefold', 'center', 'count', 'encode', 'endswith', 'expandtabs', 'find', 'format', 'format_map', 'index', 'isalnum', 'isalpha', 'isascii', 'isdecimal', 'isdigit', 'isidentifier', 'islower', 'isnumeric', 'isprintable', 'isspace', 'istitle', 'isupper', 'join', 'ljust', 'lower', 'lstrip', 'maketrans', 'partition', 'removeprefix', 'removesuffix', 'replace', 'rfind', 'rindex', 'rjust', 'rpartition', 'rsplit', 'rstrip', 'split', 'splitlines', 'startswith', 'strip', 'swapcase', 'title', 'translate', 'upper', 'zfill']\n"
     ]
    }
   ],
   "source": [
    "print((dir(first_y)))"
   ]
  },
  {
   "cell_type": "code",
   "execution_count": 95,
   "id": "executed-anime",
   "metadata": {},
   "outputs": [
    {
     "data": {
      "text/plain": [
       "'3.2 '"
      ]
     },
     "execution_count": 95,
     "metadata": {},
     "output_type": "execute_result"
    }
   ],
   "source": [
    "first_y.lstrip()"
   ]
  },
  {
   "cell_type": "code",
   "execution_count": 96,
   "id": "aging-canon",
   "metadata": {},
   "outputs": [
    {
     "data": {
      "text/plain": [
       "' 3.2'"
      ]
     },
     "execution_count": 96,
     "metadata": {},
     "output_type": "execute_result"
    }
   ],
   "source": [
    "first_y.rstrip()"
   ]
  },
  {
   "cell_type": "code",
   "execution_count": 97,
   "id": "included-symphony",
   "metadata": {},
   "outputs": [
    {
     "name": "stdout",
     "output_type": "stream",
     "text": [
      "Enter first number: 1\n",
      "Enter second number: 2\n",
      "Final result is:  3.0\n"
     ]
    }
   ],
   "source": [
    "# Accept one integer and one float number from the user and calculate the addition of both the numbers.\n",
    "num1 = int(input(\"Enter first number: \"))\n",
    "num2 = float(input(\"Enter second number: \"))\n",
    "\n",
    "result=(num1+num2)\n",
    "print(\"Final result is: \", result)"
   ]
  },
  {
   "cell_type": "code",
   "execution_count": 99,
   "id": "wooden-communications",
   "metadata": {},
   "outputs": [
    {
     "name": "stdout",
     "output_type": "stream",
     "text": [
      "Enter first number: 1\n",
      "Enter second number: 2\n",
      "Enter third number: 3\n",
      "\n",
      "\n",
      "First Number:  1\n",
      "Second Number:  2\n",
      "Third Number:  3\n",
      "Final result is:  9\n"
     ]
    }
   ],
   "source": [
    "num1 = int(input(\"Enter first number: \"))   # converting input value to integer\n",
    "num2 = int(input(\"Enter second number: \"))  # converting input value to integer\n",
    "num3 = int(input(\"Enter third number: \"))   # converting input value to integer\n",
    "\n",
    "print(\"\\n\")\n",
    "print(\"First Number: \", num1)\n",
    "print(\"Second Number: \", num2)\n",
    "print(\"Third Number: \", num3)\n",
    "\n",
    "result=(num1+num2)*num3\n",
    "print(\"Final result is: \", result)"
   ]
  },
  {
   "cell_type": "code",
   "execution_count": 100,
   "id": "processed-syndication",
   "metadata": {},
   "outputs": [
    {
     "name": "stdout",
     "output_type": "stream",
     "text": [
      "Enter first number: 1\n",
      "Enter second number: 2\n",
      "Enter third number: 3\n",
      "Enter fourth number: 6\n",
      "\n",
      "\n",
      "First Number:  1\n",
      "Second Number:  2\n",
      "Third Number:  3\n",
      "Fourth number:  6\n",
      "Final result is:  6.666666666666667\n"
     ]
    }
   ],
   "source": [
    "num1 = int(input(\"Enter first number: \"))\n",
    "num2 = int(input(\"Enter second number: \"))\n",
    "num3 = int(input(\"Enter third number: \"))\n",
    "num4 = int(input(\"Enter fourth number: \"))\n",
    "\n",
    "print(\"\\n\")\n",
    "print(\"First Number: \", num1)\n",
    "print(\"Second Number: \", num2)\n",
    "print(\"Third Number: \", num3)\n",
    "print(\"Fourth number: \", num4)\n",
    "\n",
    "result=(num1*num4)+(num2/num3)\n",
    "print(\"Final result is: \", result)"
   ]
  },
  {
   "cell_type": "code",
   "execution_count": 101,
   "id": "driven-denmark",
   "metadata": {},
   "outputs": [
    {
     "name": "stdout",
     "output_type": "stream",
     "text": [
      "Enter float number: 1\n",
      "\n",
      "\n",
      "input float number is:  1.0\n",
      "type is: <class 'float'>\n"
     ]
    }
   ],
   "source": [
    "# Let’s see how to accept float value from a user in Python.\n",
    "# You need to convert user input to the float number using\n",
    "# the **`float()`** function as we did for the integer value.\n",
    "float_number = float(input(\"Enter float number: \"))  # converting input value to float\n",
    "print(\"\\n\")\n",
    "print(\"input float number is: \", float_number)\n",
    "print(\"type is:\", type(float_number))"
   ]
  },
  {
   "cell_type": "code",
   "execution_count": null,
   "id": "brutal-holly",
   "metadata": {},
   "outputs": [],
   "source": []
  }
 ],
 "metadata": {
  "kernelspec": {
   "display_name": "Python 3",
   "language": "python",
   "name": "python3"
  },
  "language_info": {
   "codemirror_mode": {
    "name": "ipython",
    "version": 3
   },
   "file_extension": ".py",
   "mimetype": "text/x-python",
   "name": "python",
   "nbconvert_exporter": "python",
   "pygments_lexer": "ipython3",
   "version": "3.9.2"
  }
 },
 "nbformat": 4,
 "nbformat_minor": 5
}
