{
 "cells": [
  {
   "cell_type": "markdown",
   "id": "c85079f5-671e-4e2a-bc90-5737bdda64ed",
   "metadata": {},
   "source": [
    "## <center style=\"color:green;\">Pearl Kuuridong</center>\n",
    "#### <center style=\"color:orange;\">Daily Python Report</center>"
   ]
  },
  {
   "cell_type": "markdown",
   "id": "da3bc093-f508-438f-af4b-201a3790a696",
   "metadata": {},
   "source": [
    "### Functions"
   ]
  },
  {
   "cell_type": "markdown",
   "id": "958c0de8-d413-4b21-b52f-d48ab9cb42e2",
   "metadata": {},
   "source": [
    "Two kinds of functions exist in Python:\n",
    "1. Built-in functions\n",
    "2. User-defined functions"
   ]
  },
  {
   "cell_type": "code",
   "execution_count": 9,
   "id": "129710fb-65fd-43b5-b64f-366405e3cc4f",
   "metadata": {},
   "outputs": [],
   "source": [
    "def print_multiples_of_eight():\n",
    "    \"\"\"This function prints the first 20 multiples of 8\"\"\"\n",
    "    for i in range(1,21):\n",
    "        print(f\"8 x {i:<2} = {(8*i):<2}\")"
   ]
  },
  {
   "cell_type": "code",
   "execution_count": 10,
   "id": "07de852b-8285-482d-8bfa-279776d47cf8",
   "metadata": {},
   "outputs": [
    {
     "name": "stdout",
     "output_type": "stream",
     "text": [
      "8 x 1  = 8 \n",
      "8 x 2  = 16\n",
      "8 x 3  = 24\n",
      "8 x 4  = 32\n",
      "8 x 5  = 40\n",
      "8 x 6  = 48\n",
      "8 x 7  = 56\n",
      "8 x 8  = 64\n",
      "8 x 9  = 72\n",
      "8 x 10 = 80\n",
      "8 x 11 = 88\n",
      "8 x 12 = 96\n",
      "8 x 13 = 104\n",
      "8 x 14 = 112\n",
      "8 x 15 = 120\n",
      "8 x 16 = 128\n",
      "8 x 17 = 136\n",
      "8 x 18 = 144\n",
      "8 x 19 = 152\n",
      "8 x 20 = 160\n"
     ]
    }
   ],
   "source": [
    "print_multiples_of_eight()"
   ]
  },
  {
   "cell_type": "code",
   "execution_count": 20,
   "id": "9fa840c1-cde1-45ae-bef4-8160bb01009b",
   "metadata": {},
   "outputs": [],
   "source": [
    "def multiplication_table_for(n):\n",
    "    \"\"\"\n",
    "    This function prints the multiplication table for the first 20 multiples of n.\n",
    "    This implementation is with a for loop.\n",
    "    Input: integer (n).\n",
    "    Output: Prints the first 20 multiples of n.\n",
    "    \"\"\"\n",
    "    print(f'This is the multiplication table for {n}')\n",
    "    print('='*50)\n",
    "    for i in range(1, 21):\n",
    "        value = n*i\n",
    "        print(f\"{n} x {i:<2} = {value}\")\n",
    "    print('='*50)"
   ]
  },
  {
   "cell_type": "code",
   "execution_count": 21,
   "id": "0d3a2985-b073-4354-96a5-7baf348618bb",
   "metadata": {},
   "outputs": [
    {
     "name": "stdout",
     "output_type": "stream",
     "text": [
      "This is the multiplication table for 5\n",
      "==================================================\n",
      "5 x 1  = 5\n",
      "5 x 2  = 10\n",
      "5 x 3  = 15\n",
      "5 x 4  = 20\n",
      "5 x 5  = 25\n",
      "5 x 6  = 30\n",
      "5 x 7  = 35\n",
      "5 x 8  = 40\n",
      "5 x 9  = 45\n",
      "5 x 10 = 50\n",
      "5 x 11 = 55\n",
      "5 x 12 = 60\n",
      "5 x 13 = 65\n",
      "5 x 14 = 70\n",
      "5 x 15 = 75\n",
      "5 x 16 = 80\n",
      "5 x 17 = 85\n",
      "5 x 18 = 90\n",
      "5 x 19 = 95\n",
      "5 x 20 = 100\n",
      "==================================================\n"
     ]
    }
   ],
   "source": [
    "multiplication_table_for(5)"
   ]
  },
  {
   "cell_type": "code",
   "execution_count": 24,
   "id": "67c0b375-2cda-4fda-b8ec-074ac5b0f3cc",
   "metadata": {},
   "outputs": [],
   "source": [
    "def multiplication_table_while(n):\n",
    "    \"\"\"\n",
    "    This function prints the multiplication table for the first 20 multiples of n.\n",
    "    This implementation is with a while loop.\n",
    "    Input: integer (n).\n",
    "    Output: Prints the first 20 multiples of n.\n",
    "    \"\"\"\n",
    "\n",
    "    i = 1\n",
    "    print(f'This is the multiplication table for {n}')\n",
    "    print('='*50)\n",
    "    while i<=20:\n",
    "        value = n*i\n",
    "        print(f\"{n} x {i:<2} = {value}\")\n",
    "        i += 1\n",
    "    print('='*50)"
   ]
  },
  {
   "cell_type": "code",
   "execution_count": 25,
   "id": "067565ec-e5bd-4a0c-83d6-efdb19e2c474",
   "metadata": {},
   "outputs": [
    {
     "name": "stdout",
     "output_type": "stream",
     "text": [
      "This is the multiplication table for 5\n",
      "==================================================\n",
      "5 x 1  = 5\n",
      "5 x 2  = 10\n",
      "5 x 3  = 15\n",
      "5 x 4  = 20\n",
      "5 x 5  = 25\n",
      "5 x 6  = 30\n",
      "5 x 7  = 35\n",
      "5 x 8  = 40\n",
      "5 x 9  = 45\n",
      "5 x 10 = 50\n",
      "5 x 11 = 55\n",
      "5 x 12 = 60\n",
      "5 x 13 = 65\n",
      "5 x 14 = 70\n",
      "5 x 15 = 75\n",
      "5 x 16 = 80\n",
      "5 x 17 = 85\n",
      "5 x 18 = 90\n",
      "5 x 19 = 95\n",
      "5 x 20 = 100\n",
      "==================================================\n"
     ]
    }
   ],
   "source": [
    "multiplication_table_while(5)"
   ]
  },
  {
   "cell_type": "code",
   "execution_count": 26,
   "id": "02022445-ffcd-4462-8b9a-c3027a48acec",
   "metadata": {},
   "outputs": [],
   "source": [
    "def my_sum(a,b):\n",
    "    return a+b"
   ]
  },
  {
   "cell_type": "code",
   "execution_count": 28,
   "id": "f84aa754-8cea-4116-b596-519da87e2ff6",
   "metadata": {},
   "outputs": [
    {
     "name": "stdout",
     "output_type": "stream",
     "text": [
      "1\n",
      "2\n",
      "3\n",
      "4\n",
      "5\n",
      "6\n",
      "7\n",
      "8\n",
      "9\n",
      "1\n",
      "3\n",
      "4\n",
      "5\n",
      "6\n",
      "7\n",
      "8\n",
      "9\n",
      "10\n",
      "2\n",
      "3\n",
      "5\n",
      "6\n",
      "7\n",
      "8\n",
      "9\n",
      "10\n",
      "11\n",
      "3\n",
      "4\n",
      "5\n",
      "7\n",
      "8\n",
      "9\n",
      "10\n",
      "11\n",
      "12\n",
      "4\n",
      "5\n",
      "6\n",
      "7\n",
      "9\n",
      "10\n",
      "11\n",
      "12\n",
      "13\n",
      "5\n",
      "6\n",
      "7\n",
      "8\n",
      "9\n",
      "11\n",
      "12\n",
      "13\n",
      "14\n",
      "6\n",
      "7\n",
      "8\n",
      "9\n",
      "10\n",
      "11\n",
      "13\n",
      "14\n",
      "15\n",
      "7\n",
      "8\n",
      "9\n",
      "10\n",
      "11\n",
      "12\n",
      "13\n",
      "15\n",
      "16\n",
      "8\n",
      "9\n",
      "10\n",
      "11\n",
      "12\n",
      "13\n",
      "14\n",
      "15\n",
      "17\n",
      "9\n",
      "10\n",
      "11\n",
      "12\n",
      "13\n",
      "14\n",
      "15\n",
      "16\n",
      "17\n"
     ]
    }
   ],
   "source": [
    "my_list = range(10)\n",
    "for i in my_list:\n",
    "    for j in my_list:\n",
    "        if i!=j:\n",
    "            print(my_sum(i,j))"
   ]
  },
  {
   "cell_type": "code",
   "execution_count": null,
   "id": "ab8c9aa5-b21b-43a2-9ec0-f95149301e70",
   "metadata": {},
   "outputs": [],
   "source": [
    "my_func = lambda x: x"
   ]
  }
 ],
 "metadata": {
  "kernelspec": {
   "display_name": "Python 3 (ipykernel)",
   "language": "python",
   "name": "python3"
  },
  "language_info": {
   "codemirror_mode": {
    "name": "ipython",
    "version": 3
   },
   "file_extension": ".py",
   "mimetype": "text/x-python",
   "name": "python",
   "nbconvert_exporter": "python",
   "pygments_lexer": "ipython3",
   "version": "3.12.10"
  }
 },
 "nbformat": 4,
 "nbformat_minor": 5
}
