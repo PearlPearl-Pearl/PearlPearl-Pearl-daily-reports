{
 "cells": [
  {
   "cell_type": "markdown",
   "metadata": {
    "id": "Xu9M_kjY-rAo"
   },
   "source": [
    "# Lecture 3: Iterable Objects or Containers"
   ]
  },
  {
   "cell_type": "markdown",
   "metadata": {
    "id": "d2ctw_CB-rA0"
   },
   "source": [
    "### <left> <b> <span style=\"color:brown;\"> Objective: </span> </b></left>\n",
    "\n",
    "This lecture aims to present `iterable objects` and `containers`, focusing on `lists`, `tuples`, `dictionaries`, and `sets`. We will review some of the most commonly encountered operations with these data structures, particularly in data organization and retrieval tasks. Additionally, we will explore how to use `lists`, `tuples`, `dictionaries`, and `sets` to efficiently store and manage collections of data.\n",
    "****"
   ]
  },
  {
   "cell_type": "markdown",
   "metadata": {
    "id": "d_wvIhBW-rA3"
   },
   "source": [
    "As mentioned in previous sections, a Python program always operates based on the manipulation of objects. The instructions (whether defined in a free code, within an if clause, or in a while or for loop) are always executed on objects. Variables, as previously discussed, represent a particular type of Python object. In general, instructions in a Python program are defined from a collection of objects that come in various forms of value sequences. This sequence of values can, for example, consist of a set of variables with a single value. This ultimately means that a variable defined by a single value is generally not sufficient to form the architecture of a program. In the Python language, we have:\n",
    "\n",
    "   - A **list** object is a sequence of values (numerical and/or characters) that are **indexed** and specified within **square brackets**, separated by commas. Example:\n",
    "      ```python\n",
    "         x = [1, 5, 8, 10, 4, 50, 8] # List consisting only of numbers\n",
    "         y = [\"Olivier\", \"ENGEL\", \"Strasbourg\"] # List consisting only of characters\n",
    "         z = [1, \"Olivier\", 5, 8, \"ENGEL\", 10, 4, 50, \"Strasbourg\"] # List consisting of both numbers and characters.\n",
    "       \n",
    "      ```\n",
    "     A list object can be generated manually by specifying the values within square brackets or automatically using the `list()` function.\n",
    "      ```python\n",
    "        x = list(range(1, 10))\n",
    "        print(x) # returns [1, 2, 3, 4, 5, 6, 7, 8, 9]\n",
    "     ```\n",
    "   - A **tuple** object is a sequence of values (numerical and/or characters) that are **indexed** and specified within **parentheses**, separated by commas. Example:\n",
    "      ```python\n",
    "         x = (1, 5, 8, 10, 4, 50, 8) # Tuple consisting only of numbers\n",
    "         y = (\"Olivier\", \"ENGEL\", \"Strasbourg\") # Tuple consisting only of characters\n",
    "         z = (1, \"Olivier\", 5, 8, \"ENGEL\", 10, 4, 50, \"Strasbourg\") # Tuple consisting of both numbers and characters.\n",
    "       \n",
    "      ```\n",
    "     A tuple object can be generated manually by specifying the values within parentheses or automatically using the `tuple()` function.\n",
    "      ```python\n",
    "        x = tuple(range(1, 10))\n",
    "        print(x) # returns (1, 2, 3, 4, 5, 6, 7, 8, 9)\n",
    "     ```\n",
    "     \n",
    "   - A **set** object is a sequence of values (numerical and/or characters) that are **non-duplicated** and **non-indexed**, and specified within **curly braces**, separated by commas. Example:\n",
    "      ```python\n",
    "         x = {1, 5, 8, 10, 4, 50, 8} # Set consisting only of numbers\n",
    "         y = {\"Olivier\", \"ENGEL\", \"Strasbourg\"} # Set consisting only of characters\n",
    "         z = {1, \"Olivier\", 5, 8, \"ENGEL\", 10, 4, 50, \"Strasbourg\"} # Set consisting of both numbers and characters.\n",
    "       \n",
    "      ```\n",
    "     A set object can be generated manually by specifying the values within curly braces or automatically using the `set()` function.\n",
    "      ```python\n",
    "         v = [2, 4, \"orange\", \"meat\", 4, \"orange\"]\n",
    "         V = set(v)\n",
    "         print(V) # returns {2, 'orange', 4, 'meat'}\n",
    "      \n",
    "      ```\n",
    "   - A **dictionary** object is a sequence of values (numerical and/or characters) that are **indexed** by keys and specified within **curly braces**, separated by commas. Each `key` corresponds to one or more `values`. A dictionary consists of a set of `key-value` pairs. Example:   \n",
    "      ```python\n",
    "         x = {'name': 'Jean', 'weight': 70, 'height': 1.75} # Keys with unique values.\n",
    "         y = {'Jean': [25, 70, 1.75], 'Paul': [30, 65, 1.80], 'Pierre': [35, 75, 1.65]} # Key with multiple values formed by a list\n",
    "      \n",
    "      ```\n",
    "   In the dictionary `x`, the keys are name, weight, and height. The values corresponding to each of these keys are Jean, 70, and 1.75, respectively.\n",
    "In the dictionary `y`, the keys are Jean, Paul, and Pierre, while the values are lists consisting of three elements (age, weight, and height).\n",
    "A dictionary object can be generated manually by specifying the values within curly braces or automatically using the `dict()` function to create an empty dictionary. We will delve more into the definition of dictionaries later.\n",
    "\n",
    "The four objects we have just mentioned are also what we call `containers` simply because they `can contain` something. Thus, strings, lists, tuples, and dictionaries are the basic iterable objects in Python. Lists and dictionaries are mutable – their elements can be changed on the fly – while strings and tuples are immutable.\n",
    "\n",
    "The following three objects we mention are not iterable, but we will study them in more detail later on.\n",
    "\n",
    "   - A **function** object is a program designed to perform a specific operation. For example, the `print()` function is used to display the result of the instruction provided to it on the screen;\n",
    "   - A **class** object is a collection of functions, that is, an association of related functions;\n",
    "   - A **module** object is a collection of classes, that is, a collection of related classes.\""
   ]
  },
  {
   "cell_type": "markdown",
   "metadata": {
    "id": "sHFro4gT-rA7"
   },
   "source": [
    "## 0. Lists\n",
    "\n",
    "\n",
    "### 0.0. Definition of a list object\n",
    "\n",
    "A list object can be declared and defined manually or by using the `list()` function. There are two categories of lists: one-dimensional lists (or simple lists) and multi-dimensional lists.\n",
    "\n",
    "- A simple list is a list whose elements consist of unique values separated by commas."
   ]
  },
  {
   "cell_type": "code",
   "execution_count": 1,
   "metadata": {
    "id": "Mf9iZKui-rA9",
    "outputId": "0ad0308e-d9de-48bb-d91e-39562c0c32a0"
   },
   "outputs": [
    {
     "name": "stdout",
     "output_type": "stream",
     "text": [
      "[-2.0, -1.0, 0.0, 1.0, 2.0]\n",
      "============================= \n",
      "\n",
      "[-1.0, -0.5, 0.0, 0.5, 1.0]\n"
     ]
    }
   ],
   "source": [
    "voltage = [-2.0, -1.0, 0.0, 1.0, 2.0]\n",
    "\n",
    "courant = [-1.0, -0.5, 0.0, 0.5, 1.0]\n",
    "\n",
    "print(voltage)\n",
    "print(\"============================= \\n\")\n",
    "print(courant)"
   ]
  },
  {
   "cell_type": "code",
   "execution_count": 2,
   "metadata": {
    "id": "PTlMVW_H-rBD",
    "outputId": "2d8c36f7-3a6e-4492-c399-7b6aee4984f8"
   },
   "outputs": [
    {
     "data": {
      "text/plain": [
       "list"
      ]
     },
     "execution_count": 2,
     "metadata": {},
     "output_type": "execute_result"
    }
   ],
   "source": [
    "type(voltage) # Returns the type of the variable 'courant'"
   ]
  },
  {
   "cell_type": "code",
   "execution_count": 3,
   "metadata": {
    "id": "Zivr59vo-rBF",
    "outputId": "23eb2a7a-a60d-4063-834d-f1b6eec3896a"
   },
   "outputs": [
    {
     "data": {
      "text/plain": [
       "list"
      ]
     },
     "execution_count": 3,
     "metadata": {},
     "output_type": "execute_result"
    }
   ],
   "source": [
    "type(courant)"
   ]
  },
  {
   "cell_type": "code",
   "execution_count": 4,
   "metadata": {
    "id": "9xjl2_cO-rBH",
    "outputId": "cc7e713f-2739-4350-e6e3-671bb2b838ff"
   },
   "outputs": [
    {
     "name": "stdout",
     "output_type": "stream",
     "text": [
      "Help on NoneType object:\n",
      "\n",
      "class NoneType(object)\n",
      " |  Methods defined here:\n",
      " |\n",
      " |  __bool__(self, /)\n",
      " |      True if self else False\n",
      " |\n",
      " |  __eq__(self, value, /)\n",
      " |      Return self==value.\n",
      " |\n",
      " |  __ge__(self, value, /)\n",
      " |      Return self>=value.\n",
      " |\n",
      " |  __gt__(self, value, /)\n",
      " |      Return self>value.\n",
      " |\n",
      " |  __hash__(self, /)\n",
      " |      Return hash(self).\n",
      " |\n",
      " |  __le__(self, value, /)\n",
      " |      Return self<=value.\n",
      " |\n",
      " |  __lt__(self, value, /)\n",
      " |      Return self<value.\n",
      " |\n",
      " |  __ne__(self, value, /)\n",
      " |      Return self!=value.\n",
      " |\n",
      " |  __repr__(self, /)\n",
      " |      Return repr(self).\n",
      " |\n",
      " |  ----------------------------------------------------------------------\n",
      " |  Static methods defined here:\n",
      " |\n",
      " |  __new__(*args, **kwargs)\n",
      " |      Create and return a new object.  See help(type) for accurate signature.\n",
      "\n"
     ]
    }
   ],
   "source": [
    "help(voltage.sort())"
   ]
  },
  {
   "cell_type": "code",
   "execution_count": 6,
   "metadata": {},
   "outputs": [
    {
     "name": "stdout",
     "output_type": "stream",
     "text": [
      "Help on method_descriptor:\n",
      "\n",
      "sort(self, /, *, key=None, reverse=False) unbound builtins.list method\n",
      "    Sort the list in ascending order and return None.\n",
      "\n",
      "    The sort is in-place (i.e. the list itself is modified) and stable (i.e. the\n",
      "    order of two equal elements is maintained).\n",
      "\n",
      "    If a key function is given, apply it once to each list item and sort them,\n",
      "    ascending or descending, according to their function values.\n",
      "\n",
      "    The reverse flag can be set to sort in descending order.\n",
      "\n"
     ]
    }
   ],
   "source": [
    "help(list.sort)"
   ]
  },
  {
   "cell_type": "code",
   "execution_count": 7,
   "metadata": {},
   "outputs": [
    {
     "data": {
      "text/plain": [
       "[-2.0, -1.0, 0.0, 1.0, 2.0]"
      ]
     },
     "execution_count": 7,
     "metadata": {},
     "output_type": "execute_result"
    }
   ],
   "source": [
    "voltage"
   ]
  },
  {
   "cell_type": "code",
   "execution_count": 9,
   "metadata": {},
   "outputs": [],
   "source": [
    "voltage.sort(key=lambda x: x<1)"
   ]
  },
  {
   "cell_type": "code",
   "execution_count": 10,
   "metadata": {},
   "outputs": [
    {
     "data": {
      "text/plain": [
       "[1.0, 2.0, -2.0, -1.0, 0.0]"
      ]
     },
     "execution_count": 10,
     "metadata": {},
     "output_type": "execute_result"
    }
   ],
   "source": [
    "voltage"
   ]
  },
  {
   "cell_type": "code",
   "execution_count": 11,
   "metadata": {},
   "outputs": [],
   "source": [
    "new_voltage = [-1.0, -2.0, 1.0, 0.0, 2.0]"
   ]
  },
  {
   "cell_type": "code",
   "execution_count": 12,
   "metadata": {},
   "outputs": [],
   "source": [
    "new_voltage.sort(key=lambda x: x<1)"
   ]
  },
  {
   "cell_type": "code",
   "execution_count": 13,
   "metadata": {},
   "outputs": [
    {
     "data": {
      "text/plain": [
       "[1.0, 2.0, -1.0, -2.0, 0.0]"
      ]
     },
     "execution_count": 13,
     "metadata": {},
     "output_type": "execute_result"
    }
   ],
   "source": [
    "new_voltage"
   ]
  },
  {
   "cell_type": "markdown",
   "metadata": {
    "id": "Lc3gKQnK-rBJ"
   },
   "source": [
    "Moreover, in some situations, you may first create an empty list which will later be filled with values using the `append()` function. To create an empty list, you can use:\n",
    "`x = list()` or `x = []`."
   ]
  },
  {
   "cell_type": "markdown",
   "metadata": {
    "id": "ERO0wpUb-rBK"
   },
   "source": [
    "- Unlike a simple list, a multi-dimensional list is a list where the individual elements consist of multiple values. In general, a multi-dimensional list is presented as a list of lists."
   ]
  },
  {
   "cell_type": "code",
   "execution_count": 15,
   "metadata": {
    "id": "AsTf_vmV-rBL",
    "outputId": "f680af26-c1bd-4e7b-9db3-44929b96968c"
   },
   "outputs": [
    {
     "data": {
      "text/plain": [
       "([[1, 2, 3], [2, 3, 4], [3, 4, 5]], [[[1, 2], [2, 3]], [[4, 5], [5, 6]]])"
      ]
     },
     "execution_count": 15,
     "metadata": {},
     "output_type": "execute_result"
    }
   ],
   "source": [
    "x = [[1,2,3],[2,3,4],[3,4,5]] # liste à deux dimensions (liste de listes)\n",
    "\n",
    "y = [[[1,2],[2,3]],[[4,5],[5,6]]] # liste à trois dimensions (liste de listes de listes)\n",
    "\n",
    "x,y"
   ]
  },
  {
   "cell_type": "markdown",
   "metadata": {
    "id": "CGjO7fcg-rBN"
   },
   "source": [
    "Since a list is a sequence of indexed values, you can access each value or groups of values by specifying their index:"
   ]
  },
  {
   "cell_type": "code",
   "execution_count": 16,
   "metadata": {
    "id": "_7U2f1s6-rBN",
    "outputId": "b72e3390-2bd8-400e-8812-359fa9603d6c"
   },
   "outputs": [
    {
     "name": "stdout",
     "output_type": "stream",
     "text": [
      "['Monday', 'Tuesday', 'Wednesday', 1800, 20.357, 'Thursday', 'Friday']\n"
     ]
    }
   ],
   "source": [
    "x = list(['Monday', 'Tuesday', 'Wednesday', 1800, 20.357, 'Thursday', 'Friday']) # Definition of a list\n",
    "print(x) # Displays all the elements of the list x"
   ]
  },
  {
   "cell_type": "code",
   "execution_count": 17,
   "metadata": {
    "id": "71b3mlkN-rBP",
    "outputId": "874c8e7e-c554-44aa-c85c-e3a72899ac16"
   },
   "outputs": [
    {
     "name": "stdout",
     "output_type": "stream",
     "text": [
      "Monday\n",
      "================================================\n",
      "\t\n",
      "1800\n",
      "================================================\n",
      "\t\n",
      "['Tuesday', 'Wednesday']\n",
      "================================================\n",
      "\t\n",
      "['Tuesday', 1800, 'Thursday']\n",
      "================================================\n",
      "\t\n",
      "['Wednesday', 1800, 20.357, 'Thursday', 'Friday']\n",
      "================================================\n",
      "\t\n",
      "['Monday', 'Tuesday', 'Wednesday']\n",
      "================================================\n",
      "\t\n",
      "Friday\n",
      "================================================\n",
      "\t\n",
      "Thursday\n",
      "================================================\n",
      "\t\n",
      "['Monday', 'Wednesday', 20.357, 'Friday']\n",
      "================================================\n",
      "\t\n",
      "['Friday', 'Thursday', 20.357, 1800, 'Wednesday', 'Tuesday', 'Monday']\n"
     ]
    }
   ],
   "source": [
    "print(x[0]) # Returns the first element of x: 'Monday' (Note: indexing starts at 0)\n",
    "print(\"================================================\")\n",
    "print('\\t')\n",
    "\n",
    "print(x[3]) # Returns the element at index 3 (fourth element of x): 1800\n",
    "print(\"================================================\")\n",
    "print('\\t')\n",
    "\n",
    "print(x[1:3]) # Returns all elements between index 1 and index 3 (Note: element at index 3 is excluded)\n",
    "print(\"================================================\")\n",
    "print('\\t')\n",
    "\n",
    "print(x[1:6:2]) # Returns all elements between index 1 and index 6 with a step of 2 elements each time ['Tuesday', 1800, 'Thursday'] (element at index 6 is excluded).\n",
    "print(\"================================================\")\n",
    "print('\\t')\n",
    "\n",
    "print(x[2:]) # Returns all elements starting from index 2 (inclusive).\n",
    "print(\"================================================\")\n",
    "print('\\t')\n",
    "\n",
    "print(x[:3]) # Returns all elements up to but not including index 3\n",
    "print(\"================================================\")\n",
    "print('\\t')\n",
    "\n",
    "print(x[-1]) # Negative indexing, returns the last element of the list (equivalent to x[6])\n",
    "print(\"================================================\")\n",
    "print('\\t')\n",
    "\n",
    "print(x[-2]) # Negative indexing, returns the second to last element of the list (equivalent to x[5])\n",
    "print(\"================================================\")\n",
    "print('\\t')\n",
    "\n",
    "print(x[::2]) # Iterates through all elements between index 0 and the last index, returning every second element ['Monday', 'Wednesday', 20.357, 'Friday'].\n",
    "print(\"================================================\")\n",
    "print('\\t')\n",
    "\n",
    "print(x[::-1]) # Returns a list containing all elements of x, rearranged from the last element to the first. This is a reverse of x. Returns ['Friday', 'Thursday', 20.357, 1800, 'Wednesday', 'Tuesday', 'Monday'].\n",
    "# The same result can be obtained by using x.reverse()\n",
    "x_rev = x.reverse()\n",
    "x_rev\n"
   ]
  },
  {
   "cell_type": "code",
   "execution_count": 18,
   "metadata": {},
   "outputs": [
    {
     "data": {
      "text/plain": [
       "['Friday', 'Thursday', 20.357, 1800, 'Wednesday', 'Tuesday', 'Monday']"
      ]
     },
     "execution_count": 18,
     "metadata": {},
     "output_type": "execute_result"
    }
   ],
   "source": [
    "x"
   ]
  },
  {
   "cell_type": "code",
   "execution_count": 19,
   "metadata": {},
   "outputs": [],
   "source": [
    "x.reverse()"
   ]
  },
  {
   "cell_type": "code",
   "execution_count": 20,
   "metadata": {},
   "outputs": [
    {
     "data": {
      "text/plain": [
       "['Monday', 'Tuesday', 'Wednesday', 1800, 20.357, 'Thursday', 'Friday']"
      ]
     },
     "execution_count": 20,
     "metadata": {},
     "output_type": "execute_result"
    }
   ],
   "source": [
    "x"
   ]
  },
  {
   "cell_type": "code",
   "execution_count": 22,
   "metadata": {},
   "outputs": [
    {
     "ename": "TypeError",
     "evalue": "'<' not supported between instances of 'int' and 'str'",
     "output_type": "error",
     "traceback": [
      "\u001b[31m---------------------------------------------------------------------------\u001b[39m",
      "\u001b[31mTypeError\u001b[39m                                 Traceback (most recent call last)",
      "\u001b[36mCell\u001b[39m\u001b[36m \u001b[39m\u001b[32mIn[22]\u001b[39m\u001b[32m, line 1\u001b[39m\n\u001b[32m----> \u001b[39m\u001b[32m1\u001b[39m new_x = \u001b[43mx\u001b[49m\u001b[43m.\u001b[49m\u001b[43msort\u001b[49m\u001b[43m(\u001b[49m\u001b[43m)\u001b[49m\n",
      "\u001b[31mTypeError\u001b[39m: '<' not supported between instances of 'int' and 'str'"
     ]
    }
   ],
   "source": [
    "new_x = x.sort()\n",
    "\n",
    "# can only do sorting on an iterable when all the elements are of the same data type"
   ]
  },
  {
   "cell_type": "code",
   "execution_count": 23,
   "metadata": {},
   "outputs": [
    {
     "name": "stdout",
     "output_type": "stream",
     "text": [
      "[3, 7, 'apple']\n"
     ]
    }
   ],
   "source": [
    "items = [3, \"apple\", 7]\n",
    "items.sort(key=str)\n",
    "print(items)"
   ]
  },
  {
   "cell_type": "code",
   "execution_count": 26,
   "metadata": {},
   "outputs": [
    {
     "name": "stdout",
     "output_type": "stream",
     "text": [
      "None\n"
     ]
    }
   ],
   "source": [
    "new_items = items.sort(key=lambda x: str(x))\n",
    "print(new_items)\n",
    "\n",
    "#The sort method does not return a new object, but rather it modifies the object in place."
   ]
  },
  {
   "cell_type": "markdown",
   "metadata": {
    "id": "LrB7RU9D-rBQ"
   },
   "source": [
    "With a multi-dimensional list, indexing is done at multiple levels. For example"
   ]
  },
  {
   "cell_type": "code",
   "execution_count": 27,
   "metadata": {
    "id": "vTPh-HOF-rBR",
    "outputId": "64038bf7-3ff2-42bf-af0f-4f421bcb80da"
   },
   "outputs": [
    {
     "name": "stdout",
     "output_type": "stream",
     "text": [
      "[[1, 2, 3], [2, 3, 4], [3, 4, 5]]\n",
      "================================================\n",
      "\t\n",
      "[1, 2, 3]\n",
      "================================================\n",
      "\t\n",
      "1\n",
      "================================================\n",
      "\t\n",
      "[3, 4, 5]\n",
      "================================================\n",
      "\t\n",
      "4\n",
      "================================================\n",
      "\t\n",
      "[[2, 3, 4], [3, 4, 5]]\n",
      "================================================\n",
      "\t\n",
      "[2, 3, 4]\n",
      "================================================\n",
      "\t\n",
      "[3, 4, 5]\n",
      "================================================\n",
      "\t\n",
      "[2, 3]\n",
      "================================================\n",
      "\t\n",
      "[3, 4]\n"
     ]
    }
   ],
   "source": [
    "x = [[1, 2, 3], [2, 3, 4], [3, 4, 5]]\n",
    "print(x)\n",
    "print(\"================================================\")\n",
    "print('\\t')\n",
    "\n",
    "print(x[0]) # Returns the first sublist [1, 2, 3]\n",
    "print(\"================================================\")\n",
    "print('\\t')\n",
    "\n",
    "print(x[0][0]) # Returns the first element of the first sublist, which is 1\n",
    "print(\"================================================\")\n",
    "print('\\t')\n",
    "\n",
    "print(x[2]) # Returns the third sublist [3, 4, 5]\n",
    "print(\"================================================\")\n",
    "print('\\t')\n",
    "\n",
    "print(x[2][1]) # Returns the element at index 1 of the third sublist, which is 4\n",
    "print(\"================================================\")\n",
    "print('\\t')\n",
    "\n",
    "print(x[1:]) # Returns all sublists starting from index 1: [[2, 3, 4], [3, 4, 5]]\n",
    "print(\"================================================\")\n",
    "print('\\t')\n",
    "\n",
    "print(x[1:][0]) # Returns the first sublist from the sliced list: [2, 3, 4]\n",
    "print(\"================================================\")\n",
    "print('\\t')\n",
    "\n",
    "print(x[-1]) # Returns the last sublist [3, 4, 5]\n",
    "print(\"================================================\")\n",
    "print('\\t')\n",
    "\n",
    "print(x[1][:2]) # Returns the first two elements of the second sublist: [2, 3]\n",
    "print(\"================================================\")\n",
    "print('\\t')\n",
    "\n",
    "print(x[1][1:]) # Returns elements from index 1 to the end of the second sublist: [3, 4]\n"
   ]
  },
  {
   "cell_type": "code",
   "execution_count": 30,
   "metadata": {},
   "outputs": [
    {
     "ename": "TypeError",
     "evalue": "list indices must be integers or slices, not tuple",
     "output_type": "error",
     "traceback": [
      "\u001b[31m---------------------------------------------------------------------------\u001b[39m",
      "\u001b[31mTypeError\u001b[39m                                 Traceback (most recent call last)",
      "\u001b[36mCell\u001b[39m\u001b[36m \u001b[39m\u001b[32mIn[30]\u001b[39m\u001b[32m, line 1\u001b[39m\n\u001b[32m----> \u001b[39m\u001b[32m1\u001b[39m \u001b[43mx\u001b[49m\u001b[43m[\u001b[49m\u001b[32;43m0\u001b[39;49m\u001b[43m:\u001b[49m\u001b[43m,\u001b[49m\u001b[32;43m0\u001b[39;49m\u001b[43m:\u001b[49m\u001b[43m]\u001b[49m\n\u001b[32m      2\u001b[39m \u001b[38;5;66;03m# This works for only pandas dataframes.\u001b[39;00m\n",
      "\u001b[31mTypeError\u001b[39m: list indices must be integers or slices, not tuple"
     ]
    }
   ],
   "source": [
    "x[0:,0:]\n",
    "# This works for only pandas dataframes."
   ]
  },
  {
   "cell_type": "code",
   "execution_count": null,
   "metadata": {},
   "outputs": [],
   "source": []
  },
  {
   "cell_type": "markdown",
   "metadata": {
    "id": "kVQYQF4U-rBS"
   },
   "source": [
    "### 0.1. The `range()` Function\n",
    "\n",
    "Value sequences are variables that are frequently encountered in Python programs. They represent a set of successive and ordered values that can be extracted like a list. Value sequences are generated using the `range()` function.\n",
    "\n",
    "The function has the following syntax:\n",
    "\n",
    "```python\n",
    "range(start, stop, step)\n",
    "```\n",
    "\n",
    " - start (optional): The value of the first number in the sequence. If omitted, the sequence starts from 0.\n",
    " - stop: The end of the sequence. This value is not included in the sequence.\n",
    " - step (optional): The difference between each pair of consecutive values in the sequence. If omitted, the default step is 1.\n",
    "\n",
    "Example:"
   ]
  },
  {
   "cell_type": "code",
   "execution_count": 31,
   "metadata": {
    "id": "RKZ3kicO-rBT",
    "outputId": "d67bdbcd-d861-4f28-f19d-c42f069227df"
   },
   "outputs": [
    {
     "name": "stdout",
     "output_type": "stream",
     "text": [
      "range(0, 10)\n",
      "================================================\n",
      "\t\n",
      "range(2, 10)\n",
      "================================================\n",
      "\t\n",
      "range(1, 10, 2)\n"
     ]
    }
   ],
   "source": [
    "x = range(10) # Creates a sequence of integer values from 0 to 9\n",
    "print(x)\n",
    "print(\"================================================\")\n",
    "print('\\t')\n",
    "\n",
    "x = range(2, 10) # Creates a sequence of integer values from 2 to 9\n",
    "print(x)\n",
    "print(\"================================================\")\n",
    "print('\\t')\n",
    "\n",
    "x = range(1, 10, 2) # Creates a sequence of integer values from 1 to 9 with a step of 2. It returns 1, 3, 5, 7, and 9\n",
    "print(x)\n"
   ]
  },
  {
   "cell_type": "markdown",
   "metadata": {
    "id": "pOxa7zk0-rBU",
    "outputId": "f2bf438b-85a2-4913-e3d4-ef9b36f31845"
   },
   "source": [
    "To display the generated values, you can use the `list()` function, as shown below:"
   ]
  },
  {
   "cell_type": "code",
   "execution_count": 32,
   "metadata": {
    "id": "LOkcKEva-rBV",
    "outputId": "110a22f7-77b7-42e2-bc89-09fb013e61ff"
   },
   "outputs": [
    {
     "name": "stdout",
     "output_type": "stream",
     "text": [
      "[0, 1, 2, 3, 4, 5, 6, 7, 8, 9]\n"
     ]
    }
   ],
   "source": [
    "x = range(10)\n",
    "\n",
    "print(list(x)) # Returns a list: values in square brackets [0, 1, 2, 3, 4, 5, 6, 7, 8, 9]\n"
   ]
  },
  {
   "cell_type": "code",
   "execution_count": 34,
   "metadata": {},
   "outputs": [
    {
     "data": {
      "text/plain": [
       "(range, range)"
      ]
     },
     "execution_count": 34,
     "metadata": {},
     "output_type": "execute_result"
    }
   ],
   "source": [
    "type(x), x.__class__"
   ]
  },
  {
   "cell_type": "markdown",
   "metadata": {
    "id": "wzGm392B-rBW"
   },
   "source": [
    "### 0.2. Operations on Lists\n",
    "\n",
    "Once a list is defined, several operations can be performed to modify its structure or its elements.\n",
    "\n",
    "- To find the number of elements in a list, we use the `len()` function. Example: consider the list `x` defined as follows:\n",
    "```python\n",
    "   x = ['Monday', 'Tuesday', 'Wednesday', 1800, 20.357, 'Thursday', 'Friday']\n",
    "```\n",
    "To find the length of `x` (the number of elements in `x`), we do:\n",
    "```python\n",
    "    print(len(x)) # returns 7\n",
    "```"
   ]
  },
  {
   "cell_type": "code",
   "execution_count": 35,
   "metadata": {
    "id": "vLq0A2xh-rBX",
    "outputId": "b4dc832c-faf5-4661-ede7-ebaa541299e5"
   },
   "outputs": [
    {
     "name": "stdout",
     "output_type": "stream",
     "text": [
      "7\n"
     ]
    }
   ],
   "source": [
    "x = ['Monday', 'Tuesday', 'Wednesday', 1800, 20.357, 'Thursday', 'Friday']\n",
    "print(len(x)) # returns 7"
   ]
  },
  {
   "cell_type": "code",
   "execution_count": 36,
   "metadata": {},
   "outputs": [
    {
     "name": "stdout",
     "output_type": "stream",
     "text": [
      "Help on built-in function len in module builtins:\n",
      "\n",
      "len(obj, /)\n",
      "    Return the number of items in a container.\n",
      "\n"
     ]
    }
   ],
   "source": [
    "help(len)"
   ]
  },
  {
   "cell_type": "code",
   "execution_count": 38,
   "metadata": {},
   "outputs": [
    {
     "data": {
      "text/plain": [
       "6"
      ]
     },
     "execution_count": 38,
     "metadata": {},
     "output_type": "execute_result"
    }
   ],
   "source": [
    "a = \"Hello \"\n",
    "len(a)"
   ]
  },
  {
   "cell_type": "code",
   "execution_count": null,
   "metadata": {},
   "outputs": [],
   "source": []
  },
  {
   "cell_type": "markdown",
   "metadata": {
    "id": "GtY-1ip3-rBY"
   },
   "source": [
    "- We can concatenate two lists to form a single list using the `+` operator, which allows for list concatenation:\n",
    "```python\n",
    "   x = ['giraffe', 'tiger']\n",
    "   y = ['monkey', 'mouse']\n",
    "   z = x + y\n",
    "   print(z) # returns ['giraffe', 'tiger', 'monkey', 'mouse']\n",
    "```"
   ]
  },
  {
   "cell_type": "code",
   "execution_count": 39,
   "metadata": {
    "id": "WxHeNEED-rBY",
    "outputId": "dce67395-d522-4cb6-8ab0-cf7c57317094"
   },
   "outputs": [
    {
     "name": "stdout",
     "output_type": "stream",
     "text": [
      "['giraffe', 'tiger', 'monkey', 'mouse']\n"
     ]
    }
   ],
   "source": [
    "x = ['giraffe', 'tiger']\n",
    "y = ['monkey', 'mouse']\n",
    "z = x + y\n",
    "print(z) # returns ['giraffe', 'tiger', 'monkey', 'mouse']"
   ]
  },
  {
   "cell_type": "markdown",
   "metadata": {
    "id": "WtnpB3m0-rBZ"
   },
   "source": [
    "- We can repeat the elements of a list using the multiplication operator `*`:\n",
    "```python\n",
    "    x = ['giraffe', 24, 18, 'tiger', 2400, 150]\n",
    "    y = x * 3\n",
    "    print(y) # returns ['giraffe', 24, 18, 'tiger', 2400, 150, 'giraffe', 24, 18, 'tiger', 2400, 150, 'giraffe', 24, 18, 'tiger', 2400, 150]\n",
    "```"
   ]
  },
  {
   "cell_type": "code",
   "execution_count": 40,
   "metadata": {
    "id": "9iTpu9Ss-rBa",
    "outputId": "81b67781-f811-4ef5-a369-681afc99af4d"
   },
   "outputs": [
    {
     "name": "stdout",
     "output_type": "stream",
     "text": [
      "['giraffe', 24, 18, 'tiger', 2400, 150, 'giraffe', 24, 18, 'tiger', 2400, 150, 'giraffe', 24, 18, 'tiger', 2400, 150]\n"
     ]
    }
   ],
   "source": [
    "x = ['giraffe', 24, 18, 'tiger', 2400, 150]\n",
    "y = x * 3\n",
    "print(y) # returns ['giraffe', 24, 18, 'tiger', 2400, 150, 'giraffe', 24, 18,\n",
    "         # 'tiger', 2400, 150, 'giraffe', 24, 18, 'tiger', 2400, 150]"
   ]
  },
  {
   "cell_type": "code",
   "execution_count": 41,
   "metadata": {},
   "outputs": [
    {
     "data": {
      "text/plain": [
       "['Pearl', 10, 'Pearl', 10, 'Pearl', 10]"
      ]
     },
     "execution_count": 41,
     "metadata": {},
     "output_type": "execute_result"
    }
   ],
   "source": [
    "[\"Pearl\", 10]*3"
   ]
  },
  {
   "cell_type": "code",
   "execution_count": 42,
   "metadata": {},
   "outputs": [
    {
     "name": "stdout",
     "output_type": "stream",
     "text": [
      "Help on list object:\n",
      "\n",
      "class list(object)\n",
      " |  list(iterable=(), /)\n",
      " |\n",
      " |  Built-in mutable sequence.\n",
      " |\n",
      " |  If no argument is given, the constructor creates a new empty list.\n",
      " |  The argument must be an iterable if specified.\n",
      " |\n",
      " |  Methods defined here:\n",
      " |\n",
      " |  __add__(self, value, /)\n",
      " |      Return self+value.\n",
      " |\n",
      " |  __contains__(self, key, /)\n",
      " |      Return bool(key in self).\n",
      " |\n",
      " |  __delitem__(self, key, /)\n",
      " |      Delete self[key].\n",
      " |\n",
      " |  __eq__(self, value, /)\n",
      " |      Return self==value.\n",
      " |\n",
      " |  __ge__(self, value, /)\n",
      " |      Return self>=value.\n",
      " |\n",
      " |  __getattribute__(self, name, /)\n",
      " |      Return getattr(self, name).\n",
      " |\n",
      " |  __getitem__(self, index, /)\n",
      " |      Return self[index].\n",
      " |\n",
      " |  __gt__(self, value, /)\n",
      " |      Return self>value.\n",
      " |\n",
      " |  __iadd__(self, value, /)\n",
      " |      Implement self+=value.\n",
      " |\n",
      " |  __imul__(self, value, /)\n",
      " |      Implement self*=value.\n",
      " |\n",
      " |  __init__(self, /, *args, **kwargs)\n",
      " |      Initialize self.  See help(type(self)) for accurate signature.\n",
      " |\n",
      " |  __iter__(self, /)\n",
      " |      Implement iter(self).\n",
      " |\n",
      " |  __le__(self, value, /)\n",
      " |      Return self<=value.\n",
      " |\n",
      " |  __len__(self, /)\n",
      " |      Return len(self).\n",
      " |\n",
      " |  __lt__(self, value, /)\n",
      " |      Return self<value.\n",
      " |\n",
      " |  __mul__(self, value, /)\n",
      " |      Return self*value.\n",
      " |\n",
      " |  __ne__(self, value, /)\n",
      " |      Return self!=value.\n",
      " |\n",
      " |  __repr__(self, /)\n",
      " |      Return repr(self).\n",
      " |\n",
      " |  __reversed__(self, /)\n",
      " |      Return a reverse iterator over the list.\n",
      " |\n",
      " |  __rmul__(self, value, /)\n",
      " |      Return value*self.\n",
      " |\n",
      " |  __setitem__(self, key, value, /)\n",
      " |      Set self[key] to value.\n",
      " |\n",
      " |  __sizeof__(self, /)\n",
      " |      Return the size of the list in memory, in bytes.\n",
      " |\n",
      " |  append(self, object, /)\n",
      " |      Append object to the end of the list.\n",
      " |\n",
      " |  clear(self, /)\n",
      " |      Remove all items from list.\n",
      " |\n",
      " |  copy(self, /)\n",
      " |      Return a shallow copy of the list.\n",
      " |\n",
      " |  count(self, value, /)\n",
      " |      Return number of occurrences of value.\n",
      " |\n",
      " |  extend(self, iterable, /)\n",
      " |      Extend list by appending elements from the iterable.\n",
      " |\n",
      " |  index(self, value, start=0, stop=9223372036854775807, /)\n",
      " |      Return first index of value.\n",
      " |\n",
      " |      Raises ValueError if the value is not present.\n",
      " |\n",
      " |  insert(self, index, object, /)\n",
      " |      Insert object before index.\n",
      " |\n",
      " |  pop(self, index=-1, /)\n",
      " |      Remove and return item at index (default last).\n",
      " |\n",
      " |      Raises IndexError if list is empty or index is out of range.\n",
      " |\n",
      " |  remove(self, value, /)\n",
      " |      Remove first occurrence of value.\n",
      " |\n",
      " |      Raises ValueError if the value is not present.\n",
      " |\n",
      " |  reverse(self, /)\n",
      " |      Reverse *IN PLACE*.\n",
      " |\n",
      " |  sort(self, /, *, key=None, reverse=False)\n",
      " |      Sort the list in ascending order and return None.\n",
      " |\n",
      " |      The sort is in-place (i.e. the list itself is modified) and stable (i.e. the\n",
      " |      order of two equal elements is maintained).\n",
      " |\n",
      " |      If a key function is given, apply it once to each list item and sort them,\n",
      " |      ascending or descending, according to their function values.\n",
      " |\n",
      " |      The reverse flag can be set to sort in descending order.\n",
      " |\n",
      " |  ----------------------------------------------------------------------\n",
      " |  Class methods defined here:\n",
      " |\n",
      " |  __class_getitem__(...)\n",
      " |      See PEP 585\n",
      " |\n",
      " |  ----------------------------------------------------------------------\n",
      " |  Static methods defined here:\n",
      " |\n",
      " |  __new__(*args, **kwargs)\n",
      " |      Create and return a new object.  See help(type) for accurate signature.\n",
      " |\n",
      " |  ----------------------------------------------------------------------\n",
      " |  Data and other attributes defined here:\n",
      " |\n",
      " |  __hash__ = None\n",
      "\n"
     ]
    }
   ],
   "source": [
    "help([\"Pearl\", 10]*3)"
   ]
  },
  {
   "cell_type": "code",
   "execution_count": null,
   "metadata": {},
   "outputs": [],
   "source": []
  },
  {
   "cell_type": "code",
   "execution_count": null,
   "metadata": {},
   "outputs": [],
   "source": []
  },
  {
   "cell_type": "markdown",
   "metadata": {
    "id": "xjhflcGe-rBa"
   },
   "source": [
    "- It is possible to modify a particular element in a list by using its index:\n",
    "```python\n",
    "    x = ['Monday', 'Tuesday', 'Wednesday', 1800, 20.357, 'Thursday', 'Friday']\n",
    "    x[3] = x[3] + 100\n",
    "    print(x) # returns ['Monday', 'Tuesday', 'Wednesday', 1900, 20.357, 'Thursday', 'Friday']\n",
    "    \n",
    "    x[6] = x[6] + ' Saint' # Note the space in ' Saint', otherwise you'll get 'FridaySaint'.\n",
    "    print(x) # returns ['Monday', 'Tuesday', 'Wednesday', 1900, 20.357, 'Thursday', 'Friday Saint']\n",
    "```"
   ]
  },
  {
   "cell_type": "code",
   "execution_count": 45,
   "metadata": {
    "id": "VtP1-vEO-rBb",
    "outputId": "64661f18-d245-4d20-faeb-2d3062e2b473"
   },
   "outputs": [
    {
     "name": "stdout",
     "output_type": "stream",
     "text": [
      "['Monday', 'Tuesday', 'Wednesday', 1900, 20.357, 'Thursday', 'Friday']\n",
      "==================================================================\n",
      "\n",
      "['Monday', 'Tuesday', 'Wednesday', 1900, 20.357, 'Thursday', 'Friday Saint']\n"
     ]
    }
   ],
   "source": [
    "x = ['Monday', 'Tuesday', 'Wednesday', 1800, 20.357, 'Thursday', 'Friday']\n",
    "x[3] = x[3] + 100\n",
    "print(x) # returns ['Monday', 'Tuesday', 'Wednesday', 1900, 20.357, 'Thursday', 'Friday']\n",
    "\n",
    "print(\"==================================================================\\n\")\n",
    "x[6] = x[6] + ' Saint' # Note the space in ' Saint', otherwise you'll get 'FridaySaint'.\n",
    "print(x) # returns ['Monday', 'Tuesday', 'Wednesday', 1900, 20.357, 'Thursday', 'Friday Saint']"
   ]
  },
  {
   "cell_type": "code",
   "execution_count": 46,
   "metadata": {},
   "outputs": [
    {
     "data": {
      "text/plain": [
       "['Monday', 'Tuesday', 'Wednesday', 1900, 20.357, 'Thursday', 'Friday Saint']"
      ]
     },
     "execution_count": 46,
     "metadata": {},
     "output_type": "execute_result"
    }
   ],
   "source": [
    "x"
   ]
  },
  {
   "cell_type": "code",
   "execution_count": 47,
   "metadata": {},
   "outputs": [],
   "source": [
    "x[0] += \"AIMS\""
   ]
  },
  {
   "cell_type": "code",
   "execution_count": 49,
   "metadata": {},
   "outputs": [
    {
     "name": "stdout",
     "output_type": "stream",
     "text": [
      "['MondayAIMS', 'Tuesday', 'Wednesday', 1900, 20.357, 'Thursday', 'Friday Saint']\n"
     ]
    }
   ],
   "source": [
    "print(x)"
   ]
  },
  {
   "cell_type": "markdown",
   "metadata": {
    "id": "iOCpUgoL-rBc"
   },
   "source": [
    "- New elements can be added in addition to the initial elements. For this, we use the `append()` function:\n",
    "```python\n",
    "    x = ['Monday', 'Tuesday', 'Wednesday', 'Thursday', 'Friday']\n",
    "    x.append('Saturday')\n",
    "    x.append('Sunday')\n",
    "    print(x)\n",
    "```"
   ]
  },
  {
   "cell_type": "code",
   "execution_count": 50,
   "metadata": {},
   "outputs": [
    {
     "data": {
      "text/plain": [
       "\u001b[31mSignature:\u001b[39m list.append(self, object, /)\n",
       "\u001b[31mDocstring:\u001b[39m Append object to the end of the list.\n",
       "\u001b[31mType:\u001b[39m      method_descriptor"
      ]
     },
     "metadata": {},
     "output_type": "display_data"
    }
   ],
   "source": [
    "list.append?"
   ]
  },
  {
   "cell_type": "code",
   "execution_count": 54,
   "metadata": {},
   "outputs": [
    {
     "data": {
      "text/plain": [
       "\u001b[31mSignature:\u001b[39m list.extend(self, iterable, /)\n",
       "\u001b[31mDocstring:\u001b[39m Extend list by appending elements from the iterable.\n",
       "\u001b[31mType:\u001b[39m      method_descriptor"
      ]
     },
     "metadata": {},
     "output_type": "display_data"
    }
   ],
   "source": [
    "list.extend?"
   ]
  },
  {
   "cell_type": "code",
   "execution_count": 55,
   "metadata": {
    "id": "k02Chscz-rBc",
    "outputId": "f7232c11-68e9-43da-8c99-a330cac499de"
   },
   "outputs": [
    {
     "name": "stdout",
     "output_type": "stream",
     "text": [
      "['Monday', 'Tuesday', 'Wednesday', 'Thursday', 'Friday', 'Saturday', 'Sunday']\n"
     ]
    }
   ],
   "source": [
    "x = ['Monday', 'Tuesday', 'Wednesday', 'Thursday', 'Friday']\n",
    "x.append('Saturday')\n",
    "x.append('Sunday')\n",
    "print(x)"
   ]
  },
  {
   "cell_type": "markdown",
   "metadata": {
    "id": "NAexHG0u-rBd"
   },
   "source": [
    "As we can see, the `append()` function can only add one element to a list at a time. Therefore, we can use the `extend()` function when we want to add multiple elements at once. Example:\n",
    "```python\n",
    "    x = ['Monday', 'Tuesday', 'Wednesday', 'Thursday', 'Friday']\n",
    "    x.extend(['Saturday', 'Sunday'])\n",
    "    print(x)\n",
    "```"
   ]
  },
  {
   "cell_type": "code",
   "execution_count": 56,
   "metadata": {
    "id": "MSa6cYvV-rBe",
    "outputId": "0fad5ced-4564-4ef0-fb12-e5a60060a615"
   },
   "outputs": [
    {
     "name": "stdout",
     "output_type": "stream",
     "text": [
      "['Monday', 'Tuesday', 'Wednesday', 'Thursday', 'Friday', 'Saturday', 'Sunday']\n"
     ]
    }
   ],
   "source": [
    "x = ['Monday', 'Tuesday', 'Wednesday', 'Thursday', 'Friday']\n",
    "x.extend(['Saturday', 'Sunday'])\n",
    "print(x)"
   ]
  },
  {
   "cell_type": "markdown",
   "metadata": {
    "id": "mkdFEbtS-rBe"
   },
   "source": [
    "****\n",
    "For further study, explore the following methods and how they operate on lists:\n",
    "`insert()`, `remove()`, `delete()`, `index()`, `count()`, `join()`, `zip()`.\n",
    "***"
   ]
  },
  {
   "cell_type": "code",
   "execution_count": 58,
   "metadata": {},
   "outputs": [
    {
     "data": {
      "text/plain": [
       "\u001b[31mSignature:\u001b[39m list.insert(self, index, object, /)\n",
       "\u001b[31mDocstring:\u001b[39m Insert object before index.\n",
       "\u001b[31mType:\u001b[39m      method_descriptor"
      ]
     },
     "metadata": {},
     "output_type": "display_data"
    }
   ],
   "source": [
    "list.insert?"
   ]
  },
  {
   "cell_type": "code",
   "execution_count": 59,
   "metadata": {},
   "outputs": [
    {
     "data": {
      "text/plain": [
       "\u001b[31mSignature:\u001b[39m list.remove(self, value, /)\n",
       "\u001b[31mDocstring:\u001b[39m\n",
       "Remove first occurrence of value.\n",
       "\n",
       "Raises ValueError if the value is not present.\n",
       "\u001b[31mType:\u001b[39m      method_descriptor"
      ]
     },
     "metadata": {},
     "output_type": "display_data"
    }
   ],
   "source": [
    "list.remove?"
   ]
  },
  {
   "cell_type": "code",
   "execution_count": 62,
   "metadata": {},
   "outputs": [
    {
     "data": {
      "text/plain": [
       "\u001b[31mSignature:\u001b[39m list.index(self, value, start=\u001b[32m0\u001b[39m, stop=\u001b[32m9223372036854775807\u001b[39m, /)\n",
       "\u001b[31mDocstring:\u001b[39m\n",
       "Return first index of value.\n",
       "\n",
       "Raises ValueError if the value is not present.\n",
       "\u001b[31mType:\u001b[39m      method_descriptor"
      ]
     },
     "metadata": {},
     "output_type": "display_data"
    }
   ],
   "source": [
    "list.index?"
   ]
  },
  {
   "cell_type": "code",
   "execution_count": 63,
   "metadata": {},
   "outputs": [
    {
     "data": {
      "text/plain": [
       "\u001b[31mSignature:\u001b[39m list.count(self, value, /)\n",
       "\u001b[31mDocstring:\u001b[39m Return number of occurrences of value.\n",
       "\u001b[31mType:\u001b[39m      method_descriptor"
      ]
     },
     "metadata": {},
     "output_type": "display_data"
    }
   ],
   "source": [
    "list.count?"
   ]
  },
  {
   "cell_type": "code",
   "execution_count": 79,
   "metadata": {},
   "outputs": [
    {
     "name": "stdout",
     "output_type": "stream",
     "text": [
      "The \"del\" statement\n",
      "*******************\n",
      "\n",
      "   del_stmt ::= \"del\" target_list\n",
      "\n",
      "Deletion is recursively defined very similar to the way assignment is\n",
      "defined. Rather than spelling it out in full details, here are some\n",
      "hints.\n",
      "\n",
      "Deletion of a target list recursively deletes each target, from left\n",
      "to right.\n",
      "\n",
      "Deletion of a name removes the binding of that name from the local or\n",
      "global namespace, depending on whether the name occurs in a \"global\"\n",
      "statement in the same code block.  If the name is unbound, a\n",
      "\"NameError\" exception will be raised.\n",
      "\n",
      "Deletion of attribute references, subscriptions and slicings is passed\n",
      "to the primary object involved; deletion of a slicing is in general\n",
      "equivalent to assignment of an empty slice of the right type (but even\n",
      "this is determined by the sliced object).\n",
      "\n",
      "Changed in version 3.2: Previously it was illegal to delete a name\n",
      "from the local namespace if it occurs as a free variable in a nested\n",
      "block.\n",
      "\n",
      "Related help topics: BASICMETHODS\n",
      "\n"
     ]
    }
   ],
   "source": [
    "help(\"del\")"
   ]
  },
  {
   "cell_type": "code",
   "execution_count": 76,
   "metadata": {},
   "outputs": [
    {
     "data": {
      "text/plain": [
       "\u001b[31mInit signature:\u001b[39m zip(self, /, *args, **kwargs)\n",
       "\u001b[31mDocstring:\u001b[39m     \n",
       "zip(*iterables, strict=False) --> Yield tuples until an input is exhausted.\n",
       "\n",
       "   >>> list(zip('abcdefg', range(3), range(4)))\n",
       "   [('a', 0, 0), ('b', 1, 1), ('c', 2, 2)]\n",
       "\n",
       "The zip object yields n-length tuples, where n is the number of iterables\n",
       "passed as positional arguments to zip().  The i-th element in every tuple\n",
       "comes from the i-th iterable argument to zip().  This continues until the\n",
       "shortest argument is exhausted.\n",
       "\n",
       "If strict is true and one of the arguments is exhausted before the others,\n",
       "raise a ValueError.\n",
       "\u001b[31mType:\u001b[39m           type\n",
       "\u001b[31mSubclasses:\u001b[39m     "
      ]
     },
     "metadata": {},
     "output_type": "display_data"
    }
   ],
   "source": [
    "zip?"
   ]
  },
  {
   "cell_type": "code",
   "execution_count": 75,
   "metadata": {},
   "outputs": [
    {
     "data": {
      "text/plain": [
       "\u001b[31mSignature:\u001b[39m str.join(self, iterable, /)\n",
       "\u001b[31mDocstring:\u001b[39m\n",
       "Concatenate any number of strings.\n",
       "\n",
       "The string whose method is called is inserted in between each given string.\n",
       "The result is returned as a new string.\n",
       "\n",
       "Example: '.'.join(['ab', 'pq', 'rs']) -> 'ab.pq.rs'\n",
       "\u001b[31mType:\u001b[39m      method_descriptor"
      ]
     },
     "metadata": {},
     "output_type": "display_data"
    }
   ],
   "source": [
    "str.join?"
   ]
  },
  {
   "cell_type": "markdown",
   "metadata": {
    "id": "uh8UNMr0-rBf"
   },
   "source": [
    "<left> <b> <span style=\"color:brown;\">Given that their usage is quite uncommon, we will not cover `tuple` and `set` objects in this course. The brief presentation given above is relatively sufficient, and readers who explicitly need more information can consult the extensive documentation available online. </span> </b></left>\n",
    "\n",
    "However, we can mention that a `set` is an unordered iterable collection of distinct hashable elements and that classic mathematical operations on sets can be performed in Python. For example:"
   ]
  },
  {
   "cell_type": "markdown",
   "metadata": {
    "id": "uQ08OMEo-rBg"
   },
   "source": [
    "<center>\n",
    "    <img src=\"images/set.png\" width=\"20%></center>\n",
    "                              \n",
    "                   "
   ]
  },
  {
   "cell_type": "markdown",
   "metadata": {
    "id": "81ljOZe--rBg"
   },
   "source": [
    "```python\n",
    "   X, Y = set('abcd'), set('sbds')\n",
    "   print(\"X =\", X) # X = {'a', 'c', 'b', 'd'}\n",
    "   print(\"Y =\", Y) # Y = {'s', 'b', 'd'} : only one element 's'\n",
    "    \n",
    "   print('c' in X)  # True\n",
    "   print('a' in Y)  # False\n",
    "   print(X - Y)     # {'a', 'c'}\n",
    "   print(Y - X)     # {'s'}\n",
    "   print(X | Y)     # {'a', 'c', 'b', 'd', 's'}\n",
    "   print(X & Y)     # {'b', 'd'}\n",
    "```          "
   ]
  },
  {
   "cell_type": "code",
   "execution_count": 57,
   "metadata": {
    "id": "Ngllc1pd-rBh",
    "outputId": "c024b049-2f3b-4973-d4f1-d4a320148178"
   },
   "outputs": [
    {
     "name": "stdout",
     "output_type": "stream",
     "text": [
      "X = {'c', 'b', 'a', 'd'}\n",
      "=========================================\n",
      "\n",
      "Y = {'b', 'd', 's'}\n",
      "=========================================\n",
      "\n",
      "True\n",
      "=========================================\n",
      "\n",
      "False\n",
      "=========================================\n",
      "\n",
      "{'c', 'a'}\n",
      "=========================================\n",
      "\n",
      "{'s'}\n",
      "=========================================\n",
      "\n",
      "{'a', 'c', 'b', 'd', 's'}\n",
      "=========================================\n",
      "\n",
      "{'b', 'd'}\n"
     ]
    }
   ],
   "source": [
    "X, Y = set('abcd'), set('sbds')\n",
    "print(\"X =\", X) # X = {'a', 'c', 'b', 'd'}\n",
    "print(\"=========================================\\n\")\n",
    "\n",
    "print(\"Y =\", Y) # Y = {'s', 'b', 'd'} : only one element 's'\n",
    "print(\"=========================================\\n\")\n",
    "\n",
    "print('c' in X)  # True\n",
    "print(\"=========================================\\n\")\n",
    "\n",
    "print('a' in Y)  # False\n",
    "print(\"=========================================\\n\")\n",
    "\n",
    "print(X - Y)     # {'a', 'c'}\n",
    "print(\"=========================================\\n\")\n",
    "\n",
    "print(Y - X)     # {'s'}\n",
    "print(\"=========================================\\n\")\n",
    "\n",
    "print(X | Y)     # {'a', 'c', 'b', 'd', 's'}\n",
    "print(\"=========================================\\n\")\n",
    "\n",
    "print(X & Y)     # {'b', 'd'}\n"
   ]
  },
  {
   "cell_type": "markdown",
   "metadata": {
    "id": "_1hiHy5i-rBi"
   },
   "source": [
    "## 1. Dictionaries\n",
    "\n",
    "### 1.0. About dictionaries\n",
    "\n",
    "In Pythonic design, a dictionary (also called a map) is a versatile collection of objects that adheres to the `key-value` principle. Unlike lists, where elements are accessed by their position or index, dictionaries use unique keys to identify and retrieve values. These keys are typically strings but can also be other immutable types, such as numbers or tuples. This key-value structure allows for efficient lookups, additions, and deletions, making dictionaries a powerful tool for organizing and managing data in a more intuitive and flexible way compared to lists."
   ]
  },
  {
   "cell_type": "code",
   "execution_count": null,
   "metadata": {
    "id": "D-vXLtua-rBi"
   },
   "outputs": [],
   "source": [
    "x = {'name': 'Jean', 'age': 25, 'weight': 70, 'height': 1.75}\n",
    "y = {'Jean': [25, 70, 1.75], 'Paul': [30, 65, 1.80], 'Pierre': [35, 75, 1.65]}\n",
    "z = {'Jean': (25, 70, 1.75), 'Paul': (30, 65, 1.80), 'Pierre': (35, 75, 1.65)}\n",
    "k = {'name': 'Jean', 'biometrics': [25, 70, 1.75], 'score': (12, 17, 15), 'rank': 25}"
   ]
  },
  {
   "cell_type": "markdown",
   "metadata": {
    "id": "5irVrjfN-rBw"
   },
   "source": [
    "The four variables above represent **four** typical ways to define a dictionary. Variable `x` is a dictionary where the keys are **name, age, weight, and height**. The corresponding values are **Jean, 25, 70**, and **1.75**. In the definition of `x`, it is noted that each key corresponds to a unique value. However, it is very common to associate multiple values with a single key. This is the case with dictionary `y`."
   ]
  },
  {
   "cell_type": "markdown",
   "metadata": {
    "id": "pfVysB7K-rBx"
   },
   "source": [
    "###  1.1. Operations on dictionaries\n",
    "\n",
    " - To access the elements of a dictionary, you use the keys. The method `keys()` returns the list of keys in the dictionary, and the method `values()` returns the values.\n",
    "  ```python\n",
    "     X = {'name': 'Jean', 'age': 25, 'weight': 70, 'height': 1.75}\n",
    "     print(X.keys())  # returns ['name', 'age', 'weight', 'height']\n",
    "     print(X.values()) # returns ['Jean', 25, 70, 1.75]   \n",
    "     print(X['name'])  # returns 'Jean'   \n",
    "     x = {'Jean': [25, 70, 1.75], 'Paul': [30, 65, 1.80], 'Pierre': [35, 75, 1.65]}\n",
    "     print(x['Jean']) # returns [25, 70, 1.75]\n",
    "     print(x['Jean'][0]) # returns 25\n",
    "     print(x['Jean'][0:2]) # returns [25, 70]   \n",
    "  ```"
   ]
  },
  {
   "cell_type": "code",
   "execution_count": null,
   "metadata": {
    "id": "HG46Y1gF-rBy",
    "outputId": "2c33797b-a881-4015-94ea-c88b2b894d4d"
   },
   "outputs": [
    {
     "name": "stdout",
     "output_type": "stream",
     "text": [
      "=========================================\n",
      "\n",
      "dict_keys(['name', 'age', 'weight', 'height'])\n",
      "=========================================\n",
      "\n",
      "dict_values(['Jean', 25, 70, 1.75])\n",
      "=========================================\n",
      "\n",
      "Jean\n",
      "=========================================\n",
      "\n",
      "=========================================\n",
      "\n",
      "[25, 70, 1.75]\n",
      "=========================================\n",
      "\n",
      "25\n",
      "=========================================\n",
      "\n",
      "[25, 70]\n"
     ]
    }
   ],
   "source": [
    "X = {'name': 'Jean', 'age': 25, 'weight': 70, 'height': 1.75}\n",
    "print(\"=========================================\\n\")\n",
    "\n",
    "print(X.keys())  # returns ['name', 'age', 'weight', 'height']\n",
    "print(\"=========================================\\n\")\n",
    "\n",
    "print(X.values()) # returns ['Jean', 25, 70, 1.75]\n",
    "print(\"=========================================\\n\")\n",
    "\n",
    "print(X['name'])  # returns 'Jean'\n",
    "print(\"=========================================\\n\")\n",
    "\n",
    "x = {'Jean': [25, 70, 1.75], 'Paul': [30, 65, 1.80], 'Pierre': [35, 75, 1.65]}\n",
    "print(\"=========================================\\n\")\n",
    "\n",
    "print(x['Jean']) # returns [25, 70, 1.75]\n",
    "print(\"=========================================\\n\")\n",
    "\n",
    "print(x['Jean'][0]) # returns 25\n",
    "print(\"=========================================\\n\")\n",
    "\n",
    "print(x['Jean'][0:2]) # returns [25, 70]"
   ]
  },
  {
   "cell_type": "markdown",
   "metadata": {
    "id": "fPG2ghmo-rBz"
   },
   "source": [
    "- Adding or modifying keys or values: You can modify a dictionary by either changing existing keys and values or by adding new ones. You can also remove values as well as keys.\n",
    "\n",
    "```python\n",
    "  x = {} # Creates an empty dictionary. You could also use x = dict()\n",
    "  x['name'] = 'Jean' # Adds the key-value pair 'name' and 'Jean' to the initial dictionary x\n",
    "  x['biometrics'] = [25, 70, 1.75] # Adds the key-value pair 'biometrics' and [25, 70, 1.75] to dictionary x\n",
    "  x['biometrics'] = [30, 70, 1.80] # Modifies the values of the 'biometrics' key by redefining it\n",
    "  x['biometrics'][0] = 2 # Modifies the element at index 0 in the list of values corresponding to the 'biometrics' key (previously defined)\n",
    "\n",
    "  Y = {'Jean': [25, 70, 1.75], 'Paul': [30, 65, 1.80], 'Pierre': [35, 75, 1.65]}\n",
    "  del Y['Jean'] # Deletes the key 'Jean' and all its corresponding values\n",
    "  del Y['Paul'][0] # Deletes the element at index 0 in the value sequence corresponding to the key 'Paul'. For a key with a single value, use del x['keyName'] where 'keyName' is the name of the key with the single value.\n",
    "\n",
    "```"
   ]
  },
  {
   "cell_type": "code",
   "execution_count": null,
   "metadata": {
    "id": "Q0e6e5et-rB0",
    "outputId": "53070ed4-ca73-4d89-c7ff-6ba96e025fe8"
   },
   "outputs": [
    {
     "name": "stdout",
     "output_type": "stream",
     "text": [
      "{}\n",
      "=========================================\n",
      "\n",
      "{'name': 'Jean'}\n",
      "=========================================\n",
      "\n",
      "{'name': 'Jean', 'biometrics': [25, 70, 1.75]}\n",
      "=========================================\n",
      "\n",
      "{'name': 'Jean', 'biometrics': [30, 70, 1.8]}\n",
      "=========================================\n",
      "\n",
      "{'name': 'Jean', 'biometrics': [2, 70, 1.8]}\n",
      "=========================================\n",
      "\n",
      "{'Jean': [25, 70, 1.75], 'Paul': [30, 65, 1.8], 'Pierre': [35, 75, 1.65]}\n",
      "=========================================\n",
      "\n",
      "{'Paul': [65, 1.8], 'Pierre': [35, 75, 1.65]}\n"
     ]
    }
   ],
   "source": [
    "x = {} # Creates an empty dictionary. You could also use x = dict()\n",
    "print(x)\n",
    "print(\"=========================================\\n\")\n",
    "\n",
    "x['name'] = 'Jean' # Adds the key-value pair 'name' and 'Jean' to the initial dictionary x\n",
    "print(x)\n",
    "print(\"=========================================\\n\")\n",
    "\n",
    "x['biometrics'] = [25, 70, 1.75] # Adds the key-value pair 'biometrics' and [25, 70, 1.75] to dictionary x\n",
    "print(x)\n",
    "print(\"=========================================\\n\")\n",
    "\n",
    "x['biometrics'] = [30, 70, 1.80] # Modifies the values of the 'biometrics' key by redefining it\n",
    "print(x)\n",
    "print(\"=========================================\\n\")\n",
    "\n",
    "x['biometrics'][0] = 2 # Modifies the element at index 0 in the list of values corresponding to the 'biometrics' key (previously defined)\n",
    "print(x)\n",
    "print(\"=========================================\\n\")\n",
    "\n",
    "\n",
    "\n",
    "Y = {'Jean': [25, 70, 1.75], 'Paul': [30, 65, 1.80], 'Pierre': [35, 75, 1.65]}\n",
    "print(Y)\n",
    "print(\"=========================================\\n\")\n",
    "\n",
    "del Y['Jean'] # Deletes the key 'Jean' and all its corresponding values\n",
    "\n",
    "del Y['Paul'][0] # Deletes the element at index 0 in the value sequence corresponding to the key 'Paul'. For a key with a single value, use del x['keyName'] where 'keyName' is the name of the key with the single value.\n",
    "\n",
    "\n",
    "print(Y)"
   ]
  },
  {
   "cell_type": "markdown",
   "metadata": {
    "id": "5qP2vlFU-rB1"
   },
   "source": [
    "- To rename a key in a dictionary, you use the `pop()` function as defined in the following example:\n",
    "\n",
    "```python\n",
    "x = {'Jean': [25, 70, 1.75], 'Paul': [30, 65, 1.80], 'Pierre': [35, 75, 1.65]}\n",
    "x['John'] = x.pop('Jean') # Renames the key 'Jean' to 'John'\n",
    "print(x)\n",
    "\n",
    "```"
   ]
  },
  {
   "cell_type": "code",
   "execution_count": null,
   "metadata": {
    "id": "rCShdF_6-rB2",
    "outputId": "c9b79372-5908-4ac3-a4f7-2b93ff82876d"
   },
   "outputs": [
    {
     "name": "stdout",
     "output_type": "stream",
     "text": [
      "{'Jean': [25, 70, 1.75], 'Paul': [30, 65, 1.8], 'Pierre': [35, 75, 1.65]}\n",
      "{'Paul': [30, 65, 1.8], 'Pierre': [35, 75, 1.65], 'John': [25, 70, 1.75]}\n"
     ]
    }
   ],
   "source": [
    "x = {'Jean': [25, 70, 1.75], 'Paul': [30, 65, 1.80], 'Pierre': [35, 75, 1.65]}\n",
    "print(x)\n",
    "\n",
    "x['John'] = x.pop('Jean') # Renames the key 'Jean' to 'John'\n",
    "print(x)"
   ]
  },
  {
   "cell_type": "markdown",
   "metadata": {
    "id": "RgdWcG2h-rB2"
   },
   "source": [
    "## Further reading\n",
    "\n",
    "0. [Programming with Python](python.aims.ac.za); [Section 20](https://python.aims.ac.za/pages/list_and_list_comprehension.html)\n",
    "1. [Programming with Python](python.aims.ac.za); [Section 21](https://python.aims.ac.za/pages/cp_mutable_objs.html)"
   ]
  },
  {
   "cell_type": "code",
   "execution_count": 90,
   "metadata": {},
   "outputs": [
    {
     "name": "stdout",
     "output_type": "stream",
     "text": [
      "On branch master\n",
      "Your branch is up to date with 'origin/master'.\n",
      "\n",
      "Changes not staged for commit:\n",
      "  (use \"git add <file>...\" to update what will be committed)\n",
      "  (use \"git restore <file>...\" to discard changes in working directory)\n",
      "\tmodified:   PearlPearl-Pearl-day05-report.ipynb\n",
      "\n",
      "Untracked files:\n",
      "  (use \"git add <file>...\" to include in what will be committed)\n",
      "\t.ipynb_checkpoints/\n",
      "\tEmily.png\n",
      "\tPearl_Kuuridong_Headshot.jpg\n",
      "\tPyPro-SCiDaS-day_01a_introduction_to_python.ipynb\n",
      "\tcommand_mode.png\n",
      "\tedit_mode.png\n",
      "\tgalois.jpg\n",
      "\tmenubar_toolbar.png\n",
      "\n",
      "no changes added to commit (use \"git add\" and/or \"git commit -a\")\n"
     ]
    }
   ],
   "source": [
    "!git status"
   ]
  },
  {
   "cell_type": "code",
   "execution_count": 81,
   "metadata": {},
   "outputs": [
    {
     "name": "stderr",
     "output_type": "stream",
     "text": [
      "warning: in the working copy of 'PearlPearl-Pearl-day05-report.ipynb', LF will be replaced by CRLF the next time Git touches it\n"
     ]
    }
   ],
   "source": [
    "!git add PearlPearl-Pearl-day05-report.ipynb"
   ]
  },
  {
   "cell_type": "code",
   "execution_count": 82,
   "metadata": {},
   "outputs": [
    {
     "name": "stdout",
     "output_type": "stream",
     "text": [
      "[master 960e26f] Added report for day 05\n",
      " 1 file changed, 2083 insertions(+)\n",
      " create mode 100644 PearlPearl-Pearl-day05-report.ipynb\n"
     ]
    },
    {
     "name": "stderr",
     "output_type": "stream",
     "text": [
      "warning: in the working copy of 'PearlPearl-Pearl-day05-report.ipynb', LF will be replaced by CRLF the next time Git touches it\n"
     ]
    }
   ],
   "source": [
    "!git commit -am \"Added report for day 05\""
   ]
  },
  {
   "cell_type": "code",
   "execution_count": 83,
   "metadata": {},
   "outputs": [
    {
     "name": "stderr",
     "output_type": "stream",
     "text": [
      "git: 'credential-manager-core' is not a git command. See 'git --help'.\n",
      "remote: This repository moved. Please use the new location:        \n",
      "remote:   https://github.com/PearlPearl-Pearl/PearlPearl-Pearl-daily-reports.git        \n",
      "To https://github.com/PearlPearl-Pearl/pearlpearl-pearl-daily-reports.git\n",
      "   2fa39e7..960e26f  master -> master\n"
     ]
    }
   ],
   "source": [
    "!git push"
   ]
  },
  {
   "cell_type": "code",
   "execution_count": 89,
   "metadata": {},
   "outputs": [
    {
     "name": "stderr",
     "output_type": "stream",
     "text": [
      "git: 'credential-manager-core' is not a git command. See 'git --help'.\n",
      "Everything up-to-date\n"
     ]
    }
   ],
   "source": [
    "!git push"
   ]
  },
  {
   "cell_type": "code",
   "execution_count": null,
   "metadata": {},
   "outputs": [],
   "source": []
  }
 ],
 "metadata": {
  "colab": {
   "provenance": []
  },
  "kernelspec": {
   "display_name": "Python 3 (ipykernel)",
   "language": "python",
   "name": "python3"
  },
  "language_info": {
   "codemirror_mode": {
    "name": "ipython",
    "version": 3
   },
   "file_extension": ".py",
   "mimetype": "text/x-python",
   "name": "python",
   "nbconvert_exporter": "python",
   "pygments_lexer": "ipython3",
   "version": "3.12.10"
  }
 },
 "nbformat": 4,
 "nbformat_minor": 4
}
