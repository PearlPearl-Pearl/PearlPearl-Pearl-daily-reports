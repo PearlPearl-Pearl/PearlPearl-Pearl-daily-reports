{
 "cells": [
  {
   "cell_type": "markdown",
   "id": "hawaiian-yield",
   "metadata": {},
   "source": [
    "### Control Flow\n",
    "### Loops\n",
    "### Implement the quadratic for real coefficients and complex coefficients\n",
    "#### For loop for strings to determine if the character is a vowel or consonant"
   ]
  },
  {
   "cell_type": "code",
   "execution_count": 2,
   "id": "moving-commerce",
   "metadata": {},
   "outputs": [
    {
     "name": "stdout",
     "output_type": "stream",
     "text": [
      "We found it\n"
     ]
    }
   ],
   "source": [
    "i = 10\n",
    "if i > 5:\n",
    "    print(\"We found it\")"
   ]
  },
  {
   "cell_type": "code",
   "execution_count": 3,
   "id": "spare-bearing",
   "metadata": {},
   "outputs": [
    {
     "name": "stdout",
     "output_type": "stream",
     "text": [
      "We are yet to find it\n"
     ]
    }
   ],
   "source": [
    "if i < 5:\n",
    "    print(\"We found it\")\n",
    "else:\n",
    "    print(\"We are yet to find it\")"
   ]
  },
  {
   "cell_type": "code",
   "execution_count": 4,
   "id": "union-physics",
   "metadata": {},
   "outputs": [
    {
     "name": "stdout",
     "output_type": "stream",
     "text": [
      "The number 10 is positive\n"
     ]
    }
   ],
   "source": [
    "if i > 0:\n",
    "    print(\"The number\", i, \"is positive\")\n",
    "elif i < 0:\n",
    "    print(\"The number\", i, \"is negative\")\n",
    "else:\n",
    "    print(\"The number\", i, \"is 0\")"
   ]
  },
  {
   "cell_type": "code",
   "execution_count": 5,
   "id": "miniature-hurricane",
   "metadata": {},
   "outputs": [
    {
     "name": "stdout",
     "output_type": "stream",
     "text": [
      "1\n",
      "2\n",
      "3\n",
      "4\n"
     ]
    }
   ],
   "source": [
    "first_list = [1,2,3,4]\n",
    "\n",
    "for num in first_list:\n",
    "    print(num)"
   ]
  },
  {
   "cell_type": "code",
   "execution_count": 7,
   "id": "significant-electronics",
   "metadata": {},
   "outputs": [
    {
     "name": "stdout",
     "output_type": "stream",
     "text": [
      "0\n",
      "1\n",
      "2\n",
      "3\n",
      "4\n",
      "5\n",
      "6\n",
      "7\n",
      "8\n"
     ]
    }
   ],
   "source": [
    "for i in range(9):\n",
    "    print(i)"
   ]
  },
  {
   "cell_type": "code",
   "execution_count": 10,
   "id": "corporate-essence",
   "metadata": {},
   "outputs": [
    {
     "name": "stdout",
     "output_type": "stream",
     "text": [
      "{0, 1, 2, 3, 4, 5, 6, 7, 8, 9}\n",
      "0\n",
      "1\n",
      "2\n",
      "3\n",
      "4\n",
      "5\n",
      "6\n",
      "7\n",
      "8\n",
      "9\n"
     ]
    }
   ],
   "source": [
    "a = set(range(10))\n",
    "print(a)\n",
    "for i in a:\n",
    "    print(i)"
   ]
  },
  {
   "cell_type": "code",
   "execution_count": 12,
   "id": "welsh-average",
   "metadata": {},
   "outputs": [
    {
     "name": "stdout",
     "output_type": "stream",
     "text": [
      "This is the value of i 1\n",
      "This is the value of i 2\n",
      "This is the value of i 3\n",
      "This is the value of i 4\n",
      "This is the value of i 5\n",
      "This is the value of i 6\n",
      "This is the value of i 7\n",
      "This is the value of i 8\n",
      "This is the value of i 9\n",
      "This is the value of i 10\n"
     ]
    }
   ],
   "source": [
    "i = 1\n",
    "\n",
    "while i <= 10:\n",
    "    print(\"This is the value of i\", i)\n",
    "    i += 1"
   ]
  },
  {
   "cell_type": "code",
   "execution_count": 10,
   "id": "visible-observer",
   "metadata": {},
   "outputs": [
    {
     "name": "stdin",
     "output_type": "stream",
     "text": [
      "Enter 3 different digits separated by a comma like so: 1,2,3:  1,2,3\n"
     ]
    },
    {
     "name": "stdout",
     "output_type": "stream",
     "text": [
      "The roots of the quadratic equation 1.0x^2+2.0x+3.0 are complex conjugates.\n",
      " They are : (-1+1.4142135623730951j) and (-1-1.4142135623730951j)\n"
     ]
    }
   ],
   "source": [
    "#### Quadratic function with real coeffecients\n",
    "from cmath import sqrt\n",
    "\n",
    "a,b,c = input(\"Enter 3 different digits separated by a comma like so: 1,2,3: \").split(',')\n",
    "a,b,c = float(a), float(b), float(c)\n",
    "\n",
    "delta = b*b - (4*a*c)\n",
    "if a != 0:\n",
    "    if delta == 0:\n",
    "        x = -b/(2*a)\n",
    "        print(f\"The roots of the quadratic equation {a}x^2+{b}x+{c} are real and repeated.\\n They are : {x}\")\n",
    "    elif delta > 0:\n",
    "        x1 = (-b+sqrt(delta))/(2*a)\n",
    "        x2 = (-b-sqrt(delta))/(2*a)   \n",
    "        print(f\"The roots of the quadratic equation {a}x^2+{b}x+{c} are real and distinct.\\n They are : {x1} and {x2}\")\n",
    "    else:\n",
    "        x1 = (-b+sqrt(delta))/(2*a)\n",
    "        x2 = (-b-sqrt(delta))/(2*a)\n",
    "        print(f\"The roots of the quadratic equation {a}x^2+{b}x+{c} are complex conjugates.\\n They are : {x1} and {x2}\")"
   ]
  },
  {
   "cell_type": "code",
   "execution_count": 5,
   "id": "sharp-lexington",
   "metadata": {},
   "outputs": [
    {
     "data": {
      "text/plain": [
       "\u001b[31mSignature:\u001b[39m cmath.sqrt(z, /)\n",
       "\u001b[31mDocstring:\u001b[39m Return the square root of z.\n",
       "\u001b[31mType:\u001b[39m      builtin_function_or_method"
      ]
     },
     "metadata": {},
     "output_type": "display_data"
    }
   ],
   "source": [
    "import cmath\n",
    "?cmath.sqrt"
   ]
  },
  {
   "cell_type": "code",
   "execution_count": 12,
   "id": "4b2d9161-4cc1-4535-bcd8-049c318a894f",
   "metadata": {},
   "outputs": [
    {
     "name": "stdout",
     "output_type": "stream",
     "text": [
      "We found some non Rr characters\n",
      "We found some non Rr characters\n",
      "We found some non Rr characters\n",
      "We found some non Rr characters\n",
      "We found some Rrrrrsss\n",
      "We found some non Rr characters\n",
      "We found some non Rr characters\n",
      "We found some non Rr characters\n",
      "We found some non Rr characters\n",
      "We found some Rrrrrsss\n",
      "We found some non Rr characters\n",
      "We found some non Rr characters\n",
      "We found some non Rr characters\n",
      "We found some non Rr characters\n",
      "We found some non Rr characters\n",
      "We found some non Rr characters\n",
      "We found some non Rr characters\n",
      "We found some non Rr characters\n",
      "We found some non Rr characters\n",
      "We found some non Rr characters\n",
      "We found some non Rr characters\n",
      "We found some non Rr characters\n",
      "We found some non Rr characters\n",
      "We found some non Rr characters\n",
      "We found some non Rr characters\n",
      "We found some non Rr characters\n",
      "We found some non Rr characters\n",
      "We found some non Rr characters\n",
      "We found some non Rr characters\n",
      "We found some non Rr characters\n",
      "We found some non Rr characters\n",
      "We found some non Rr characters\n",
      "We found some non Rr characters\n"
     ]
    }
   ],
   "source": [
    "some_sentence = \"Hello world. AIMS Rwanda is the best AIMS center in the network.😂🙌\"\n",
    "\n",
    "index = 0\n",
    "while (index < len(some_sentence)):\n",
    "    if some_sentence[index] in \"Rr\":\n",
    "        print(\"We found some Rrrrrsss\")\n",
    "    else:\n",
    "        print(\"We found some non Rr characters\")\n",
    "    index += 2"
   ]
  },
  {
   "cell_type": "code",
   "execution_count": 15,
   "id": "29958af4-8588-48fa-9123-d41ee928ef1b",
   "metadata": {},
   "outputs": [],
   "source": [
    "my_tuple = (1,2, [3,4])\n",
    "# my_set = {1,2,3, [4,5,6]}"
   ]
  },
  {
   "cell_type": "code",
   "execution_count": 16,
   "id": "f0444cbb-d7bb-4cb8-b20f-b0e6d029e65a",
   "metadata": {},
   "outputs": [
    {
     "data": {
      "text/plain": [
       "3"
      ]
     },
     "execution_count": 16,
     "metadata": {},
     "output_type": "execute_result"
    }
   ],
   "source": [
    "my_tuple[-1][0]"
   ]
  },
  {
   "cell_type": "code",
   "execution_count": 17,
   "id": "6d25c663-e8a3-446e-a4c7-f6739003480c",
   "metadata": {},
   "outputs": [],
   "source": [
    "my_tuple[-1][0] = 10"
   ]
  },
  {
   "cell_type": "code",
   "execution_count": 18,
   "id": "45771c4c-46af-4482-8458-f51eaadd7d89",
   "metadata": {},
   "outputs": [
    {
     "data": {
      "text/plain": [
       "(1, 2, [10, 4])"
      ]
     },
     "execution_count": 18,
     "metadata": {},
     "output_type": "execute_result"
    }
   ],
   "source": [
    "my_tuple"
   ]
  },
  {
   "cell_type": "code",
   "execution_count": 19,
   "id": "fb1d2157-ca3b-45c5-b741-43aaad4eacbf",
   "metadata": {},
   "outputs": [
    {
     "name": "stdout",
     "output_type": "stream",
     "text": [
      "On branch master\n",
      "Your branch is up to date with 'origin/master'.\n",
      "\n",
      "Changes not staged for commit:\n",
      "  (use \"git add <file>...\" to update what will be committed)\n",
      "  (use \"git restore <file>...\" to discard changes in working directory)\n",
      "\tmodified:   PearlPearl-Pearl-day05-report.ipynb\n",
      "\n",
      "Untracked files:\n",
      "  (use \"git add <file>...\" to include in what will be committed)\n",
      "\t.ipynb_checkpoints/\n",
      "\tEmily.png\n",
      "\tPearlPearl-Pearl-day06-report.ipynb\n",
      "\tPearl_Kuuridong_Headshot.jpg\n",
      "\tPyPro-SCiDaS-day_01a_introduction_to_python.ipynb\n",
      "\tcommand_mode.png\n",
      "\tedit_mode.png\n",
      "\tgalois.jpg\n",
      "\tmenubar_toolbar.png\n",
      "\n",
      "no changes added to commit (use \"git add\" and/or \"git commit -a\")\n"
     ]
    }
   ],
   "source": [
    "!git status"
   ]
  },
  {
   "cell_type": "code",
   "execution_count": 20,
   "id": "6a83497a-cd2d-4b65-9e41-047326630b32",
   "metadata": {},
   "outputs": [
    {
     "name": "stderr",
     "output_type": "stream",
     "text": [
      "warning: in the working copy of 'PearlPearl-Pearl-day06-report.ipynb', LF will be replaced by CRLF the next time Git touches it\n"
     ]
    }
   ],
   "source": [
    "!git add PearlPearl-Pearl-day06-report.ipynb"
   ]
  },
  {
   "cell_type": "code",
   "execution_count": 21,
   "id": "194ec2da-7094-4173-983d-ed2e3e0c2e88",
   "metadata": {},
   "outputs": [
    {
     "name": "stdout",
     "output_type": "stream",
     "text": [
      "[master ee83f50] Added report for day 06\n",
      " 2 files changed, 481 insertions(+), 5 deletions(-)\n",
      " create mode 100644 PearlPearl-Pearl-day06-report.ipynb\n"
     ]
    },
    {
     "name": "stderr",
     "output_type": "stream",
     "text": [
      "warning: in the working copy of 'PearlPearl-Pearl-day05-report.ipynb', LF will be replaced by CRLF the next time Git touches it\n"
     ]
    }
   ],
   "source": [
    "!git commit -am \"Added report for day 06\""
   ]
  },
  {
   "cell_type": "code",
   "execution_count": 23,
   "id": "3d612fc6-907b-4fd6-b114-c484def0aeec",
   "metadata": {},
   "outputs": [
    {
     "name": "stderr",
     "output_type": "stream",
     "text": [
      "git: 'credential-manager-core' is not a git command. See 'git --help'.\n",
      "To https://github.com/PearlPearl-Pearl/PearlPearl-Pearl-daily-reports.git\n",
      "   960e26f..ee83f50  master -> master\n"
     ]
    }
   ],
   "source": [
    "!git push"
   ]
  },
  {
   "cell_type": "code",
   "execution_count": 24,
   "id": "c0dc1f4b-13c0-4a3f-8735-f024b73b4225",
   "metadata": {},
   "outputs": [
    {
     "data": {
      "text/plain": [
       "['__and__',\n",
       " '__class__',\n",
       " '__class_getitem__',\n",
       " '__contains__',\n",
       " '__delattr__',\n",
       " '__dir__',\n",
       " '__doc__',\n",
       " '__eq__',\n",
       " '__format__',\n",
       " '__ge__',\n",
       " '__getattribute__',\n",
       " '__getstate__',\n",
       " '__gt__',\n",
       " '__hash__',\n",
       " '__iand__',\n",
       " '__init__',\n",
       " '__init_subclass__',\n",
       " '__ior__',\n",
       " '__isub__',\n",
       " '__iter__',\n",
       " '__ixor__',\n",
       " '__le__',\n",
       " '__len__',\n",
       " '__lt__',\n",
       " '__ne__',\n",
       " '__new__',\n",
       " '__or__',\n",
       " '__rand__',\n",
       " '__reduce__',\n",
       " '__reduce_ex__',\n",
       " '__repr__',\n",
       " '__ror__',\n",
       " '__rsub__',\n",
       " '__rxor__',\n",
       " '__setattr__',\n",
       " '__sizeof__',\n",
       " '__str__',\n",
       " '__sub__',\n",
       " '__subclasshook__',\n",
       " '__xor__',\n",
       " 'add',\n",
       " 'clear',\n",
       " 'copy',\n",
       " 'difference',\n",
       " 'difference_update',\n",
       " 'discard',\n",
       " 'intersection',\n",
       " 'intersection_update',\n",
       " 'isdisjoint',\n",
       " 'issubset',\n",
       " 'issuperset',\n",
       " 'pop',\n",
       " 'remove',\n",
       " 'symmetric_difference',\n",
       " 'symmetric_difference_update',\n",
       " 'union',\n",
       " 'update']"
      ]
     },
     "execution_count": 24,
     "metadata": {},
     "output_type": "execute_result"
    }
   ],
   "source": [
    "dir(set)"
   ]
  },
  {
   "cell_type": "code",
   "execution_count": null,
   "id": "45fba9cc-bd1f-400b-ae1a-9cf46cef4039",
   "metadata": {},
   "outputs": [],
   "source": []
  }
 ],
 "metadata": {
  "kernelspec": {
   "display_name": "Python 3 (ipykernel)",
   "language": "python",
   "name": "python3"
  },
  "language_info": {
   "codemirror_mode": {
    "name": "ipython",
    "version": 3
   },
   "file_extension": ".py",
   "mimetype": "text/x-python",
   "name": "python",
   "nbconvert_exporter": "python",
   "pygments_lexer": "ipython3",
   "version": "3.12.10"
  }
 },
 "nbformat": 4,
 "nbformat_minor": 5
}
