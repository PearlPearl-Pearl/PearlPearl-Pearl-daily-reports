{
 "cells": [
  {
   "cell_type": "markdown",
   "id": "hawaiian-yield",
   "metadata": {},
   "source": [
    "### Control Flow\n",
    "### Loops\n",
    "### Implement the quadratic for real coefficients and complex coefficients\n",
    "#### For loop for strings to determine if the character is a vowel or consonant"
   ]
  },
  {
   "cell_type": "code",
   "execution_count": 2,
   "id": "moving-commerce",
   "metadata": {},
   "outputs": [
    {
     "name": "stdout",
     "output_type": "stream",
     "text": [
      "We found it\n"
     ]
    }
   ],
   "source": [
    "i = 10\n",
    "if i > 5:\n",
    "    print(\"We found it\")"
   ]
  },
  {
   "cell_type": "code",
   "execution_count": 3,
   "id": "spare-bearing",
   "metadata": {},
   "outputs": [
    {
     "name": "stdout",
     "output_type": "stream",
     "text": [
      "We are yet to find it\n"
     ]
    }
   ],
   "source": [
    "if i < 5:\n",
    "    print(\"We found it\")\n",
    "else:\n",
    "    print(\"We are yet to find it\")"
   ]
  },
  {
   "cell_type": "code",
   "execution_count": 4,
   "id": "union-physics",
   "metadata": {},
   "outputs": [
    {
     "name": "stdout",
     "output_type": "stream",
     "text": [
      "The number 10 is positive\n"
     ]
    }
   ],
   "source": [
    "if i > 0:\n",
    "    print(\"The number\", i, \"is positive\")\n",
    "elif i < 0:\n",
    "    print(\"The number\", i, \"is negative\")\n",
    "else:\n",
    "    print(\"The number\", i, \"is 0\")"
   ]
  },
  {
   "cell_type": "code",
   "execution_count": 5,
   "id": "miniature-hurricane",
   "metadata": {},
   "outputs": [
    {
     "name": "stdout",
     "output_type": "stream",
     "text": [
      "1\n",
      "2\n",
      "3\n",
      "4\n"
     ]
    }
   ],
   "source": [
    "first_list = [1,2,3,4]\n",
    "\n",
    "for num in first_list:\n",
    "    print(num)"
   ]
  },
  {
   "cell_type": "code",
   "execution_count": 7,
   "id": "significant-electronics",
   "metadata": {},
   "outputs": [
    {
     "name": "stdout",
     "output_type": "stream",
     "text": [
      "0\n",
      "1\n",
      "2\n",
      "3\n",
      "4\n",
      "5\n",
      "6\n",
      "7\n",
      "8\n"
     ]
    }
   ],
   "source": [
    "for i in range(9):\n",
    "    print(i)"
   ]
  },
  {
   "cell_type": "code",
   "execution_count": 10,
   "id": "corporate-essence",
   "metadata": {},
   "outputs": [
    {
     "name": "stdout",
     "output_type": "stream",
     "text": [
      "{0, 1, 2, 3, 4, 5, 6, 7, 8, 9}\n",
      "0\n",
      "1\n",
      "2\n",
      "3\n",
      "4\n",
      "5\n",
      "6\n",
      "7\n",
      "8\n",
      "9\n"
     ]
    }
   ],
   "source": [
    "a = set(range(10))\n",
    "print(a)\n",
    "for i in a:\n",
    "    print(i)"
   ]
  },
  {
   "cell_type": "code",
   "execution_count": 12,
   "id": "welsh-average",
   "metadata": {},
   "outputs": [
    {
     "name": "stdout",
     "output_type": "stream",
     "text": [
      "This is the value of i 1\n",
      "This is the value of i 2\n",
      "This is the value of i 3\n",
      "This is the value of i 4\n",
      "This is the value of i 5\n",
      "This is the value of i 6\n",
      "This is the value of i 7\n",
      "This is the value of i 8\n",
      "This is the value of i 9\n",
      "This is the value of i 10\n"
     ]
    }
   ],
   "source": [
    "i = 1\n",
    "\n",
    "while i <= 10:\n",
    "    print(\"This is the value of i\", i)\n",
    "    i += 1"
   ]
  },
  {
   "cell_type": "code",
   "execution_count": 10,
   "id": "visible-observer",
   "metadata": {},
   "outputs": [
    {
     "name": "stdin",
     "output_type": "stream",
     "text": [
      "Enter 3 different digits separated by a comma like so: 1,2,3:  1,2,3\n"
     ]
    },
    {
     "name": "stdout",
     "output_type": "stream",
     "text": [
      "The roots of the quadratic equation 1.0x^2+2.0x+3.0 are complex conjugates.\n",
      " They are : (-1+1.4142135623730951j) and (-1-1.4142135623730951j)\n"
     ]
    }
   ],
   "source": [
    "#### Quadratic function with real coeffecients\n",
    "from cmath import sqrt\n",
    "\n",
    "a,b,c = input(\"Enter 3 different digits separated by a comma like so: 1,2,3: \").split(',')\n",
    "a,b,c = float(a), float(b), float(c)\n",
    "\n",
    "delta = b*b - (4*a*c)\n",
    "if a != 0:\n",
    "    if delta == 0:\n",
    "        x = -b/(2*a)\n",
    "        print(f\"The roots of the quadratic equation {a}x^2+{b}x+{c} are real and repeated.\\n They are : {x}\")\n",
    "    elif delta > 0:\n",
    "        x1 = (-b+sqrt(delta))/(2*a)\n",
    "        x2 = (-b-sqrt(delta))/(2*a)   \n",
    "        print(f\"The roots of the quadratic equation {a}x^2+{b}x+{c} are real and distinct.\\n They are : {x1} and {x2}\")\n",
    "    else:\n",
    "        x1 = (-b+sqrt(delta))/(2*a)\n",
    "        x2 = (-b-sqrt(delta))/(2*a)\n",
    "        print(f\"The roots of the quadratic equation {a}x^2+{b}x+{c} are complex conjugates.\\n They are : {x1} and {x2}\")"
   ]
  },
  {
   "cell_type": "code",
   "execution_count": 5,
   "id": "sharp-lexington",
   "metadata": {},
   "outputs": [
    {
     "data": {
      "text/plain": [
       "\u001b[31mSignature:\u001b[39m cmath.sqrt(z, /)\n",
       "\u001b[31mDocstring:\u001b[39m Return the square root of z.\n",
       "\u001b[31mType:\u001b[39m      builtin_function_or_method"
      ]
     },
     "metadata": {},
     "output_type": "display_data"
    }
   ],
   "source": [
    "import cmath\n",
    "?cmath.sqrt"
   ]
  },
  {
   "cell_type": "code",
   "execution_count": 12,
   "id": "4b2d9161-4cc1-4535-bcd8-049c318a894f",
   "metadata": {},
   "outputs": [
    {
     "name": "stdout",
     "output_type": "stream",
     "text": [
      "We found some non Rr characters\n",
      "We found some non Rr characters\n",
      "We found some non Rr characters\n",
      "We found some non Rr characters\n",
      "We found some Rrrrrsss\n",
      "We found some non Rr characters\n",
      "We found some non Rr characters\n",
      "We found some non Rr characters\n",
      "We found some non Rr characters\n",
      "We found some Rrrrrsss\n",
      "We found some non Rr characters\n",
      "We found some non Rr characters\n",
      "We found some non Rr characters\n",
      "We found some non Rr characters\n",
      "We found some non Rr characters\n",
      "We found some non Rr characters\n",
      "We found some non Rr characters\n",
      "We found some non Rr characters\n",
      "We found some non Rr characters\n",
      "We found some non Rr characters\n",
      "We found some non Rr characters\n",
      "We found some non Rr characters\n",
      "We found some non Rr characters\n",
      "We found some non Rr characters\n",
      "We found some non Rr characters\n",
      "We found some non Rr characters\n",
      "We found some non Rr characters\n",
      "We found some non Rr characters\n",
      "We found some non Rr characters\n",
      "We found some non Rr characters\n",
      "We found some non Rr characters\n",
      "We found some non Rr characters\n",
      "We found some non Rr characters\n"
     ]
    }
   ],
   "source": [
    "some_sentence = \"Hello world. AIMS Rwanda is the best AIMS center in the network.😂🙌\"\n",
    "\n",
    "index = 0\n",
    "while (index < len(some_sentence)):\n",
    "    if some_sentence[index] in \"Rr\":\n",
    "        print(\"We found some Rrrrrsss\")\n",
    "    else:\n",
    "        print(\"We found some non Rr characters\")\n",
    "    index += 2"
   ]
  },
  {
   "cell_type": "code",
   "execution_count": 15,
   "id": "29958af4-8588-48fa-9123-d41ee928ef1b",
   "metadata": {},
   "outputs": [],
   "source": [
    "my_tuple = (1,2, [3,4])\n",
    "# my_set = {1,2,3, [4,5,6]}"
   ]
  },
  {
   "cell_type": "code",
   "execution_count": 16,
   "id": "f0444cbb-d7bb-4cb8-b20f-b0e6d029e65a",
   "metadata": {},
   "outputs": [
    {
     "data": {
      "text/plain": [
       "3"
      ]
     },
     "execution_count": 16,
     "metadata": {},
     "output_type": "execute_result"
    }
   ],
   "source": [
    "my_tuple[-1][0]"
   ]
  },
  {
   "cell_type": "code",
   "execution_count": 17,
   "id": "6d25c663-e8a3-446e-a4c7-f6739003480c",
   "metadata": {},
   "outputs": [],
   "source": [
    "my_tuple[-1][0] = 10"
   ]
  },
  {
   "cell_type": "code",
   "execution_count": 18,
   "id": "45771c4c-46af-4482-8458-f51eaadd7d89",
   "metadata": {},
   "outputs": [
    {
     "data": {
      "text/plain": [
       "(1, 2, [10, 4])"
      ]
     },
     "execution_count": 18,
     "metadata": {},
     "output_type": "execute_result"
    }
   ],
   "source": [
    "my_tuple"
   ]
  },
  {
   "cell_type": "code",
   "execution_count": null,
   "id": "fb1d2157-ca3b-45c5-b741-43aaad4eacbf",
   "metadata": {},
   "outputs": [],
   "source": []
  }
 ],
 "metadata": {
  "kernelspec": {
   "display_name": "Python 3 (ipykernel)",
   "language": "python",
   "name": "python3"
  },
  "language_info": {
   "codemirror_mode": {
    "name": "ipython",
    "version": 3
   },
   "file_extension": ".py",
   "mimetype": "text/x-python",
   "name": "python",
   "nbconvert_exporter": "python",
   "pygments_lexer": "ipython3",
   "version": "3.12.10"
  }
 },
 "nbformat": 4,
 "nbformat_minor": 5
}
