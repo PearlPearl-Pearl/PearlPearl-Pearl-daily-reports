{
 "cells": [
  {
   "cell_type": "markdown",
   "metadata": {
    "id": "2Xu2QqWUBM8-"
   },
   "source": [
    "# The Jupyter Notebook"
   ]
  },
  {
   "cell_type": "markdown",
   "metadata": {
    "id": "8fy6EKXKBM9D"
   },
   "source": [
    "This is an introduction to Jupyter IPython Notebooks, highlighting some of their key functionality. Please read through and execute cells with **`Shift + Enter`** to get an understanding of what Jupyter Notebooks can do.\n",
    "\n",
    "Please do not be concerned if this is a little confusing at this stage, try returning to this notebook at the end of the course when you have more experience using the notebooks."
   ]
  },
  {
   "cell_type": "markdown",
   "metadata": {
    "id": "iJ1S148QBM9F"
   },
   "source": [
    "## What is a Jupyter Notebook?"
   ]
  },
  {
   "cell_type": "markdown",
   "metadata": {
    "id": "H2ZuD2tcBM9G"
   },
   "source": [
    "An Ipython Jupyter Notebook is:\n",
    "\n",
    "- an interactive environment for writing and running code  \n",
    "- a notebooke that weaves code, data, prose, equations, analysis, and visualization  \n",
    "- a tool for prototyping new code and analysis  \n",
    "- a method for creating a reproducible workflow for scientific research  \n"
   ]
  },
  {
   "cell_type": "markdown",
   "metadata": {
    "id": "xnhEt719BM9H"
   },
   "source": [
    "### This is another cell in the ipynb file\n",
    "- Just testing my markdown skills for now."
   ]
  },
  {
   "cell_type": "markdown",
   "metadata": {
    "id": "nfYxNquMBM9H"
   },
   "source": [
    "### Writing and Running Code"
   ]
  },
  {
   "cell_type": "markdown",
   "metadata": {
    "id": "RSiLDWPvBM9I"
   },
   "source": [
    "The Jupyter Notebook consists of an ordered list of cells, there are four main cell types:\n",
    "* **Code**\n",
    "* **Markdown**\n",
    "* **Heading**\n",
    "* **Raw**"
   ]
  },
  {
   "cell_type": "markdown",
   "metadata": {
    "id": "rocfYGvPBM9J"
   },
   "source": [
    "##### What is the difference between:\n",
    "\n",
    "* This bullet point and\n",
    "- This bullet point.\n",
    "\n",
    "---\n",
    "Are there any other kinds of bullet points?"
   ]
  },
  {
   "cell_type": "markdown",
   "metadata": {
    "id": "3lzyiiP1BM9K"
   },
   "source": [
    "Here we briefly introduce how Code Cells work. We will return to the other three cell types later."
   ]
  },
  {
   "cell_type": "markdown",
   "metadata": {
    "id": "I3rlGWOFBM9K"
   },
   "source": [
    "### Code Cells"
   ]
  },
  {
   "cell_type": "code",
   "execution_count": 1,
   "metadata": {
    "collapsed": false,
    "id": "3yrLGcA_BM9L",
    "jupyter": {
     "outputs_hidden": false
    }
   },
   "outputs": [],
   "source": [
    "# This is a code cell made up of Python comments\n",
    "# We can execute it by clicking on it with the mouse\n",
    "# then clicking the \"Run Cell\" button\n",
    "# or if this does not work try pressing \"Ctrl + Enter\" or \"Shift + Enter\""
   ]
  },
  {
   "cell_type": "code",
   "execution_count": 2,
   "metadata": {
    "colab": {
     "base_uri": "https://localhost:8080/",
     "height": 35
    },
    "id": "sR6USVVJBM9M",
    "outputId": "f57c8df7-7bcc-49c6-daad-88e8fb8c3e56"
   },
   "outputs": [
    {
     "data": {
      "text/plain": [
       "'This is also a comment in python'"
      ]
     },
     "execution_count": 2,
     "metadata": {},
     "output_type": "execute_result"
    }
   ],
   "source": [
    "# This is my first comment in python\n",
    "\"\"\"This is also a comment in python\"\"\""
   ]
  },
  {
   "cell_type": "code",
   "execution_count": 3,
   "metadata": {
    "colab": {
     "base_uri": "https://localhost:8080/"
    },
    "collapsed": false,
    "id": "gvDOiewvBM9M",
    "jupyter": {
     "outputs_hidden": false
    },
    "outputId": "53af964a-0907-487d-d599-13e2d3cefbf6"
   },
   "outputs": [
    {
     "name": "stdout",
     "output_type": "stream",
     "text": [
      "Hello, World\n"
     ]
    }
   ],
   "source": [
    "# A comment is a pretty boring piece of code\n",
    "# This code cell generates \"Hello, World\" when executed\n",
    "\n",
    "print(\"Hello, World\")"
   ]
  },
  {
   "cell_type": "code",
   "execution_count": 4,
   "metadata": {
    "colab": {
     "base_uri": "https://localhost:8080/"
    },
    "id": "quy65jgtBM9N",
    "outputId": "e2cfe2c5-f751-49b7-c818-8b0ff3891b54"
   },
   "outputs": [
    {
     "name": "stdout",
     "output_type": "stream",
     "text": [
      "My name is Pearl\n"
     ]
    }
   ],
   "source": [
    "print(\"My name is Pearl\")"
   ]
  },
  {
   "cell_type": "code",
   "execution_count": 8,
   "metadata": {
    "colab": {
     "base_uri": "https://localhost:8080/",
     "height": 430
    },
    "collapsed": false,
    "id": "yfkEAnhfBM9N",
    "jupyter": {
     "outputs_hidden": false
    },
    "outputId": "222a2f76-8a63-4d63-ffce-e849fedb7656"
   },
   "outputs": [
    {
     "data": {
      "image/png": "[encoded data removed]",
      "text/plain": [
       "<Figure size 640x480 with 1 Axes>"
      ]
     },
     "metadata": {},
     "output_type": "display_data"
    }
   ],
   "source": [
    "# Ensure matplotlib is ready for inline output\n",
    "%matplotlib inline\n",
    "\n",
    "import matplotlib.pyplot as plt  # <-- import pyplot explicitly\n",
    "\n",
    "# Generate the histogram\n",
    "plt.hist([0, 1, 2, 2, 3, 3, 3, 4, 4, 4, 10])\n",
    "plt.show()  # <-- explicitly show the plot (good practice)\n"
   ]
  },
  {
   "cell_type": "markdown",
   "metadata": {
    "id": "1sDyNOIBBvde"
   },
   "source": [
    "### What happens if I do not add a matplotlib inline?"
   ]
  },
  {
   "cell_type": "code",
   "execution_count": 9,
   "metadata": {
    "colab": {
     "base_uri": "https://localhost:8080/",
     "height": 430
    },
    "id": "hswNOpVQB3c0",
    "outputId": "4b5aabab-aa4f-436f-dce8-7f2be634db60"
   },
   "outputs": [
    {
     "data": {
      "image/png": "[encoded data removed]",
      "text/plain": [
       "<Figure size 640x480 with 1 Axes>"
      ]
     },
     "metadata": {},
     "output_type": "display_data"
    }
   ],
   "source": [
    "import matplotlib.pyplot as plt\n",
    "\n",
    "plt.hist([0, 1, 2, 2, 3, 3, 3, 4, 4, 4, 10])\n",
    "plt.show()"
   ]
  },
  {
   "cell_type": "markdown",
   "metadata": {
    "id": "trJDeMlLCSpw"
   },
   "source": [
    "### What happens if I do not add the plt.show?"
   ]
  },
  {
   "cell_type": "code",
   "execution_count": 10,
   "metadata": {
    "colab": {
     "base_uri": "https://localhost:8080/",
     "height": 482
    },
    "id": "yRloRZTKCNP4",
    "outputId": "173dac4a-51bd-4690-a60f-28e1d8788fe8"
   },
   "outputs": [
    {
     "data": {
      "text/plain": [
       "(array([1., 1., 2., 3., 3., 0., 0., 0., 0., 1.]),\n",
       " array([ 0.,  1.,  2.,  3.,  4.,  5.,  6.,  7.,  8.,  9., 10.]),\n",
       " <BarContainer object of 10 artists>)"
      ]
     },
     "execution_count": 10,
     "metadata": {},
     "output_type": "execute_result"
    },
    {
     "data": {
      "image/png": "[encoded data removed]",
      "text/plain": [
       "<Figure size 640x480 with 1 Axes>"
      ]
     },
     "metadata": {},
     "output_type": "display_data"
    }
   ],
   "source": [
    "%matplotlib inline\n",
    "\n",
    "import matplotlib.pyplot as plt\n",
    "plt.hist([0, 1, 2, 2, 3, 3, 3, 4, 4, 4, 10])"
   ]
  },
  {
   "cell_type": "markdown",
   "metadata": {
    "id": "7YcUxftXBM9N"
   },
   "source": [
    "## Modal editor"
   ]
  },
  {
   "cell_type": "markdown",
   "metadata": {
    "id": "EeJEHQAjBM9O"
   },
   "source": [
    "Starting with IPython 2.0, the IPython Notebook has a modal user interface. This means that the keyboard does different things depending on which mode the Notebook is in. There are two modes: edit mode and command mode."
   ]
  },
  {
   "cell_type": "markdown",
   "metadata": {
    "id": "MDg3cq1fBM9O"
   },
   "source": [
    "### Edit mode"
   ]
  },
  {
   "cell_type": "markdown",
   "metadata": {
    "id": "QH30_fW6BM9O"
   },
   "source": [
    "Edit mode is indicated by a green cell border and a prompt showing in the editor area:\n",
    "\n",
    "<img src=\"./edit_mode.png\">\n",
    "\n",
    "When a cell is in edit mode, you can type into the cell, like a normal text editor."
   ]
  },
  {
   "cell_type": "markdown",
   "metadata": {
    "id": "xn4dKtY8BM9O"
   },
   "source": [
    "<div class=\"alert alert-success\" style=\"margin: 10px\">\n",
    "Enter edit mode by pressing `enter` or using the mouse to click on a cell's editor area.\n",
    "</div>"
   ]
  },
  {
   "cell_type": "markdown",
   "metadata": {
    "id": "A3ejrtHkBM9O"
   },
   "source": [
    "<div class=\"alert alert-success\" style=\"margin: 10px\">\n",
    "While in edit mode, tab-completion works for variables the kernel knows about from executing previous cells.\n",
    "</div>"
   ]
  },
  {
   "cell_type": "markdown",
   "metadata": {
    "id": "PsshX-GrBM9O"
   },
   "source": [
    "### Command mode"
   ]
  },
  {
   "cell_type": "markdown",
   "metadata": {
    "id": "wQD6p2WPBM9P"
   },
   "source": [
    "Command mode is indicated by a grey cell border:\n",
    "\n",
    "<img src=\"./command_mode.png\">\n",
    "\n",
    "When you are in command mode, you are able to edit the notebook as a whole, but not type into individual cells. Most importantly, in command mode, the keyboard is mapped to a set of shortcuts that let you perform notebook and cell actions efficiently. For example, if you are in command mode and you press `c`, you will copy the current cell - no modifier is needed."
   ]
  },
  {
   "cell_type": "markdown",
   "metadata": {
    "id": "KA1LQmDfBM9P"
   },
   "source": [
    "<div class=\"alert alert-error\" style=\"margin: 10px\">\n",
    "Don't try to type into a cell in command mode; unexpected things will happen!\n",
    "</div>"
   ]
  },
  {
   "cell_type": "markdown",
   "metadata": {
    "id": "f2t3vAvlBM9P"
   },
   "source": [
    "<div class=\"alert alert-success\" style=\"margin: 10px\">\n",
    "Enter command mode by pressing `esc` or using the mouse to click *outside* a cell's editor area.\n",
    "</div>"
   ]
  },
  {
   "cell_type": "markdown",
   "metadata": {
    "id": "fJeQwJ51BM9P"
   },
   "source": [
    "## Mouse navigation"
   ]
  },
  {
   "cell_type": "markdown",
   "metadata": {
    "id": "eon8IltlBM9P"
   },
   "source": [
    "All navigation and actions in the Notebook are available using the mouse through the menubar and toolbar, which are both above the main Notebook area:\n",
    "\n",
    "<img src=\"./menubar_toolbar.png\">"
   ]
  },
  {
   "cell_type": "markdown",
   "metadata": {
    "id": "oP9ZJmmTBM9P"
   },
   "source": [
    "The first idea of mouse based navigation is that **cells can be selected by clicking on them.** The currently selected cell gets a grey or green border depending on whether the notebook is in edit or command mode. If you click inside a cell's editor area, you will enter edit mode. If you click on the prompt or output area of a cell you will enter command mode.\n",
    "\n",
    "If you are running this notebook in a live session (not on http://nbviewer.ipython.org) try selecting different cells and going between edit and command mode. Try typing into a cell."
   ]
  },
  {
   "cell_type": "markdown",
   "metadata": {
    "id": "J95YdvHOBM9Q"
   },
   "source": [
    "The second idea of mouse based navigation is that **cell actions usually apply to the currently selected cell**. Thus if you want to run the code in a cell, you would select it and click the \"Play\" button in the toolbar or the \"Cell:Run\" menu item. Similarly, to copy a cell you would select it and click the \"Copy\" button in the toolbar or the \"Edit:Copy\" menu item. With this simple pattern, you should be able to do most everything you need with the mouse.\n",
    "\n",
    "Markdown and heading cells have one other state that can be modified with the mouse. These cells can either be rendered or unrendered. When they are rendered, you will see a nice formatted representation of the cell's contents. When they are unrendered, you will see the raw text source of the cell. To render the selected cell with the mouse, click the \"Play\" button in the toolbar or the \"Cell:Run\" menu item. To unrender the selected cell, double click on the cell."
   ]
  },
  {
   "cell_type": "markdown",
   "metadata": {
    "id": "Ls6me_UdBM9Q"
   },
   "source": [
    "## Keyboard Navigation"
   ]
  },
  {
   "cell_type": "markdown",
   "metadata": {
    "id": "q0avniVmBM9Q"
   },
   "source": [
    "The modal user interface of the IPython Notebook has been optimized for efficient keyboard usage. This is made possible by having two different sets of keyboard shortcuts: one set that is active in edit mode and another in command mode."
   ]
  },
  {
   "cell_type": "markdown",
   "metadata": {
    "id": "SNKn6tnbBM9Q"
   },
   "source": [
    "The most important keyboard shortcuts are **`enter`**, which enters edit mode, and **`esc`**, which enters command mode.\n",
    "\n",
    "In edit mode, most of the keyboard is dedicated to typing into the cell's editor. Thus, in edit mode there are relatively few shortcuts:"
   ]
  },
  {
   "cell_type": "markdown",
   "metadata": {
    "id": "9KPyGMY3BM9Q"
   },
   "source": [
    "In command mode, the entire keyboard is available for shortcuts:"
   ]
  },
  {
   "cell_type": "markdown",
   "metadata": {
    "id": "PYjTHHDNBM9Q"
   },
   "source": [
    "Here the rough order in which the IPython Developers recommend learning the command mode **shortcuts**:\n",
    "\n",
    "1. Basic navigation: `enter`, `shift-enter`, `up/k`, `down/j`\n",
    "2. Saving the notebook: `s`\n",
    "2. Cell types: `y`, `m`, `1-6`, `t`\n",
    "3. Cell creation and movement: `a`, `b`, `ctrl+k`, `ctrl+j`\n",
    "4. Cell editing: `x`, `c`, `v`, `d`, `z`, `shift+=`\n",
    "5. Kernel operations: `i`, `0`"
   ]
  },
  {
   "cell_type": "markdown",
   "metadata": {
    "id": "rijKnrtmBM9R"
   },
   "source": [
    "## The IPython Notebook Architecture"
   ]
  },
  {
   "cell_type": "markdown",
   "metadata": {
    "id": "3tZ2S57XBM9R"
   },
   "source": [
    "So far, we have learned the basics of using IPython Notebooks.\n",
    "\n",
    "For simple demonstrations, the typical user doesn't need to understand how the computations are being handled, but to successfully write and present computational notebooks, **you** will need to understand how the notebook architecture works."
   ]
  },
  {
   "cell_type": "markdown",
   "metadata": {
    "id": "ZhsL1MTSBM9R"
   },
   "source": [
    "A *live* notebook is composed of an interactive web page (the front end), a running IPython session (the kernel or back end), and a web server responsible for handling communication between the two (the, err..., middle-end)"
   ]
  },
  {
   "cell_type": "markdown",
   "metadata": {
    "id": "Dnyqy2bjBM9R"
   },
   "source": [
    "A *static* notebook, as for example seen on NBViewer, is a static view of the notebook's content.  The default format is HTML, but a notebook can also be output in PDF or other formats."
   ]
  },
  {
   "cell_type": "markdown",
   "metadata": {
    "id": "bmNFedJfBM9R"
   },
   "source": [
    "The centerpiece of an IPython Notebook is the \"kernel\", the IPython instance responsible for executing all code.  Your IPython kernel maintains its state between executed cells."
   ]
  },
  {
   "cell_type": "code",
   "execution_count": 11,
   "metadata": {
    "collapsed": false,
    "id": "N8Tbos3mBM9Y",
    "jupyter": {
     "outputs_hidden": false
    }
   },
   "outputs": [
    {
     "name": "stdout",
     "output_type": "stream",
     "text": [
      "0\n"
     ]
    }
   ],
   "source": [
    "x = 0\n",
    "print(x)"
   ]
  },
  {
   "cell_type": "code",
   "execution_count": 12,
   "metadata": {
    "collapsed": false,
    "id": "8cwvA7qvBM9Z",
    "jupyter": {
     "outputs_hidden": false
    }
   },
   "outputs": [
    {
     "name": "stdout",
     "output_type": "stream",
     "text": [
      "1\n"
     ]
    }
   ],
   "source": [
    "x += 1\n",
    "print(x)"
   ]
  },
  {
   "cell_type": "code",
   "execution_count": 13,
   "metadata": {},
   "outputs": [
    {
     "name": "stdout",
     "output_type": "stream",
     "text": [
      "9\n"
     ]
    }
   ],
   "source": [
    "x += 8\n",
    "print(x)"
   ]
  },
  {
   "cell_type": "markdown",
   "metadata": {
    "id": "G1g8AicyBM9Z"
   },
   "source": [
    "There are two important actions for interacting with the kernel.  The first is to interrupt it.  This is the same as sending a Control-C from the command line.  The second is to restart it.  This completely terminates the kernel and starts it anew.  None of the kernel state is saved across a restart."
   ]
  },
  {
   "cell_type": "markdown",
   "metadata": {
    "id": "RbPstYYPBM9Z"
   },
   "source": [
    "## Markdown cells"
   ]
  },
  {
   "cell_type": "markdown",
   "metadata": {
    "id": "gcLkYDKGBM9a"
   },
   "source": [
    "Text can be added to IPython Notebooks using Markdown cells.  Markdown is a popular markup language that is a superset of HTML.  Its specification can be found here:\n",
    "\n",
    "<http://daringfireball.net/projects/markdown/>"
   ]
  },
  {
   "cell_type": "markdown",
   "metadata": {
    "id": "5D898btnBM9a"
   },
   "source": [
    "## Markdown basics"
   ]
  },
  {
   "cell_type": "markdown",
   "metadata": {
    "id": "0oYVzIGCBM9a"
   },
   "source": [
    "### Text formatting"
   ]
  },
  {
   "cell_type": "markdown",
   "metadata": {
    "id": "K4PsnKNlBM9a"
   },
   "source": [
    "You can make text *italic* or **bold** or `monospace`"
   ]
  },
  {
   "cell_type": "markdown",
   "metadata": {},
   "source": [
    "*This is my italics text*\n",
    "\n",
    "**This is my bold text**\n",
    "\n",
    "`This is my monospace text`"
   ]
  },
  {
   "cell_type": "markdown",
   "metadata": {
    "id": "a-jgpyIEBM9a"
   },
   "source": [
    "### Itemized Lists"
   ]
  },
  {
   "cell_type": "markdown",
   "metadata": {
    "id": "UdjiFadgBM9b"
   },
   "source": [
    "* One\n",
    "    - Sublist\n",
    "        - This\n",
    "  - Sublist\n",
    "        - That\n",
    "        - The other thing\n",
    "* Two\n",
    "  - Sublist\n",
    "* Three\n",
    "  - Sublist"
   ]
  },
  {
   "cell_type": "markdown",
   "metadata": {},
   "source": [
    "* I guess\n",
    "\n",
    "  - The start bullet\n",
    "    - Always starts\n",
    "    - with the asterisk\n",
    "      - But every\n",
    "    - other sublist item\n",
    "* Starts with the single dash\n",
    "- But earlier on I saw that you can also start with the single dash\n",
    "- So can\n",
    "  * The roles\n",
    "    * Be reversed\n",
    "    * like so?\n",
    " \n",
    "- How about\n",
    "  - Having the same\n",
    "  - Style.\n",
    "  - Does it\n",
    "    - give the different bullet points?\n",
    "\n",
    "* I'm happy to be\n",
    "  * Getting exposure\n",
    "    * To markdowns.\n",
    "      * This has always been a dream of mine 😂"
   ]
  },
  {
   "cell_type": "markdown",
   "metadata": {
    "id": "rFCJ_EFhBM9b"
   },
   "source": [
    "### Enumerated Lists"
   ]
  },
  {
   "cell_type": "markdown",
   "metadata": {
    "id": "7ktiiejmBM9b"
   },
   "source": [
    "1. Here we go\n",
    "    1. Sublist\n",
    "    2. Sublist\n",
    "2. There we go\n",
    "3. Now this"
   ]
  },
  {
   "cell_type": "markdown",
   "metadata": {},
   "source": [
    "1. For\n",
    "2. Enumerated lists\n",
    "    1. We just\n",
    "    2. Give numbers for each levels\n",
    "       1. Is it possible\n",
    "       2. To predefine wether to start\n",
    "          4. With a letter\n",
    "          5. or a number?"
   ]
  },
  {
   "cell_type": "markdown",
   "metadata": {
    "id": "v76sOgxbBM9b"
   },
   "source": [
    "### Horizontal Rules"
   ]
  },
  {
   "cell_type": "markdown",
   "metadata": {
    "id": "l3QB2boeBM9b"
   },
   "source": [
    "---\n",
    "\n",
    "---\n",
    "\n",
    "---"
   ]
  },
  {
   "cell_type": "markdown",
   "metadata": {
    "id": "y1tK8_BNBM9c"
   },
   "source": [
    "### Blockquotes"
   ]
  },
  {
   "cell_type": "markdown",
   "metadata": {
    "id": "wwe3A0rrBM9c"
   },
   "source": [
    "> To me programming is more than an important practical art. It is also a gigantic undertaking in the foundations of knowledge. -- Rear Admiral Grace Hopper"
   ]
  },
  {
   "cell_type": "markdown",
   "metadata": {},
   "source": [
    "> I think block quotes are a very neat feature of markup/markdown languages.\n",
    "> They make the text look very nice"
   ]
  },
  {
   "cell_type": "markdown",
   "metadata": {
    "id": "EUQ8b4PlBM9c"
   },
   "source": [
    "### Links"
   ]
  },
  {
   "cell_type": "markdown",
   "metadata": {
    "id": "dxjinQp-BM9c"
   },
   "source": [
    "[IPython's website](http://ipython.org)"
   ]
  },
  {
   "cell_type": "markdown",
   "metadata": {
    "id": "TOLyeqhIBM9c"
   },
   "source": [
    "### Code"
   ]
  },
  {
   "cell_type": "markdown",
   "metadata": {
    "id": "v5ZBgt4aBM9d"
   },
   "source": [
    "This is a code snippet:    \n",
    "    \n",
    "```Python\n",
    "def f(x):\n",
    "    \"\"\"a docstring\"\"\"\n",
    "    return x**2\n",
    "```\n",
    "        \n",
    "This is an example of a **Python** function"
   ]
  },
  {
   "cell_type": "markdown",
   "metadata": {
    "id": "G-nKfeaiBM9d"
   },
   "source": [
    "You can also use triple-backticks to denote code blocks.\n",
    "This also allows you to choose the appropriate syntax highlighter.\n",
    "\n",
    "```C\n",
    "if (i=0; i<n; i++) {\n",
    "  printf(\"hello %d\\n\", i);\n",
    "  x += 4;\n",
    "}\n",
    "```"
   ]
  },
  {
   "cell_type": "markdown",
   "metadata": {
    "id": "mDFKRUp_BM9d"
   },
   "source": [
    "### Tables"
   ]
  },
  {
   "cell_type": "markdown",
   "metadata": {
    "id": "oBtdo7_eBM9d"
   },
   "source": [
    "Time (s) | Audience Interest\n",
    "---------|------------------\n",
    " 0       | High\n",
    " 1       | Medium\n",
    " 5       | Facebook"
   ]
  },
  {
   "cell_type": "markdown",
   "metadata": {},
   "source": [
    "My trial        | Table\n",
    "----------------|-----------------------------\n",
    "This is my first| table trial \n",
    "in markdown language| What do you think?"
   ]
  },
  {
   "cell_type": "markdown",
   "metadata": {
    "id": "ZWRCPWKrBM9e"
   },
   "source": [
    "### Images"
   ]
  },
  {
   "cell_type": "markdown",
   "metadata": {
    "id": "Dr030dFFBM9e"
   },
   "source": [
    "<!-- ![Emmy Noether](https://raw.githubusercontent.com/guydev42/test-aims-rw-2024-25/main/Emily.png) -->\n",
    "<!-- <img src=\"./Pearl_Kuuridong_Headshot.jpg\"> -->\n",
    "![Pearl Kuuridong](./Pearl_Kuuridong_Headshot.jpg)"
   ]
  },
  {
   "cell_type": "markdown",
   "metadata": {},
   "source": [
    "<div>\n",
    "    Aside Emmy Noether, one of my other favorite mathematicians is the so-called father of Abstract Algebra, <a href=\"https://www.britannica.com/biography/Evariste-Galois\">Evariste Galois</a>\n",
    "\n",
    "<img src=\"./galois.jpg\">\n",
    "</div>"
   ]
  },
  {
   "cell_type": "markdown",
   "metadata": {
    "id": "rto4-S5NBM9e"
   },
   "source": [
    "### YouTube"
   ]
  },
  {
   "cell_type": "code",
   "execution_count": 16,
   "metadata": {
    "collapsed": false,
    "id": "43DdR5DUBM9f",
    "jupyter": {
     "outputs_hidden": false
    }
   },
   "outputs": [
    {
     "data": {
      "image/jpeg": "[encoded data removed]",
      "text/html": [
       "\n",
       "        <iframe\n",
       "            width=\"400\"\n",
       "            height=\"300\"\n",
       "            src=\"https://www.youtube.com/embed/vW_DRAJ0dtc\"\n",
       "            frameborder=\"0\"\n",
       "            allowfullscreen\n",
       "            \n",
       "        ></iframe>\n",
       "        "
      ],
      "text/plain": [
       "<IPython.lib.display.YouTubeVideo at 0x1fd4c410920>"
      ]
     },
     "execution_count": 16,
     "metadata": {},
     "output_type": "execute_result"
    }
   ],
   "source": [
    "from IPython.display import YouTubeVideo\n",
    "YouTubeVideo('vW_DRAJ0dtc')"
   ]
  },
  {
   "cell_type": "code",
   "execution_count": 21,
   "metadata": {},
   "outputs": [
    {
     "data": {
      "image/jpeg": "[encoded data removed]",
      "text/html": [
       "\n",
       "        <iframe\n",
       "            width=\"400\"\n",
       "            height=\"300\"\n",
       "            src=\"https://www.youtube.com/embed/7BAnleA_Vkc\"\n",
       "            frameborder=\"0\"\n",
       "            allowfullscreen\n",
       "            \n",
       "        ></iframe>\n",
       "        "
      ],
      "text/plain": [
       "<IPython.lib.display.YouTubeVideo at 0x1fd4cb15040>"
      ]
     },
     "execution_count": 21,
     "metadata": {},
     "output_type": "execute_result"
    }
   ],
   "source": [
    "from IPython.display import YouTubeVideo\n",
    "YouTubeVideo('7BAnleA_Vkc')"
   ]
  },
  {
   "cell_type": "markdown",
   "metadata": {
    "id": "Mwmw4vn0BM9f"
   },
   "source": [
    "### Other HTML"
   ]
  },
  {
   "cell_type": "markdown",
   "metadata": {
    "id": "5pRKlggtBM9f"
   },
   "source": [
    "<strong> Be Bold! </strong>"
   ]
  },
  {
   "cell_type": "markdown",
   "metadata": {},
   "source": [
    "<em>This is an emphatic statement</em>"
   ]
  },
  {
   "cell_type": "markdown",
   "metadata": {
    "id": "0XazRomqBM9f"
   },
   "source": [
    "## Mathematical Equations"
   ]
  },
  {
   "cell_type": "markdown",
   "metadata": {
    "id": "RbmWP5J3BM9f"
   },
   "source": [
    "Courtesy of MathJax, you can beautifully render mathematical expressions, both inline:\n",
    "$e^{i\\pi} + 1 = 0$, and displayed:\n",
    "\n",
    "$$e^x=\\sum_{i=0}^\\infty \\frac{1}{i!}x^i$$"
   ]
  },
  {
   "cell_type": "markdown",
   "metadata": {
    "id": "Y4FCCbZ8BM9g"
   },
   "source": [
    "### Equation Environments"
   ]
  },
  {
   "cell_type": "markdown",
   "metadata": {
    "id": "AqdShW7JBM9g"
   },
   "source": [
    "You can also use a number of equation environments, such as `align`:\n",
    "\n",
    "\\begin{align}\n",
    "  x &= 4 \\\\\n",
    "y+z &= x\n",
    "\\end{align}\n",
    "\n",
    "[A full list of available TeX and LaTeX commands is maintained by Dr. Carol Burns.](http://www.onemathematicalcat.org/MathJaxDocumentation/TeXSyntax.htm)"
   ]
  },
  {
   "cell_type": "markdown",
   "metadata": {},
   "source": [
    "The normal distribution with mean $\\mu$ and variance $\\sigma^2$ has the probability density function\n",
    "$$\n",
    "f(x) = \\frac{1}{\\sigma \\sqrt{2\\pi}} \\exp\\left( -\\frac{(x-\\mu)^2}{2\\sigma^2} \\right), \\quad x \\in \\mathbb{R}.\n",
    "$$"
   ]
  },
  {
   "cell_type": "markdown",
   "metadata": {
    "id": "eyyoaYjtBM9g"
   },
   "source": [
    "### Other Useful MathJax Notes"
   ]
  },
  {
   "cell_type": "markdown",
   "metadata": {
    "id": "e5sLRs6XBM9g"
   },
   "source": [
    "* inline math is demarcated by `$ $`, or `\\( \\)`\n",
    "* displayed math is demarcated by `$$ $$` or `\\[ \\]`\n",
    "* displayed math environments can also be directly demarcated by `\\begin` and `\\end`\n",
    "* `\\newcommand` and `\\def` are supported, *within* areas MathJax processes (such as in a `\\[ \\]` block)\n",
    "* equation numbering is not officially supported, but it can be indirectly enabled"
   ]
  },
  {
   "cell_type": "markdown",
   "metadata": {
    "id": "yza1ZUI2BM9h"
   },
   "source": [
    "## A Note about Notebook Security"
   ]
  },
  {
   "cell_type": "markdown",
   "metadata": {
    "id": "xHUaDCjFBM9h"
   },
   "source": [
    "By default, a notebook downloaded to a new computer is *untrusted*\n",
    "\n",
    "* HTML and Javascript in Markdown cells is now *never* executed\n",
    "* HTML and Javascript code outputs must be explicitly *re-executed*\n",
    "* Some of these restrictions can be mitigrated through shared accounts (Sage MathCloud) and secrets"
   ]
  },
  {
   "cell_type": "markdown",
   "metadata": {
    "id": "qndKE01MBM9h"
   },
   "source": [
    "More information on notebook security is in the [IPython Notebook documentation](http://ipython.org/ipython-doc/stable/notebook/security.html)"
   ]
  },
  {
   "cell_type": "markdown",
   "metadata": {
    "id": "lo4tLcASBM9h"
   },
   "source": [
    "## Magics"
   ]
  },
  {
   "cell_type": "markdown",
   "metadata": {
    "id": "5fQ9w5xJBM9i"
   },
   "source": [
    "IPython kernels execute a superset of the Python language.  The extension functions, commonly referred to as *magics*, come in two variants.  "
   ]
  },
  {
   "cell_type": "markdown",
   "metadata": {
    "id": "Vl_sgMjKBM9i"
   },
   "source": [
    "### Line Magics"
   ]
  },
  {
   "cell_type": "markdown",
   "metadata": {
    "id": "8tVlxOdlBM9i"
   },
   "source": [
    "* A *line magic* looks like a command line call.  The most important of these is `%matplotlib inline`, which embeds all matplotlib plot output as images in the notebook itself."
   ]
  },
  {
   "cell_type": "code",
   "execution_count": 23,
   "metadata": {
    "collapsed": false,
    "id": "F3OomujiBM9i",
    "jupyter": {
     "outputs_hidden": false
    }
   },
   "outputs": [],
   "source": [
    "%matplotlib inline"
   ]
  },
  {
   "cell_type": "code",
   "execution_count": 24,
   "metadata": {
    "collapsed": false,
    "id": "ZiMmyf4ZBM9j",
    "jupyter": {
     "outputs_hidden": false
    }
   },
   "outputs": [
    {
     "name": "stdout",
     "output_type": "stream",
     "text": [
      "Variable       Type      Data/Info\n",
      "----------------------------------\n",
      "YouTubeVideo   type      <class 'IPython.lib.display.YouTubeVideo'>\n",
      "plt            module    <module 'matplotlib.pyplo<...>\\\\matplotlib\\\\pyplot.py'>\n",
      "x              int       9\n"
     ]
    }
   ],
   "source": [
    "%whos"
   ]
  },
  {
   "cell_type": "markdown",
   "metadata": {
    "id": "OMLegVzrBM9j"
   },
   "source": [
    "### Cell Magics"
   ]
  },
  {
   "cell_type": "markdown",
   "metadata": {
    "id": "o0-NRKhDBM9k"
   },
   "source": [
    "* A *cell magic* takes its entire cell as an argument.  Although there are a number of useful cell magics, you may find `%%timeit` to be useful for exploring code performance."
   ]
  },
  {
   "cell_type": "code",
   "execution_count": 25,
   "metadata": {
    "collapsed": false,
    "id": "Bzco2cpuBM9k",
    "jupyter": {
     "outputs_hidden": false
    }
   },
   "outputs": [
    {
     "name": "stdout",
     "output_type": "stream",
     "text": [
      "318 μs ± 55.1 μs per loop (mean ± std. dev. of 7 runs, 1,000 loops each)\n"
     ]
    }
   ],
   "source": [
    "%%timeit\n",
    "\n",
    "import numpy as np\n",
    "np.sum(np.random.rand(1000))"
   ]
  },
  {
   "cell_type": "markdown",
   "metadata": {
    "id": "FNZEnSU7BM9k"
   },
   "source": [
    "### Execute Code as Python 2"
   ]
  },
  {
   "cell_type": "code",
   "execution_count": 26,
   "metadata": {
    "collapsed": false,
    "id": "2d38-5V2BM9k",
    "jupyter": {
     "outputs_hidden": false
    }
   },
   "outputs": [
    {
     "name": "stdout",
     "output_type": "stream",
     "text": [
      "Couldn't find program: 'python2'\n"
     ]
    }
   ],
   "source": [
    "%%python2\n",
    "\n",
    "i = 10**60\n",
    "print type(i)"
   ]
  },
  {
   "cell_type": "markdown",
   "metadata": {
    "id": "S7CcfyluBM9l"
   },
   "source": [
    "### Interacting with the Command Line"
   ]
  },
  {
   "cell_type": "markdown",
   "metadata": {
    "id": "NYpeuKfIBM9l"
   },
   "source": [
    "IPython supports one final trick, the ability to interact directly with your  shell by using the `!` operator."
   ]
  },
  {
   "cell_type": "code",
   "execution_count": 29,
   "metadata": {
    "collapsed": false,
    "id": "0LR0XqVjBM9l",
    "jupyter": {
     "outputs_hidden": false
    }
   },
   "outputs": [
    {
     "name": "stdout",
     "output_type": "stream",
     "text": [
      "Emily.png\n",
      "PyPro-SCiDaS-day_01a_introduction_to_python.ipynb\n",
      "PyPro-SCiDaS-day_01b_variables-and-assignment.ipynb\n",
      "PyPro_SCiDaS_day_00_introduction_to_jupyter_notebooks.ipynb\n",
      "command_mode.png\n",
      "edit_mode.png\n",
      "galois.jpg\n",
      "menubar_toolbar.png\n"
     ]
    }
   ],
   "source": [
    "!ls  \n",
    "# if you are on Linux\n",
    "# !dir # if you are on Windows"
   ]
  },
  {
   "cell_type": "code",
   "execution_count": 32,
   "metadata": {
    "collapsed": false,
    "id": "g3EVO01VBM9l",
    "jupyter": {
     "outputs_hidden": false
    }
   },
   "outputs": [],
   "source": [
    "x = !ls"
   ]
  },
  {
   "cell_type": "code",
   "execution_count": 33,
   "metadata": {
    "collapsed": false,
    "id": "8mlI2-XBBM9m",
    "jupyter": {
     "outputs_hidden": false
    }
   },
   "outputs": [
    {
     "name": "stdout",
     "output_type": "stream",
     "text": [
      "['Emily.png', 'PyPro-SCiDaS-day_01a_introduction_to_python.ipynb', 'PyPro-SCiDaS-day_01b_variables-and-assignment.ipynb', 'PyPro_SCiDaS_day_00_introduction_to_jupyter_notebooks.ipynb', 'command_mode.png', 'edit_mode.png', 'galois.jpg', 'menubar_toolbar.png']\n"
     ]
    }
   ],
   "source": [
    "print(x)"
   ]
  },
  {
   "cell_type": "markdown",
   "metadata": {
    "id": "AM7A_w2kBM9m"
   },
   "source": [
    "## A Note about Notebook Version Control"
   ]
  },
  {
   "cell_type": "markdown",
   "metadata": {
    "id": "EG1ZIXIhBM9m"
   },
   "source": [
    "The IPython Notebook is stored using canonicalized JSON for ease of use with version control systems.\n",
    "\n",
    "There are two things to be aware of:\n",
    "\n",
    "* By default, IPython embeds all content and saves kernel execution numbers.  You may want to get in the habit of clearing all cells before committing.\n",
    "\n",
    "* As of IPython 2.0, all notebooks are signed on save.  This increases the chances of a commit collision during merge, forcing a manual resolution.  Either signature can be safely deleted in this situation."
   ]
  }
 ],
 "metadata": {
  "colab": {
   "provenance": []
  },
  "kernelspec": {
   "display_name": "Python 3 (ipykernel)",
   "language": "python",
   "name": "python3"
  },
  "language_info": {
   "codemirror_mode": {
    "name": "ipython",
    "version": 3
   },
   "file_extension": ".py",
   "mimetype": "text/x-python",
   "name": "python",
   "nbconvert_exporter": "python",
   "pygments_lexer": "ipython3",
   "version": "3.12.10"
  }
 },
 "nbformat": 4,
 "nbformat_minor": 4
}
