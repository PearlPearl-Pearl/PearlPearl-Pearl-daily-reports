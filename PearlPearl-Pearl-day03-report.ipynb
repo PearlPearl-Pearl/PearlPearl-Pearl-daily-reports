{
 "cells": [
  {
   "cell_type": "markdown",
   "id": "4b758a50-4f8f-425b-bcb8-05884414bc63",
   "metadata": {},
   "source": [
    "## <center style=\"color:blue;\"><b>Pearl Kuuridong Notebook</b></center>\n",
    "#### <center style=\"color:orange;\">An Introduction to Programming using Python</center>"
   ]
  },
  {
   "cell_type": "markdown",
   "id": "12730475",
   "metadata": {},
   "source": [
    "### Strings and Files"
   ]
  },
  {
   "cell_type": "code",
   "execution_count": 1,
   "id": "d7c4b3c7",
   "metadata": {},
   "outputs": [],
   "source": [
    "string_1 = \"Will you be at the meeting tonight?\"\n",
    "\n",
    "string_2 = \"'Yes', he replied.\"\n",
    "\n",
    "my_int = 1123457515233158905735"
   ]
  },
  {
   "cell_type": "markdown",
   "id": "abf92cd6",
   "metadata": {},
   "source": [
    "### Indexing"
   ]
  },
  {
   "cell_type": "code",
   "execution_count": 2,
   "id": "2c6f0e67",
   "metadata": {},
   "outputs": [
    {
     "data": {
      "text/plain": [
       "'W'"
      ]
     },
     "execution_count": 2,
     "metadata": {},
     "output_type": "execute_result"
    }
   ],
   "source": [
    "string_1[0]"
   ]
  },
  {
   "cell_type": "code",
   "execution_count": 3,
   "id": "2376727e-aee5-48af-8d04-b53ceef3e48b",
   "metadata": {},
   "outputs": [],
   "source": [
    "# my_int[2]\n",
    "# TypeError: 'int' object is not subscriptable"
   ]
  },
  {
   "cell_type": "code",
   "execution_count": 4,
   "id": "3b34924d",
   "metadata": {},
   "outputs": [
    {
     "data": {
      "text/plain": [
       "'l'"
      ]
     },
     "execution_count": 4,
     "metadata": {},
     "output_type": "execute_result"
    }
   ],
   "source": [
    "string_1[3]"
   ]
  },
  {
   "cell_type": "code",
   "execution_count": 5,
   "id": "d42cc508",
   "metadata": {},
   "outputs": [
    {
     "name": "stdout",
     "output_type": "stream",
     "text": [
      "Will you be at the meeting tonight?\n",
      "The second character of my string is i\n"
     ]
    }
   ],
   "source": [
    "print(string_1)\n",
    "print(\"The second character of my string is\", string_1[1])"
   ]
  },
  {
   "cell_type": "code",
   "execution_count": 6,
   "id": "ed9c4064",
   "metadata": {},
   "outputs": [
    {
     "name": "stdout",
     "output_type": "stream",
     "text": [
      "Will you be at the meeting tonight?\n",
      "The second character of my string is:  ?\n"
     ]
    }
   ],
   "source": [
    "print(string_1)\n",
    "print(\"The second character of my string is: \", string_1[-1])"
   ]
  },
  {
   "cell_type": "markdown",
   "id": "a30fd3d7",
   "metadata": {},
   "source": [
    "### Slicing\n",
    "\n",
    "```python\n",
    "string[start:stop:step]\n",
    "```"
   ]
  },
  {
   "cell_type": "code",
   "execution_count": 7,
   "id": "5e8f4e86",
   "metadata": {},
   "outputs": [
    {
     "name": "stdout",
     "output_type": "stream",
     "text": [
      "Will you be at the meeting tonight?\n"
     ]
    },
    {
     "data": {
      "text/plain": [
       "'l o'"
      ]
     },
     "execution_count": 7,
     "metadata": {},
     "output_type": "execute_result"
    }
   ],
   "source": [
    "print(string_1)\n",
    "string_1[2:8:2]"
   ]
  },
  {
   "cell_type": "code",
   "execution_count": 8,
   "id": "d174f31c",
   "metadata": {},
   "outputs": [
    {
     "data": {
      "text/plain": [
       "18"
      ]
     },
     "execution_count": 8,
     "metadata": {},
     "output_type": "execute_result"
    }
   ],
   "source": [
    "len(string_2)"
   ]
  },
  {
   "cell_type": "markdown",
   "id": "ba4a6b8c",
   "metadata": {},
   "source": [
    "### Concatenation"
   ]
  },
  {
   "cell_type": "code",
   "execution_count": 9,
   "id": "4f98581f",
   "metadata": {},
   "outputs": [
    {
     "name": "stdout",
     "output_type": "stream",
     "text": [
      "Hello, World!\n"
     ]
    }
   ],
   "source": [
    "my_var_1 = \"Hello, \"\n",
    "my_var_2 = \"World!\"\n",
    "\n",
    "concat = my_var_1 + my_var_2\n",
    "print(concat)"
   ]
  },
  {
   "cell_type": "code",
   "execution_count": 10,
   "id": "ead18428",
   "metadata": {},
   "outputs": [],
   "source": [
    "# print(3.0*my_var_2)\n",
    "\n",
    "# can't do string multiplication with a floating point number\n",
    "# TypeError: can't multiply sequence by non-int of type 'float'"
   ]
  },
  {
   "cell_type": "code",
   "execution_count": 11,
   "id": "bddf2000",
   "metadata": {},
   "outputs": [],
   "source": [
    "# my_var_2/3\n",
    "# TypeError: unsupported operand type(s) for /: 'str' and 'int'"
   ]
  },
  {
   "cell_type": "code",
   "execution_count": 12,
   "id": "5e289eb9",
   "metadata": {},
   "outputs": [],
   "source": [
    "new_var = ' hello world '"
   ]
  },
  {
   "cell_type": "code",
   "execution_count": 13,
   "id": "b4c5b291",
   "metadata": {},
   "outputs": [
    {
     "name": "stdout",
     "output_type": "stream",
     "text": [
      "['__add__', '__class__', '__contains__', '__delattr__', '__dir__', '__doc__', '__eq__', '__format__', '__ge__', '__getattribute__', '__getitem__', '__getnewargs__', '__getstate__', '__gt__', '__hash__', '__init__', '__init_subclass__', '__iter__', '__le__', '__len__', '__lt__', '__mod__', '__mul__', '__ne__', '__new__', '__reduce__', '__reduce_ex__', '__repr__', '__rmod__', '__rmul__', '__setattr__', '__sizeof__', '__str__', '__subclasshook__', 'capitalize', 'casefold', 'center', 'count', 'encode', 'endswith', 'expandtabs', 'find', 'format', 'format_map', 'index', 'isalnum', 'isalpha', 'isascii', 'isdecimal', 'isdigit', 'isidentifier', 'islower', 'isnumeric', 'isprintable', 'isspace', 'istitle', 'isupper', 'join', 'ljust', 'lower', 'lstrip', 'maketrans', 'partition', 'removeprefix', 'removesuffix', 'replace', 'rfind', 'rindex', 'rjust', 'rpartition', 'rsplit', 'rstrip', 'split', 'splitlines', 'startswith', 'strip', 'swapcase', 'title', 'translate', 'upper', 'zfill']\n"
     ]
    }
   ],
   "source": [
    "print(dir(new_var))"
   ]
  },
  {
   "cell_type": "code",
   "execution_count": 14,
   "id": "c8386acb",
   "metadata": {},
   "outputs": [
    {
     "name": "stdout",
     "output_type": "stream",
     "text": [
      "Help on built-in function count:\n",
      "\n",
      "count(...) method of builtins.str instance\n",
      "    S.count(sub[, start[, end]]) -> int\n",
      "\n",
      "    Return the number of non-overlapping occurrences of substring sub in\n",
      "    string S[start:end].  Optional arguments start and end are\n",
      "    interpreted as in slice notation.\n",
      "\n"
     ]
    }
   ],
   "source": [
    "help(new_var.count)"
   ]
  },
  {
   "cell_type": "code",
   "execution_count": 15,
   "id": "2a7e3916",
   "metadata": {},
   "outputs": [
    {
     "name": "stdout",
     "output_type": "stream",
     "text": [
      "Help on built-in function partition:\n",
      "\n",
      "partition(sep, /) method of builtins.str instance\n",
      "    Partition the string into three parts using the given separator.\n",
      "\n",
      "    This will search for the separator in the string.  If the separator is found,\n",
      "    returns a 3-tuple containing the part before the separator, the separator\n",
      "    itself, and the part after it.\n",
      "\n",
      "    If the separator is not found, returns a 3-tuple containing the original string\n",
      "    and two empty strings.\n",
      "\n"
     ]
    }
   ],
   "source": [
    "help(new_var.partition)"
   ]
  },
  {
   "cell_type": "code",
   "execution_count": 16,
   "id": "a6fed9b1",
   "metadata": {},
   "outputs": [
    {
     "data": {
      "text/plain": [
       "('', ' ', 'hello world ')"
      ]
     },
     "execution_count": 16,
     "metadata": {},
     "output_type": "execute_result"
    }
   ],
   "source": [
    "new_var.partition(' ')"
   ]
  },
  {
   "cell_type": "code",
   "execution_count": 17,
   "id": "137ad29d",
   "metadata": {},
   "outputs": [],
   "source": [
    "# new_var.partition('')\n",
    "# ValueError: empty separator"
   ]
  },
  {
   "cell_type": "code",
   "execution_count": 18,
   "id": "24dcd920",
   "metadata": {},
   "outputs": [
    {
     "name": "stdout",
     "output_type": "stream",
     "text": [
      "Help on built-in function translate:\n",
      "\n",
      "translate(table, /) method of builtins.str instance\n",
      "    Replace each character in the string using the given translation table.\n",
      "\n",
      "      table\n",
      "        Translation table, which must be a mapping of Unicode ordinals to\n",
      "        Unicode ordinals, strings, or None.\n",
      "\n",
      "    The table must implement lookup/indexing via __getitem__, for instance a\n",
      "    dictionary or list.  If this operation raises LookupError, the character is\n",
      "    left untouched.  Characters mapped to None are deleted.\n",
      "\n"
     ]
    }
   ],
   "source": [
    "help(new_var.translate)"
   ]
  },
  {
   "cell_type": "code",
   "execution_count": 19,
   "id": "14bcdabd",
   "metadata": {},
   "outputs": [
    {
     "data": {
      "text/plain": [
       "' hello world '"
      ]
     },
     "execution_count": 19,
     "metadata": {},
     "output_type": "execute_result"
    }
   ],
   "source": [
    "new_var"
   ]
  },
  {
   "cell_type": "code",
   "execution_count": 20,
   "id": "4a9d7623",
   "metadata": {},
   "outputs": [
    {
     "data": {
      "text/plain": [
       "' hello world '"
      ]
     },
     "execution_count": 20,
     "metadata": {},
     "output_type": "execute_result"
    }
   ],
   "source": [
    "new_var.translate({' ': '', 'o':'O'})"
   ]
  },
  {
   "cell_type": "code",
   "execution_count": 21,
   "id": "a0c47782",
   "metadata": {},
   "outputs": [
    {
     "name": "stdout",
     "output_type": "stream",
     "text": [
      "Help on built-in function center:\n",
      "\n",
      "center(width, fillchar=' ', /) method of builtins.str instance\n",
      "    Return a centered string of length width.\n",
      "\n",
      "    Padding is done using the specified fill character (default is a space).\n",
      "\n"
     ]
    }
   ],
   "source": [
    "help(new_var.center)"
   ]
  },
  {
   "cell_type": "code",
   "execution_count": 22,
   "id": "ec5ca643",
   "metadata": {},
   "outputs": [
    {
     "name": "stdout",
     "output_type": "stream",
     "text": [
      "Help on built-in function center:\n",
      "\n",
      "center(width, fillchar=' ', /) method of builtins.str instance\n",
      "    Return a centered string of length width.\n",
      "\n",
      "    Padding is done using the specified fill character (default is a space).\n",
      "\n"
     ]
    }
   ],
   "source": [
    "help(new_var.center)"
   ]
  },
  {
   "cell_type": "code",
   "execution_count": 23,
   "id": "3fa35d70",
   "metadata": {},
   "outputs": [
    {
     "data": {
      "text/plain": [
       "'     Will you be at the meeting tonight?     '"
      ]
     },
     "execution_count": 23,
     "metadata": {},
     "output_type": "execute_result"
    }
   ],
   "source": [
    "string_1\n",
    "\n",
    "string_1.center(len(string_1)+10)"
   ]
  },
  {
   "cell_type": "code",
   "execution_count": 24,
   "id": "7103957b",
   "metadata": {},
   "outputs": [
    {
     "name": "stdout",
     "output_type": "stream",
     "text": [
      "Help on built-in function rpartition:\n",
      "\n",
      "rpartition(sep, /) method of builtins.str instance\n",
      "    Partition the string into three parts using the given separator.\n",
      "\n",
      "    This will search for the separator in the string, starting at the end. If\n",
      "    the separator is found, returns a 3-tuple containing the part before the\n",
      "    separator, the separator itself, and the part after it.\n",
      "\n",
      "    If the separator is not found, returns a 3-tuple containing two empty strings\n",
      "    and the original string.\n",
      "\n"
     ]
    }
   ],
   "source": [
    "help(new_var.rpartition)"
   ]
  },
  {
   "cell_type": "code",
   "execution_count": 25,
   "id": "f0ebebb9",
   "metadata": {},
   "outputs": [
    {
     "data": {
      "text/plain": [
       "(' hello w', 'o', 'rld ')"
      ]
     },
     "execution_count": 25,
     "metadata": {},
     "output_type": "execute_result"
    }
   ],
   "source": [
    "new_var.rpartition('o')"
   ]
  },
  {
   "cell_type": "code",
   "execution_count": 26,
   "id": "34a2b46c",
   "metadata": {},
   "outputs": [
    {
     "name": "stdout",
     "output_type": "stream",
     "text": [
      "Help on built-in function splitlines:\n",
      "\n",
      "splitlines(keepends=False) method of builtins.str instance\n",
      "    Return a list of the lines in the string, breaking at line boundaries.\n",
      "\n",
      "    Line breaks are not included in the resulting list unless keepends is given and\n",
      "    true.\n",
      "\n"
     ]
    }
   ],
   "source": [
    "help(new_var.splitlines)"
   ]
  },
  {
   "cell_type": "code",
   "execution_count": 27,
   "id": "800ec00d",
   "metadata": {},
   "outputs": [],
   "source": [
    "multi_line_var = \"\"\"Hello world\n",
    "My name is Pearl\n",
    "And I'm a student at the African Institute for Mathematical Sciences (AIMS), Rwanda\"\"\""
   ]
  },
  {
   "cell_type": "code",
   "execution_count": 28,
   "id": "b8f94b96",
   "metadata": {},
   "outputs": [
    {
     "data": {
      "text/plain": [
       "['Hello world',\n",
       " 'My name is Pearl',\n",
       " \"And I'm a student at the African Institute for Mathematical Sciences (AIMS), Rwanda\"]"
      ]
     },
     "execution_count": 28,
     "metadata": {},
     "output_type": "execute_result"
    }
   ],
   "source": [
    "multi_line_var.splitlines()"
   ]
  },
  {
   "cell_type": "code",
   "execution_count": 29,
   "id": "6d7f930b",
   "metadata": {},
   "outputs": [
    {
     "data": {
      "text/plain": [
       "list"
      ]
     },
     "execution_count": 29,
     "metadata": {},
     "output_type": "execute_result"
    }
   ],
   "source": [
    "type(multi_line_var.splitlines())"
   ]
  },
  {
   "cell_type": "code",
   "execution_count": 30,
   "id": "a76b690b",
   "metadata": {},
   "outputs": [
    {
     "name": "stdout",
     "output_type": "stream",
     "text": [
      "Help on built-in function zfill:\n",
      "\n",
      "zfill(width, /) method of builtins.str instance\n",
      "    Pad a numeric string with zeros on the left, to fill a field of the given width.\n",
      "\n",
      "    The string is never truncated.\n",
      "\n"
     ]
    }
   ],
   "source": [
    "help(new_var.zfill)"
   ]
  },
  {
   "cell_type": "code",
   "execution_count": 31,
   "id": "ac89fc07",
   "metadata": {},
   "outputs": [
    {
     "data": {
      "text/plain": [
       "50"
      ]
     },
     "execution_count": 31,
     "metadata": {},
     "output_type": "execute_result"
    }
   ],
   "source": [
    "int_var = '1234'\n",
    "len(int_var.zfill(50))"
   ]
  },
  {
   "cell_type": "code",
   "execution_count": 32,
   "id": "c35886bf",
   "metadata": {},
   "outputs": [
    {
     "name": "stdout",
     "output_type": "stream",
     "text": [
      "Help on built-in function split:\n",
      "\n",
      "split(sep=None, maxsplit=-1) method of builtins.str instance\n",
      "    Return a list of the substrings in the string, using sep as the separator string.\n",
      "\n",
      "      sep\n",
      "        The separator used to split the string.\n",
      "\n",
      "        When set to None (the default value), will split on any whitespace\n",
      "        character (including \\n \\r \\t \\f and spaces) and will discard\n",
      "        empty strings from the result.\n",
      "      maxsplit\n",
      "        Maximum number of splits.\n",
      "        -1 (the default value) means no limit.\n",
      "\n",
      "    Splitting starts at the front of the string and works to the end.\n",
      "\n",
      "    Note, str.split() is mainly useful for data that has been intentionally\n",
      "    delimited.  With natural text that includes punctuation, consider using\n",
      "    the regular expression module.\n",
      "\n"
     ]
    }
   ],
   "source": [
    "help(new_var.split)"
   ]
  },
  {
   "cell_type": "code",
   "execution_count": 33,
   "id": "1862f782",
   "metadata": {},
   "outputs": [
    {
     "data": {
      "text/plain": [
       "['Will', 'you', 'be', 'at', 'the', 'meeting', 'tonight?']"
      ]
     },
     "execution_count": 33,
     "metadata": {},
     "output_type": "execute_result"
    }
   ],
   "source": [
    "string_1.split(maxsplit=100)"
   ]
  },
  {
   "cell_type": "code",
   "execution_count": 34,
   "id": "db6f49e8",
   "metadata": {},
   "outputs": [
    {
     "name": "stdout",
     "output_type": "stream",
     "text": [
      "Help on built-in function swapcase:\n",
      "\n",
      "swapcase() method of builtins.str instance\n",
      "    Convert uppercase characters to lowercase and lowercase characters to uppercase.\n",
      "\n"
     ]
    }
   ],
   "source": [
    "help(new_var.swapcase)"
   ]
  },
  {
   "cell_type": "code",
   "execution_count": 35,
   "id": "21f9eeae",
   "metadata": {},
   "outputs": [
    {
     "data": {
      "text/plain": [
       "' hello world '"
      ]
     },
     "execution_count": 35,
     "metadata": {},
     "output_type": "execute_result"
    }
   ],
   "source": [
    "new_var"
   ]
  },
  {
   "cell_type": "code",
   "execution_count": 36,
   "id": "def28306",
   "metadata": {},
   "outputs": [
    {
     "data": {
      "text/plain": [
       "' HELLO WORLD '"
      ]
     },
     "execution_count": 36,
     "metadata": {},
     "output_type": "execute_result"
    }
   ],
   "source": [
    "new_var.swapcase()"
   ]
  },
  {
   "cell_type": "code",
   "execution_count": 37,
   "id": "885ff033",
   "metadata": {},
   "outputs": [],
   "source": [
    "# string_1.swap_case()"
   ]
  },
  {
   "cell_type": "code",
   "execution_count": 38,
   "id": "4ba4b348",
   "metadata": {},
   "outputs": [
    {
     "data": {
      "text/plain": [
       "'wILL YOU BE AT THE MEETING TONIGHT?'"
      ]
     },
     "execution_count": 38,
     "metadata": {},
     "output_type": "execute_result"
    }
   ],
   "source": [
    "string_1.swapcase()"
   ]
  },
  {
   "cell_type": "code",
   "execution_count": 39,
   "id": "750a9bc8",
   "metadata": {},
   "outputs": [
    {
     "name": "stdout",
     "output_type": "stream",
     "text": [
      "Help on built-in function isascii:\n",
      "\n",
      "isascii() method of builtins.str instance\n",
      "    Return True if all characters in the string are ASCII, False otherwise.\n",
      "\n",
      "    ASCII characters have code points in the range U+0000-U+007F.\n",
      "    Empty string is ASCII too.\n",
      "\n"
     ]
    }
   ],
   "source": [
    "help(new_var.isascii)"
   ]
  },
  {
   "cell_type": "code",
   "execution_count": 40,
   "id": "42c8095e",
   "metadata": {},
   "outputs": [
    {
     "data": {
      "text/plain": [
       "True"
      ]
     },
     "execution_count": 40,
     "metadata": {},
     "output_type": "execute_result"
    }
   ],
   "source": [
    "new_var.isascii()"
   ]
  },
  {
   "cell_type": "code",
   "execution_count": 44,
   "id": "5654f5c8",
   "metadata": {},
   "outputs": [
    {
     "name": "stdout",
     "output_type": "stream",
     "text": [
      "PyPro-SCiDaS-day_00_introduction_to_jupyter_notebooks.ipynb\n",
      "PyPro-SCiDaS-day_01a_introduction_to_python.ipynb\n",
      "PyPro-SCiDaS-day_01b_variables-and-assignment.ipynb\n",
      "PyPro-SCiDaS-day_03_strings-and-files.ipynb.ipynb\n",
      "day03.ipynb\n",
      "testfile.txt\n"
     ]
    }
   ],
   "source": [
    "!ls\n",
    "# !dir"
   ]
  },
  {
   "cell_type": "code",
   "execution_count": 46,
   "id": "89837084",
   "metadata": {},
   "outputs": [],
   "source": [
    "# %load testfile.txt\n",
    "fghij\n",
    "aims class\n",
    "Rwanda 2025\n",
    "this is really cool"
   ]
  },
  {
   "cell_type": "code",
   "execution_count": 47,
   "id": "9d5a3c2c",
   "metadata": {},
   "outputs": [],
   "source": [
    "# with open(\"testfile.txt\", 'a') as file:\n",
    "#     for line in file.readlines():\n",
    "#         line.write(\"Hello\")"
   ]
  },
  {
   "cell_type": "code",
   "execution_count": 53,
   "id": "f8f04995",
   "metadata": {},
   "outputs": [],
   "source": [
    "f=open(\"testfile.txt\", 'r')"
   ]
  },
  {
   "cell_type": "code",
   "execution_count": 54,
   "id": "7220da80",
   "metadata": {},
   "outputs": [
    {
     "data": {
      "text/plain": [
       "(_io.TextIOWrapper, _io.TextIOWrapper)"
      ]
     },
     "execution_count": 54,
     "metadata": {},
     "output_type": "execute_result"
    }
   ],
   "source": [
    "type(f), f.__class__"
   ]
  },
  {
   "cell_type": "code",
   "execution_count": 55,
   "id": "19eed7fc",
   "metadata": {},
   "outputs": [
    {
     "data": {
      "text/plain": [
       "['fghij\\n', 'aims class\\n', 'Rwanda 2025\\n', 'this is really cool']"
      ]
     },
     "execution_count": 55,
     "metadata": {},
     "output_type": "execute_result"
    }
   ],
   "source": [
    "f.readlines()"
   ]
  },
  {
   "cell_type": "code",
   "execution_count": 57,
   "id": "71b86794",
   "metadata": {},
   "outputs": [],
   "source": [
    "f.close()"
   ]
  },
  {
   "cell_type": "code",
   "execution_count": 59,
   "id": "80920d7f",
   "metadata": {},
   "outputs": [],
   "source": [
    "# f.readlines()\n",
    "# ValueError: I/O operation on closed file."
   ]
  },
  {
   "cell_type": "code",
   "execution_count": 60,
   "id": "6454fd8a",
   "metadata": {},
   "outputs": [
    {
     "data": {
      "text/plain": [
       "['_CHUNK_SIZE',\n",
       " '__class__',\n",
       " '__del__',\n",
       " '__delattr__',\n",
       " '__dict__',\n",
       " '__dir__',\n",
       " '__doc__',\n",
       " '__enter__',\n",
       " '__eq__',\n",
       " '__exit__',\n",
       " '__format__',\n",
       " '__ge__',\n",
       " '__getattribute__',\n",
       " '__getstate__',\n",
       " '__gt__',\n",
       " '__hash__',\n",
       " '__init__',\n",
       " '__init_subclass__',\n",
       " '__iter__',\n",
       " '__le__',\n",
       " '__lt__',\n",
       " '__module__',\n",
       " '__ne__',\n",
       " '__new__',\n",
       " '__next__',\n",
       " '__reduce__',\n",
       " '__reduce_ex__',\n",
       " '__repr__',\n",
       " '__setattr__',\n",
       " '__sizeof__',\n",
       " '__str__',\n",
       " '__subclasshook__',\n",
       " '_checkClosed',\n",
       " '_checkReadable',\n",
       " '_checkSeekable',\n",
       " '_checkWritable',\n",
       " '_finalizing',\n",
       " 'buffer',\n",
       " 'close',\n",
       " 'closed',\n",
       " 'detach',\n",
       " 'encoding',\n",
       " 'errors',\n",
       " 'fileno',\n",
       " 'flush',\n",
       " 'isatty',\n",
       " 'line_buffering',\n",
       " 'mode',\n",
       " 'name',\n",
       " 'newlines',\n",
       " 'read',\n",
       " 'readable',\n",
       " 'readline',\n",
       " 'readlines',\n",
       " 'reconfigure',\n",
       " 'seek',\n",
       " 'seekable',\n",
       " 'tell',\n",
       " 'truncate',\n",
       " 'writable',\n",
       " 'write',\n",
       " 'write_through',\n",
       " 'writelines']"
      ]
     },
     "execution_count": 60,
     "metadata": {},
     "output_type": "execute_result"
    }
   ],
   "source": [
    "dir(f)"
   ]
  },
  {
   "cell_type": "code",
   "execution_count": 63,
   "id": "754cd10c",
   "metadata": {},
   "outputs": [],
   "source": [
    "to_write_to_file=open(\"testfile.txt\", 'a')\n",
    "to_write_to_file.write(\"\\nThis is Africa\")\n",
    "to_write_to_file.close()"
   ]
  },
  {
   "cell_type": "code",
   "execution_count": 65,
   "id": "d99c00f4",
   "metadata": {},
   "outputs": [],
   "source": [
    "# %load testfile.txt\n",
    "fghij\n",
    "aims class\n",
    "Rwanda 2025\n",
    "this is really coolThis is Africa\n",
    "This is Africa"
   ]
  },
  {
   "cell_type": "code",
   "execution_count": 80,
   "id": "00ce081d",
   "metadata": {},
   "outputs": [],
   "source": [
    "test_string = \"\"\"This is my newest test\n",
    "string\n",
    "that I'm using for this practice IPYNB\"\"\""
   ]
  },
  {
   "cell_type": "code",
   "execution_count": 67,
   "id": "dba3a7fb-aad1-48de-ac17-e30e64b092f6",
   "metadata": {},
   "outputs": [
    {
     "data": {
      "text/plain": [
       "\"THIS IS MY NEWEST TEST\\nSTRING\\nTHAT I'M USING FOR THIS PRACTICE IPYNB\""
      ]
     },
     "execution_count": 67,
     "metadata": {},
     "output_type": "execute_result"
    }
   ],
   "source": [
    "test_string.upper()"
   ]
  },
  {
   "cell_type": "code",
   "execution_count": 68,
   "id": "ccff839f-bc4a-4d16-b4b9-d346aff51321",
   "metadata": {},
   "outputs": [
    {
     "data": {
      "text/plain": [
       "\"This is my newest test\\nstring\\nthat I'm using for this practice IPYNB\""
      ]
     },
     "execution_count": 68,
     "metadata": {},
     "output_type": "execute_result"
    }
   ],
   "source": [
    "test_string"
   ]
  },
  {
   "cell_type": "code",
   "execution_count": 69,
   "id": "463fd923-978c-4117-8abc-ea4afe51d24f",
   "metadata": {},
   "outputs": [
    {
     "data": {
      "text/plain": [
       "\"this is my newest test\\nstring\\nthat i'm using for this practice ipynb\""
      ]
     },
     "execution_count": 69,
     "metadata": {},
     "output_type": "execute_result"
    }
   ],
   "source": [
    "test_string.lower()"
   ]
  },
  {
   "cell_type": "code",
   "execution_count": 70,
   "id": "63251115-55ce-4011-bf64-7dd8a3f43226",
   "metadata": {},
   "outputs": [
    {
     "data": {
      "text/plain": [
       "\"This is my newest test\\nstring\\nthat i'm using for this practice ipynb\""
      ]
     },
     "execution_count": 70,
     "metadata": {},
     "output_type": "execute_result"
    }
   ],
   "source": [
    "test_string.capitalize()"
   ]
  },
  {
   "cell_type": "code",
   "execution_count": 71,
   "id": "0ad453aa-706f-4777-9fb0-d21addb1a041",
   "metadata": {},
   "outputs": [
    {
     "name": "stdout",
     "output_type": "stream",
     "text": [
      "Help on method_descriptor:\n",
      "\n",
      "capitalize(self, /) unbound builtins.str method\n",
      "    Return a capitalized version of the string.\n",
      "\n",
      "    More specifically, make the first character have upper case and the rest lower\n",
      "    case.\n",
      "\n"
     ]
    }
   ],
   "source": [
    "help(str.capitalize)"
   ]
  },
  {
   "cell_type": "code",
   "execution_count": 72,
   "id": "8d038e8a-0233-4bc0-9d80-40abffcdddcd",
   "metadata": {},
   "outputs": [
    {
     "name": "stdout",
     "output_type": "stream",
     "text": [
      "Help on built-in function find:\n",
      "\n",
      "find(...) method of builtins.str instance\n",
      "    S.find(sub[, start[, end]]) -> int\n",
      "\n",
      "    Return the lowest index in S where substring sub is found,\n",
      "    such that sub is contained within S[start:end].  Optional\n",
      "    arguments start and end are interpreted as in slice notation.\n",
      "\n",
      "    Return -1 on failure.\n",
      "\n"
     ]
    }
   ],
   "source": [
    "help(test_string.find)"
   ]
  },
  {
   "cell_type": "code",
   "execution_count": 74,
   "id": "169da97f-949d-460a-88c8-51f2705cfeb7",
   "metadata": {},
   "outputs": [
    {
     "data": {
      "text/plain": [
       "64"
      ]
     },
     "execution_count": 74,
     "metadata": {},
     "output_type": "execute_result"
    }
   ],
   "source": [
    "test_string.find('pynb'.upper())"
   ]
  },
  {
   "cell_type": "code",
   "execution_count": 76,
   "id": "b5f10b62-112c-4aa4-af19-a3f81466a57a",
   "metadata": {},
   "outputs": [
    {
     "data": {
      "text/plain": [
       "'PYNB'"
      ]
     },
     "execution_count": 76,
     "metadata": {},
     "output_type": "execute_result"
    }
   ],
   "source": [
    "test_string[64:]"
   ]
  },
  {
   "cell_type": "code",
   "execution_count": 77,
   "id": "3bd84a9b-a475-4d1f-912d-e0300510d596",
   "metadata": {},
   "outputs": [
    {
     "name": "stdout",
     "output_type": "stream",
     "text": [
      "Help on built-in function replace:\n",
      "\n",
      "replace(old, new, count=-1, /) method of builtins.str instance\n",
      "    Return a copy with all occurrences of substring old replaced by new.\n",
      "\n",
      "      count\n",
      "        Maximum number of occurrences to replace.\n",
      "        -1 (the default value) means replace all occurrences.\n",
      "\n",
      "    If the optional argument count is given, only the first count occurrences are\n",
      "    replaced.\n",
      "\n"
     ]
    }
   ],
   "source": [
    "help(test_string.replace)"
   ]
  },
  {
   "cell_type": "code",
   "execution_count": 81,
   "id": "1aa89ec2-de56-4e54-b2a7-5a0dc7956acf",
   "metadata": {},
   "outputs": [
    {
     "data": {
      "text/plain": [
       "\"This is my newest test\\nstring\\nthat I'm using for this practice IPYNB\""
      ]
     },
     "execution_count": 81,
     "metadata": {},
     "output_type": "execute_result"
    }
   ],
   "source": [
    "test_string"
   ]
  },
  {
   "cell_type": "code",
   "execution_count": 82,
   "id": "562fd722-b53b-4822-b0f9-0186eb93980b",
   "metadata": {},
   "outputs": [
    {
     "data": {
      "text/plain": [
       "\"This is my newest test string that I'm using for this practice IPYNB\""
      ]
     },
     "execution_count": 82,
     "metadata": {},
     "output_type": "execute_result"
    }
   ],
   "source": [
    "test_string.replace('\\n', ' ')"
   ]
  },
  {
   "cell_type": "code",
   "execution_count": 83,
   "id": "8b03276a-43b3-42cd-92f9-d3961857a640",
   "metadata": {},
   "outputs": [
    {
     "data": {
      "text/plain": [
       "\"This is my newest test\\nstring\\nthat I'm using for this practice IPYNB\""
      ]
     },
     "execution_count": 83,
     "metadata": {},
     "output_type": "execute_result"
    }
   ],
   "source": [
    "test_string"
   ]
  },
  {
   "cell_type": "code",
   "execution_count": 85,
   "id": "f3bcd842-b6c3-4576-90b5-43b956b92f39",
   "metadata": {},
   "outputs": [],
   "source": [
    "some_other_test_string = test_string.replace('\\n', ' ')\n",
    "some_other_test_string_list = some_other_test_string.split()"
   ]
  },
  {
   "cell_type": "code",
   "execution_count": 88,
   "id": "d75ccf07-baa7-4650-91b2-59e5505128a2",
   "metadata": {},
   "outputs": [
    {
     "name": "stdout",
     "output_type": "stream",
     "text": [
      "Help on built-in function startswith:\n",
      "\n",
      "startswith(...) method of builtins.str instance\n",
      "    S.startswith(prefix[, start[, end]]) -> bool\n",
      "\n",
      "    Return True if S starts with the specified prefix, False otherwise.\n",
      "    With optional start, test S beginning at that position.\n",
      "    With optional end, stop comparing S at that position.\n",
      "    prefix can also be a tuple of strings to try.\n",
      "\n"
     ]
    }
   ],
   "source": [
    "help(some_other_test_string.startswith)"
   ]
  },
  {
   "cell_type": "code",
   "execution_count": 94,
   "id": "a4d57632-8b55-4215-b17d-d517ba79c3c9",
   "metadata": {},
   "outputs": [
    {
     "name": "stdout",
     "output_type": "stream",
     "text": [
      "True False\n"
     ]
    }
   ],
   "source": [
    "print(some_other_test_string.startswith('This'),\n",
    "some_other_test_string.endswith('This'))"
   ]
  },
  {
   "cell_type": "code",
   "execution_count": 95,
   "id": "87d02671-a39b-45da-b207-e3806bdabbb6",
   "metadata": {},
   "outputs": [
    {
     "name": "stdout",
     "output_type": "stream",
     "text": [
      "False False\n"
     ]
    }
   ],
   "source": [
    "print(some_other_test_string.startswith('this'),\n",
    "some_other_test_string.endswith('this'))"
   ]
  },
  {
   "cell_type": "code",
   "execution_count": 96,
   "id": "86621ef6-638e-47c5-8dd0-2e64a745c4eb",
   "metadata": {},
   "outputs": [
    {
     "name": "stdout",
     "output_type": "stream",
     "text": [
      "False False\n"
     ]
    }
   ],
   "source": [
    "print(some_other_test_string.startswith('ipynb'),\n",
    "some_other_test_string.endswith('ipynb'))"
   ]
  },
  {
   "cell_type": "code",
   "execution_count": 97,
   "id": "c2addad3-0370-43a2-bc5d-701db254bb1a",
   "metadata": {},
   "outputs": [
    {
     "name": "stdout",
     "output_type": "stream",
     "text": [
      "False True\n"
     ]
    }
   ],
   "source": [
    "print(some_other_test_string.startswith('ipynb'.upper()),\n",
    "some_other_test_string.endswith('ipynb'.upper()))"
   ]
  },
  {
   "cell_type": "code",
   "execution_count": 98,
   "id": "cc0372ee-dbb2-4cb4-8d64-4a2decae89fb",
   "metadata": {},
   "outputs": [
    {
     "name": "stdout",
     "output_type": "stream",
     "text": [
      "Help on built-in function islower:\n",
      "\n",
      "islower() method of builtins.str instance\n",
      "    Return True if the string is a lowercase string, False otherwise.\n",
      "\n",
      "    A string is lowercase if all cased characters in the string are lowercase and\n",
      "    there is at least one cased character in the string.\n",
      "\n",
      "Help on built-in function isupper:\n",
      "\n",
      "isupper() method of builtins.str instance\n",
      "    Return True if the string is an uppercase string, False otherwise.\n",
      "\n",
      "    A string is uppercase if all cased characters in the string are uppercase and\n",
      "    there is at least one cased character in the string.\n",
      "\n",
      "None None\n"
     ]
    }
   ],
   "source": [
    "print(help(some_other_test_string.islower), help(some_other_test_string.isupper))"
   ]
  },
  {
   "cell_type": "code",
   "execution_count": 99,
   "id": "91cffa41-cb56-4e23-94f0-f8aa93a07f05",
   "metadata": {},
   "outputs": [
    {
     "name": "stdout",
     "output_type": "stream",
     "text": [
      "Help on built-in function islower:\n",
      "\n",
      "islower() method of builtins.str instance\n",
      "    Return True if the string is a lowercase string, False otherwise.\n",
      "\n",
      "    A string is lowercase if all cased characters in the string are lowercase and\n",
      "    there is at least one cased character in the string.\n",
      "\n",
      "Help on built-in function isupper:\n",
      "\n",
      "isupper() method of builtins.str instance\n",
      "    Return True if the string is an uppercase string, False otherwise.\n",
      "\n",
      "    A string is uppercase if all cased characters in the string are uppercase and\n",
      "    there is at least one cased character in the string.\n",
      "\n"
     ]
    },
    {
     "data": {
      "text/plain": [
       "(None, None)"
      ]
     },
     "execution_count": 99,
     "metadata": {},
     "output_type": "execute_result"
    }
   ],
   "source": [
    "help(some_other_test_string.islower), help(some_other_test_string.isupper)"
   ]
  },
  {
   "cell_type": "code",
   "execution_count": 100,
   "id": "ed3392ee-80db-41f7-9ebf-30ca35b92b44",
   "metadata": {},
   "outputs": [
    {
     "name": "stdout",
     "output_type": "stream",
     "text": [
      "Help on built-in function islower:\n",
      "\n",
      "islower() method of builtins.str instance\n",
      "    Return True if the string is a lowercase string, False otherwise.\n",
      "\n",
      "    A string is lowercase if all cased characters in the string are lowercase and\n",
      "    there is at least one cased character in the string.\n",
      "\n",
      "Help on built-in function isupper:\n",
      "\n",
      "isupper() method of builtins.str instance\n",
      "    Return True if the string is an uppercase string, False otherwise.\n",
      "\n",
      "    A string is uppercase if all cased characters in the string are uppercase and\n",
      "    there is at least one cased character in the string.\n",
      "\n"
     ]
    }
   ],
   "source": [
    "help(some_other_test_string.islower)\n",
    "help(some_other_test_string.isupper)"
   ]
  },
  {
   "cell_type": "code",
   "execution_count": 103,
   "id": "477c7639-791b-41a3-8672-56b7e86961ff",
   "metadata": {},
   "outputs": [
    {
     "name": "stdout",
     "output_type": "stream",
     "text": [
      "Help on built-in function isalpha:\n",
      "\n",
      "isalpha() method of builtins.str instance\n",
      "    Return True if the string is an alphabetic string, False otherwise.\n",
      "\n",
      "    A string is alphabetic if all characters in the string are alphabetic and there\n",
      "    is at least one character in the string.\n",
      "\n",
      "Help on built-in function isalnum:\n",
      "\n",
      "isalnum() method of builtins.str instance\n",
      "    Return True if the string is an alpha-numeric string, False otherwise.\n",
      "\n",
      "    A string is alpha-numeric if all characters in the string are alpha-numeric and\n",
      "    there is at least one character in the string.\n",
      "\n"
     ]
    }
   ],
   "source": [
    "help(some_other_test_string.isalpha) \n",
    "help(some_other_test_string.isalnum)"
   ]
  },
  {
   "cell_type": "code",
   "execution_count": 104,
   "id": "7ddc5e3b-89ea-4484-bbb1-22c9706ce5ee",
   "metadata": {},
   "outputs": [],
   "source": [
    "newer_string = \"@$#\"\n",
    "older_string = \"Hello world\"\n",
    "num_string = \"1234\""
   ]
  },
  {
   "cell_type": "code",
   "execution_count": 106,
   "id": "7f429abc-32cc-4dce-90c9-ac7a49e97161",
   "metadata": {},
   "outputs": [
    {
     "data": {
      "text/plain": [
       "False"
      ]
     },
     "execution_count": 106,
     "metadata": {},
     "output_type": "execute_result"
    }
   ],
   "source": [
    "newer_string.isalnum()"
   ]
  },
  {
   "cell_type": "code",
   "execution_count": 107,
   "id": "9d070d0d-0288-45fb-ba38-824baada7bf9",
   "metadata": {},
   "outputs": [
    {
     "data": {
      "text/plain": [
       "False"
      ]
     },
     "execution_count": 107,
     "metadata": {},
     "output_type": "execute_result"
    }
   ],
   "source": [
    "older_string.isalnum()"
   ]
  },
  {
   "cell_type": "code",
   "execution_count": 111,
   "id": "b6c108c1-7ba4-4039-aa78-1b3fe6e83100",
   "metadata": {},
   "outputs": [
    {
     "data": {
      "text/plain": [
       "False"
      ]
     },
     "execution_count": 111,
     "metadata": {},
     "output_type": "execute_result"
    }
   ],
   "source": [
    "' '.isalnum()"
   ]
  },
  {
   "cell_type": "code",
   "execution_count": 112,
   "id": "3310bfa6-b00c-429d-a760-4946e8ec019a",
   "metadata": {},
   "outputs": [],
   "source": [
    "another_older_string = \"Helloworld\""
   ]
  },
  {
   "cell_type": "code",
   "execution_count": 113,
   "id": "e8a8d939-86c9-466f-ba2b-77697324d1cc",
   "metadata": {},
   "outputs": [
    {
     "data": {
      "text/plain": [
       "True"
      ]
     },
     "execution_count": 113,
     "metadata": {},
     "output_type": "execute_result"
    }
   ],
   "source": [
    "another_older_string.isalnum()"
   ]
  },
  {
   "cell_type": "code",
   "execution_count": 114,
   "id": "b19cbe7c-544c-46b3-8eeb-c399b084a74c",
   "metadata": {},
   "outputs": [
    {
     "data": {
      "text/plain": [
       "True"
      ]
     },
     "execution_count": 114,
     "metadata": {},
     "output_type": "execute_result"
    }
   ],
   "source": [
    "num_string.isdigit()"
   ]
  },
  {
   "cell_type": "code",
   "execution_count": null,
   "id": "e34ef768-57b6-4637-81c2-8117eeb06030",
   "metadata": {},
   "outputs": [],
   "source": []
  }
 ],
 "metadata": {
  "kernelspec": {
   "display_name": "Python 3 (ipykernel)",
   "language": "python",
   "name": "python3"
  },
  "language_info": {
   "codemirror_mode": {
    "name": "ipython",
    "version": 3
   },
   "file_extension": ".py",
   "mimetype": "text/x-python",
   "name": "python",
   "nbconvert_exporter": "python",
   "pygments_lexer": "ipython3",
   "version": "3.12.10"
  }
 },
 "nbformat": 4,
 "nbformat_minor": 5
}
